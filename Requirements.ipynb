{
  "nbformat": 4,
  "nbformat_minor": 0,
  "metadata": {
    "colab": {
      "name": "Requirements.ipynb",
      "provenance": [],
      "authorship_tag": "ABX9TyPAvT4HEbfF2oJdX7zE38fy",
      "include_colab_link": true
    },
    "kernelspec": {
      "name": "python3",
      "display_name": "Python 3"
    }
  },
  "cells": [
    {
      "cell_type": "markdown",
      "metadata": {
        "id": "view-in-github",
        "colab_type": "text"
      },
      "source": [
        "<a href=\"https://colab.research.google.com/github/obeabi/SdsNovember2020Challenge/blob/main/Requirements.ipynb\" target=\"_parent\"><img src=\"https://colab.research.google.com/assets/colab-badge.svg\" alt=\"Open In Colab\"/></a>"
      ]
    },
    {
      "cell_type": "markdown",
      "metadata": {
        "id": "nxsSdSwe1vAl"
      },
      "source": [
        "# Written by Abiola Obembe\r\n",
        "# SDS October Challenge #3 - Fraudulent Job Adverts\r\n",
        "## 2021-01-17"
      ]
    },
    {
      "cell_type": "markdown",
      "metadata": {
        "id": "2iVyReyl1_uf"
      },
      "source": [
        "## Problem Statement\r\n",
        "Welcome Data Scientist to the 3rd SDS Club Monthly Challenge! In this month’s challenge you are helping your friend search for a job. Your friend has found thousands of job ads online and is trying to pick some to apply to. Your friends has heard that there are a lot of fraudulent job ads that are actually scams. Your mission is to help your friend by predicting whether a job is fraudulent based on the data provided.\r\n",
        "\r\n",
        "## Evaluation\r\n",
        "$$\\begin{equation*}\r\n",
        "accuracy = \\frac{TP + TN}{TP + TN + FP + FN}\r\n",
        "\\end{equation*}$$\r\n",
        "\r\n",
        "\r\n",
        "\r\n",
        "## Understanding the Dataset\r\n",
        "Each column in the dataset is labeled and explained in more detail below.\r\n",
        "\r\n",
        "\r\n",
        "1.   title- title of the job in ad\r\n",
        "2.   Location- location of job\r\n",
        "3.   department- corporate department\r\n",
        "4.   salary_range - salary range of job\r\n",
        "5.   company profile - description of company\r\n",
        "6.   description – description of position\r\n",
        "7.   requirements – description of job requirements\r\n",
        "8.   benefits – benefits offered by the employer\r\n",
        "9.   telecommuting – if telecommuting position\r\n",
        "10.   has_company_logo – if the company’s logo is present in the ad\r\n",
        "11.   has_questions – if interview questions are present in ad\r\n",
        "12.   employment_type – type of employment (full-time, part-time, contract, etc)\r\n",
        "13.   required_experience – required experience for job (master’s degree bachelor, doctorate, etc.)\r\n",
        "14.   industry – industry of company (Construction, Health Care, IT, etc.)\r\n",
        "15.   function – function of company within industry (consulting, sales, research, etc.)\r\n",
        "16.   fraudulent – whether job is fraudulent or not\r\n",
        "\r\n",
        "\r\n",
        "\r\n",
        "\r\n",
        "\r\n",
        "## Dataset Files\r\n",
        "\r\n",
        "\r\n",
        "*   public_jobs.csv – Dataset to train and analyze\r\n",
        "*   pred_jobs.csv – Dataset to predict whether or not a job posting is    fraudulent"
      ]
    }
  ]
}