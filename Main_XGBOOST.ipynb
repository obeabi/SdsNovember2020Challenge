{
  "nbformat": 4,
  "nbformat_minor": 0,
  "metadata": {
    "colab": {
      "name": "Main_XGBOOST.ipynb",
      "provenance": [],
      "toc_visible": true,
      "authorship_tag": "ABX9TyOTyTeT7CAXy4bsD+xhIAYc",
      "include_colab_link": true
    },
    "kernelspec": {
      "name": "python3",
      "display_name": "Python 3"
    }
  },
  "cells": [
    {
      "cell_type": "markdown",
      "metadata": {
        "id": "view-in-github",
        "colab_type": "text"
      },
      "source": [
        "<a href=\"https://colab.research.google.com/github/obeabi/SdsNovember2020Challenge/blob/main/Main_XGBOOST.ipynb\" target=\"_parent\"><img src=\"https://colab.research.google.com/assets/colab-badge.svg\" alt=\"Open In Colab\"/></a>"
      ]
    },
    {
      "cell_type": "markdown",
      "metadata": {
        "id": "Rr3ZLSgXPUn0"
      },
      "source": [
        "# Written by Abiola Obembe\r\n",
        "# SDS October Challenge #3 - Fraudulent Job Adverts\r\n",
        "## 2021-01-22\r\n",
        "\r\n",
        "### Using xgboost Classifier ALGORTHIM"
      ]
    },
    {
      "cell_type": "markdown",
      "metadata": {
        "id": "LtcBcsk5PgoA"
      },
      "source": [
        "## Problem Statement\r\n",
        "Welcome Data Scientist to the 3rd SDS Club Monthly Challenge! In this month’s challenge you are helping your friend search for a job. Your friend has found thousands of job ads online and is trying to pick some to apply to. Your friends has heard that there are a lot of fraudulent job ads that are actually scams. Your mission is to help your friend by predicting whether a job is fraudulent based on the data provided."
      ]
    },
    {
      "cell_type": "code",
      "metadata": {
        "colab": {
          "base_uri": "https://localhost:8080/"
        },
        "id": "C5gZ6cLTPxyu",
        "outputId": "382e720a-5373-441b-9ee1-5d9d6961bf9c"
      },
      "source": [
        "# Importing the libraries\r\n",
        "import numpy as np\r\n",
        "import matplotlib.pyplot as plt\r\n",
        "import pandas as pd\r\n",
        "import seaborn as sns\r\n",
        "!pip install imbalanced-learn\r\n",
        "from sklearn.model_selection import GridSearchCV\r\n",
        "import xgboost\r\n",
        "from xgboost import XGBClassifier\r\n",
        "\r\n",
        "\r\n",
        "%matplotlib inline\r\n",
        "plt.rcParams['figure.figsize'] = (5.0, 4.0) # set default size of plots\r\n",
        "plt.rcParams['image.interpolation'] = 'nearest'\r\n",
        "plt.rcParams['image.cmap'] = 'gray'\r\n",
        "\r\n",
        "print('Libraries installed successfully!')\r\n",
        "\r\n",
        "np.random.seed(0)"
      ],
      "execution_count": 145,
      "outputs": [
        {
          "output_type": "stream",
          "text": [
            "Requirement already satisfied: imbalanced-learn in /usr/local/lib/python3.6/dist-packages (0.4.3)\n",
            "Requirement already satisfied: scikit-learn>=0.20 in /usr/local/lib/python3.6/dist-packages (from imbalanced-learn) (0.22.2.post1)\n",
            "Requirement already satisfied: scipy>=0.13.3 in /usr/local/lib/python3.6/dist-packages (from imbalanced-learn) (1.4.1)\n",
            "Requirement already satisfied: numpy>=1.8.2 in /usr/local/lib/python3.6/dist-packages (from imbalanced-learn) (1.19.5)\n",
            "Requirement already satisfied: joblib>=0.11 in /usr/local/lib/python3.6/dist-packages (from scikit-learn>=0.20->imbalanced-learn) (1.0.0)\n",
            "Libraries installed successfully!\n"
          ],
          "name": "stdout"
        }
      ]
    },
    {
      "cell_type": "code",
      "metadata": {
        "colab": {
          "base_uri": "https://localhost:8080/",
          "height": 215
        },
        "id": "ulTHtazpQAN5",
        "outputId": "dec24ba3-f678-4661-8b17-fb8d0bd7a40a"
      },
      "source": [
        "# Importing the dataset and check the shape and total number of missing values\r\n",
        "\r\n",
        "df_train = pd.read_csv('df_train.csv')\r\n",
        "df_test = pd.read_csv('df_test.csv')\r\n",
        "\r\n",
        "df_train.head()"
      ],
      "execution_count": 146,
      "outputs": [
        {
          "output_type": "execute_result",
          "data": {
            "text/html": [
              "<div>\n",
              "<style scoped>\n",
              "    .dataframe tbody tr th:only-of-type {\n",
              "        vertical-align: middle;\n",
              "    }\n",
              "\n",
              "    .dataframe tbody tr th {\n",
              "        vertical-align: top;\n",
              "    }\n",
              "\n",
              "    .dataframe thead th {\n",
              "        text-align: right;\n",
              "    }\n",
              "</style>\n",
              "<table border=\"1\" class=\"dataframe\">\n",
              "  <thead>\n",
              "    <tr style=\"text-align: right;\">\n",
              "      <th></th>\n",
              "      <th>telecommuting</th>\n",
              "      <th>has_company_logo</th>\n",
              "      <th>has_questions</th>\n",
              "      <th>fraudulent</th>\n",
              "      <th>department_ind</th>\n",
              "      <th>salary_range_ind</th>\n",
              "      <th>company_profile_ind</th>\n",
              "      <th>description_ind</th>\n",
              "      <th>requirements_ind</th>\n",
              "      <th>benefits_ind</th>\n",
              "      <th>employment_type_ind</th>\n",
              "      <th>required_experience_ind</th>\n",
              "      <th>required_education_ind</th>\n",
              "      <th>industry_ind</th>\n",
              "      <th>function_ind</th>\n",
              "    </tr>\n",
              "  </thead>\n",
              "  <tbody>\n",
              "    <tr>\n",
              "      <th>0</th>\n",
              "      <td>0</td>\n",
              "      <td>1</td>\n",
              "      <td>1</td>\n",
              "      <td>0</td>\n",
              "      <td>1</td>\n",
              "      <td>1</td>\n",
              "      <td>1</td>\n",
              "      <td>1</td>\n",
              "      <td>0</td>\n",
              "      <td>0</td>\n",
              "      <td>1</td>\n",
              "      <td>1</td>\n",
              "      <td>0</td>\n",
              "      <td>1</td>\n",
              "      <td>1</td>\n",
              "    </tr>\n",
              "    <tr>\n",
              "      <th>1</th>\n",
              "      <td>0</td>\n",
              "      <td>1</td>\n",
              "      <td>1</td>\n",
              "      <td>0</td>\n",
              "      <td>1</td>\n",
              "      <td>0</td>\n",
              "      <td>1</td>\n",
              "      <td>1</td>\n",
              "      <td>1</td>\n",
              "      <td>0</td>\n",
              "      <td>1</td>\n",
              "      <td>0</td>\n",
              "      <td>0</td>\n",
              "      <td>1</td>\n",
              "      <td>1</td>\n",
              "    </tr>\n",
              "    <tr>\n",
              "      <th>2</th>\n",
              "      <td>0</td>\n",
              "      <td>1</td>\n",
              "      <td>1</td>\n",
              "      <td>0</td>\n",
              "      <td>1</td>\n",
              "      <td>1</td>\n",
              "      <td>1</td>\n",
              "      <td>1</td>\n",
              "      <td>1</td>\n",
              "      <td>1</td>\n",
              "      <td>1</td>\n",
              "      <td>1</td>\n",
              "      <td>1</td>\n",
              "      <td>1</td>\n",
              "      <td>1</td>\n",
              "    </tr>\n",
              "    <tr>\n",
              "      <th>3</th>\n",
              "      <td>0</td>\n",
              "      <td>0</td>\n",
              "      <td>0</td>\n",
              "      <td>1</td>\n",
              "      <td>0</td>\n",
              "      <td>1</td>\n",
              "      <td>0</td>\n",
              "      <td>1</td>\n",
              "      <td>0</td>\n",
              "      <td>0</td>\n",
              "      <td>1</td>\n",
              "      <td>1</td>\n",
              "      <td>1</td>\n",
              "      <td>1</td>\n",
              "      <td>1</td>\n",
              "    </tr>\n",
              "    <tr>\n",
              "      <th>4</th>\n",
              "      <td>0</td>\n",
              "      <td>1</td>\n",
              "      <td>0</td>\n",
              "      <td>0</td>\n",
              "      <td>1</td>\n",
              "      <td>1</td>\n",
              "      <td>1</td>\n",
              "      <td>1</td>\n",
              "      <td>1</td>\n",
              "      <td>1</td>\n",
              "      <td>1</td>\n",
              "      <td>1</td>\n",
              "      <td>1</td>\n",
              "      <td>1</td>\n",
              "      <td>1</td>\n",
              "    </tr>\n",
              "  </tbody>\n",
              "</table>\n",
              "</div>"
            ],
            "text/plain": [
              "   telecommuting  has_company_logo  ...  industry_ind  function_ind\n",
              "0              0                 1  ...             1             1\n",
              "1              0                 1  ...             1             1\n",
              "2              0                 1  ...             1             1\n",
              "3              0                 0  ...             1             1\n",
              "4              0                 1  ...             1             1\n",
              "\n",
              "[5 rows x 15 columns]"
            ]
          },
          "metadata": {
            "tags": []
          },
          "execution_count": 146
        }
      ]
    },
    {
      "cell_type": "code",
      "metadata": {
        "colab": {
          "base_uri": "https://localhost:8080/"
        },
        "id": "e9Y13MDLQRrD",
        "outputId": "5a8aa36a-75f0-408d-850e-95e11a8cf8a1"
      },
      "source": [
        "# print column names\r\n",
        "print(df_train.columns)\r\n",
        "print(df_train.shape)"
      ],
      "execution_count": 147,
      "outputs": [
        {
          "output_type": "stream",
          "text": [
            "Index(['telecommuting', 'has_company_logo', 'has_questions', 'fraudulent',\n",
            "       'department_ind', 'salary_range_ind', 'company_profile_ind',\n",
            "       'description_ind', 'requirements_ind', 'benefits_ind',\n",
            "       'employment_type_ind', 'required_experience_ind',\n",
            "       'required_education_ind', 'industry_ind', 'function_ind'],\n",
            "      dtype='object')\n",
            "(14304, 15)\n"
          ],
          "name": "stdout"
        }
      ]
    },
    {
      "cell_type": "code",
      "metadata": {
        "colab": {
          "base_uri": "https://localhost:8080/",
          "height": 295
        },
        "id": "1T7FGhwJQtqD",
        "outputId": "0d9739af-896e-4ed6-cd17-6eb00c0708f3"
      },
      "source": [
        "# Let's visualize the distribution of data\r\n",
        "count_classes = pd.value_counts(df_train['fraudulent'], sort = True)\r\n",
        "count_classes.plot(kind = 'bar', rot = 0)\r\n",
        "plt.title(\"Fraudulent Job Distribution\")\r\n",
        "plt.xticks(range(2))\r\n",
        "plt.xlabel(\"Fraudulent\")\r\n",
        "plt.ylabel('Frequency')\r\n",
        "plt.show()"
      ],
      "execution_count": 148,
      "outputs": [
        {
          "output_type": "display_data",
          "data": {
            "image/png": "[encoded data removed]",
            "text/plain": [
              "<Figure size 360x288 with 1 Axes>"
            ]
          },
          "metadata": {
            "tags": [],
            "needs_background": "light"
          }
        }
      ]
    },
    {
      "cell_type": "code",
      "metadata": {
        "colab": {
          "base_uri": "https://localhost:8080/"
        },
        "id": "dSATW7jJQUYu",
        "outputId": "e2d0dacc-b57c-4e5c-8889-40dfc90a922e"
      },
      "source": [
        "# gET THE CANCELLED AND NOT CANCEELED FLIFGTS\r\n",
        "Fraud = df_train[df_train['fraudulent']== 1]\r\n",
        "notFraud = df_train[df_train['fraudulent']== 0]\r\n",
        "\r\n",
        "print(Fraud.shape, notFraud.shape)"
      ],
      "execution_count": 149,
      "outputs": [
        {
          "output_type": "stream",
          "text": [
            "(709, 15) (13595, 15)\n"
          ],
          "name": "stdout"
        }
      ]
    },
    {
      "cell_type": "code",
      "metadata": {
        "colab": {
          "base_uri": "https://localhost:8080/"
        },
        "id": "5Fh99qiWSb7C",
        "outputId": "e5417134-a504-4ae0-ce4a-aadd6523516c"
      },
      "source": [
        "13595/709"
      ],
      "execution_count": 150,
      "outputs": [
        {
          "output_type": "execute_result",
          "data": {
            "text/plain": [
              "19.174894217207335"
            ]
          },
          "metadata": {
            "tags": []
          },
          "execution_count": 150
        }
      ]
    },
    {
      "cell_type": "code",
      "metadata": {
        "colab": {
          "base_uri": "https://localhost:8080/",
          "height": 215
        },
        "id": "Z8gJdEYsQ_d0",
        "outputId": "b2f5ff8d-2d8d-4c2a-8a62-380dd71302d5"
      },
      "source": [
        "# Extract features and target from train set dataframe\r\n",
        "y = df_train.fraudulent.values.ravel()\r\n",
        "X = df_train.drop(columns= ['fraudulent'], axis = 1)\r\n",
        "\r\n",
        "X.head()"
      ],
      "execution_count": 151,
      "outputs": [
        {
          "output_type": "execute_result",
          "data": {
            "text/html": [
              "<div>\n",
              "<style scoped>\n",
              "    .dataframe tbody tr th:only-of-type {\n",
              "        vertical-align: middle;\n",
              "    }\n",
              "\n",
              "    .dataframe tbody tr th {\n",
              "        vertical-align: top;\n",
              "    }\n",
              "\n",
              "    .dataframe thead th {\n",
              "        text-align: right;\n",
              "    }\n",
              "</style>\n",
              "<table border=\"1\" class=\"dataframe\">\n",
              "  <thead>\n",
              "    <tr style=\"text-align: right;\">\n",
              "      <th></th>\n",
              "      <th>telecommuting</th>\n",
              "      <th>has_company_logo</th>\n",
              "      <th>has_questions</th>\n",
              "      <th>department_ind</th>\n",
              "      <th>salary_range_ind</th>\n",
              "      <th>company_profile_ind</th>\n",
              "      <th>description_ind</th>\n",
              "      <th>requirements_ind</th>\n",
              "      <th>benefits_ind</th>\n",
              "      <th>employment_type_ind</th>\n",
              "      <th>required_experience_ind</th>\n",
              "      <th>required_education_ind</th>\n",
              "      <th>industry_ind</th>\n",
              "      <th>function_ind</th>\n",
              "    </tr>\n",
              "  </thead>\n",
              "  <tbody>\n",
              "    <tr>\n",
              "      <th>0</th>\n",
              "      <td>0</td>\n",
              "      <td>1</td>\n",
              "      <td>1</td>\n",
              "      <td>1</td>\n",
              "      <td>1</td>\n",
              "      <td>1</td>\n",
              "      <td>1</td>\n",
              "      <td>0</td>\n",
              "      <td>0</td>\n",
              "      <td>1</td>\n",
              "      <td>1</td>\n",
              "      <td>0</td>\n",
              "      <td>1</td>\n",
              "      <td>1</td>\n",
              "    </tr>\n",
              "    <tr>\n",
              "      <th>1</th>\n",
              "      <td>0</td>\n",
              "      <td>1</td>\n",
              "      <td>1</td>\n",
              "      <td>1</td>\n",
              "      <td>0</td>\n",
              "      <td>1</td>\n",
              "      <td>1</td>\n",
              "      <td>1</td>\n",
              "      <td>0</td>\n",
              "      <td>1</td>\n",
              "      <td>0</td>\n",
              "      <td>0</td>\n",
              "      <td>1</td>\n",
              "      <td>1</td>\n",
              "    </tr>\n",
              "    <tr>\n",
              "      <th>2</th>\n",
              "      <td>0</td>\n",
              "      <td>1</td>\n",
              "      <td>1</td>\n",
              "      <td>1</td>\n",
              "      <td>1</td>\n",
              "      <td>1</td>\n",
              "      <td>1</td>\n",
              "      <td>1</td>\n",
              "      <td>1</td>\n",
              "      <td>1</td>\n",
              "      <td>1</td>\n",
              "      <td>1</td>\n",
              "      <td>1</td>\n",
              "      <td>1</td>\n",
              "    </tr>\n",
              "    <tr>\n",
              "      <th>3</th>\n",
              "      <td>0</td>\n",
              "      <td>0</td>\n",
              "      <td>0</td>\n",
              "      <td>0</td>\n",
              "      <td>1</td>\n",
              "      <td>0</td>\n",
              "      <td>1</td>\n",
              "      <td>0</td>\n",
              "      <td>0</td>\n",
              "      <td>1</td>\n",
              "      <td>1</td>\n",
              "      <td>1</td>\n",
              "      <td>1</td>\n",
              "      <td>1</td>\n",
              "    </tr>\n",
              "    <tr>\n",
              "      <th>4</th>\n",
              "      <td>0</td>\n",
              "      <td>1</td>\n",
              "      <td>0</td>\n",
              "      <td>1</td>\n",
              "      <td>1</td>\n",
              "      <td>1</td>\n",
              "      <td>1</td>\n",
              "      <td>1</td>\n",
              "      <td>1</td>\n",
              "      <td>1</td>\n",
              "      <td>1</td>\n",
              "      <td>1</td>\n",
              "      <td>1</td>\n",
              "      <td>1</td>\n",
              "    </tr>\n",
              "  </tbody>\n",
              "</table>\n",
              "</div>"
            ],
            "text/plain": [
              "   telecommuting  has_company_logo  ...  industry_ind  function_ind\n",
              "0              0                 1  ...             1             1\n",
              "1              0                 1  ...             1             1\n",
              "2              0                 1  ...             1             1\n",
              "3              0                 0  ...             1             1\n",
              "4              0                 1  ...             1             1\n",
              "\n",
              "[5 rows x 14 columns]"
            ]
          },
          "metadata": {
            "tags": []
          },
          "execution_count": 151
        }
      ]
    },
    {
      "cell_type": "code",
      "metadata": {
        "colab": {
          "base_uri": "https://localhost:8080/"
        },
        "id": "SsnfakX5Re-u",
        "outputId": "5fc76d50-f10d-4f3a-a0fa-4f73c6298ac6"
      },
      "source": [
        "# print first five rows target column\r\n",
        "y[0:5]"
      ],
      "execution_count": 152,
      "outputs": [
        {
          "output_type": "execute_result",
          "data": {
            "text/plain": [
              "array([0, 0, 0, 1, 0])"
            ]
          },
          "metadata": {
            "tags": []
          },
          "execution_count": 152
        }
      ]
    },
    {
      "cell_type": "code",
      "metadata": {
        "colab": {
          "base_uri": "https://localhost:8080/",
          "height": 215
        },
        "id": "zMr0NwwaRmVL",
        "outputId": "9b3dfdf3-3f21-435a-cb47-2fca81f29c72"
      },
      "source": [
        "# Split data to train and test set\r\n",
        "from sklearn.model_selection import train_test_split\r\n",
        "X_train, X_valid, y_train, y_valid = train_test_split(X, y, train_size=0.8, test_size=0.2, random_state=0)\r\n",
        "\r\n",
        "# Organize train set\r\n",
        "X_train.head()"
      ],
      "execution_count": 153,
      "outputs": [
        {
          "output_type": "execute_result",
          "data": {
            "text/html": [
              "<div>\n",
              "<style scoped>\n",
              "    .dataframe tbody tr th:only-of-type {\n",
              "        vertical-align: middle;\n",
              "    }\n",
              "\n",
              "    .dataframe tbody tr th {\n",
              "        vertical-align: top;\n",
              "    }\n",
              "\n",
              "    .dataframe thead th {\n",
              "        text-align: right;\n",
              "    }\n",
              "</style>\n",
              "<table border=\"1\" class=\"dataframe\">\n",
              "  <thead>\n",
              "    <tr style=\"text-align: right;\">\n",
              "      <th></th>\n",
              "      <th>telecommuting</th>\n",
              "      <th>has_company_logo</th>\n",
              "      <th>has_questions</th>\n",
              "      <th>department_ind</th>\n",
              "      <th>salary_range_ind</th>\n",
              "      <th>company_profile_ind</th>\n",
              "      <th>description_ind</th>\n",
              "      <th>requirements_ind</th>\n",
              "      <th>benefits_ind</th>\n",
              "      <th>employment_type_ind</th>\n",
              "      <th>required_experience_ind</th>\n",
              "      <th>required_education_ind</th>\n",
              "      <th>industry_ind</th>\n",
              "      <th>function_ind</th>\n",
              "    </tr>\n",
              "  </thead>\n",
              "  <tbody>\n",
              "    <tr>\n",
              "      <th>144</th>\n",
              "      <td>0</td>\n",
              "      <td>1</td>\n",
              "      <td>0</td>\n",
              "      <td>0</td>\n",
              "      <td>0</td>\n",
              "      <td>1</td>\n",
              "      <td>1</td>\n",
              "      <td>1</td>\n",
              "      <td>1</td>\n",
              "      <td>1</td>\n",
              "      <td>1</td>\n",
              "      <td>1</td>\n",
              "      <td>1</td>\n",
              "      <td>1</td>\n",
              "    </tr>\n",
              "    <tr>\n",
              "      <th>2663</th>\n",
              "      <td>0</td>\n",
              "      <td>1</td>\n",
              "      <td>1</td>\n",
              "      <td>0</td>\n",
              "      <td>0</td>\n",
              "      <td>1</td>\n",
              "      <td>1</td>\n",
              "      <td>1</td>\n",
              "      <td>1</td>\n",
              "      <td>1</td>\n",
              "      <td>1</td>\n",
              "      <td>0</td>\n",
              "      <td>1</td>\n",
              "      <td>1</td>\n",
              "    </tr>\n",
              "    <tr>\n",
              "      <th>10005</th>\n",
              "      <td>0</td>\n",
              "      <td>0</td>\n",
              "      <td>1</td>\n",
              "      <td>1</td>\n",
              "      <td>0</td>\n",
              "      <td>0</td>\n",
              "      <td>1</td>\n",
              "      <td>1</td>\n",
              "      <td>0</td>\n",
              "      <td>0</td>\n",
              "      <td>0</td>\n",
              "      <td>0</td>\n",
              "      <td>0</td>\n",
              "      <td>0</td>\n",
              "    </tr>\n",
              "    <tr>\n",
              "      <th>13607</th>\n",
              "      <td>0</td>\n",
              "      <td>1</td>\n",
              "      <td>1</td>\n",
              "      <td>1</td>\n",
              "      <td>0</td>\n",
              "      <td>1</td>\n",
              "      <td>1</td>\n",
              "      <td>1</td>\n",
              "      <td>1</td>\n",
              "      <td>1</td>\n",
              "      <td>1</td>\n",
              "      <td>1</td>\n",
              "      <td>1</td>\n",
              "      <td>1</td>\n",
              "    </tr>\n",
              "    <tr>\n",
              "      <th>4894</th>\n",
              "      <td>0</td>\n",
              "      <td>0</td>\n",
              "      <td>1</td>\n",
              "      <td>0</td>\n",
              "      <td>0</td>\n",
              "      <td>1</td>\n",
              "      <td>1</td>\n",
              "      <td>1</td>\n",
              "      <td>0</td>\n",
              "      <td>1</td>\n",
              "      <td>1</td>\n",
              "      <td>0</td>\n",
              "      <td>1</td>\n",
              "      <td>1</td>\n",
              "    </tr>\n",
              "  </tbody>\n",
              "</table>\n",
              "</div>"
            ],
            "text/plain": [
              "       telecommuting  has_company_logo  ...  industry_ind  function_ind\n",
              "144                0                 1  ...             1             1\n",
              "2663               0                 1  ...             1             1\n",
              "10005              0                 0  ...             0             0\n",
              "13607              0                 1  ...             1             1\n",
              "4894               0                 0  ...             1             1\n",
              "\n",
              "[5 rows x 14 columns]"
            ]
          },
          "metadata": {
            "tags": []
          },
          "execution_count": 153
        }
      ]
    },
    {
      "cell_type": "markdown",
      "metadata": {
        "id": "2-LyhyCDSCdz"
      },
      "source": [
        "### Model 1: Train Model Directly "
      ]
    },
    {
      "cell_type": "code",
      "metadata": {
        "id": "qujW37JaSK5u"
      },
      "source": [
        "# Train Support Vector Classifier\r\n",
        "class_weight=dict({0:1,1:19})\r\n",
        "\r\n",
        "# Function for results\r\n",
        "def print_results(results):\r\n",
        "    print('BEST PARAMS: {}\\n'.format(results.best_params_))\r\n",
        "\r\n",
        "    means = results.cv_results_['mean_test_score']\r\n",
        "    stds = results.cv_results_['std_test_score']\r\n",
        "    for mean, std, params in zip(means, stds, results.cv_results_['params']):\r\n",
        "        print('{} (+/-{}) for {}'.format(round(mean, 3), round(std * 2, 3), params))"
      ],
      "execution_count": 154,
      "outputs": []
    },
    {
      "cell_type": "code",
      "metadata": {
        "colab": {
          "base_uri": "https://localhost:8080/"
        },
        "id": "mFapdEB-Y1s9",
        "outputId": "fddee758-054a-429f-f6b1-70d30c3d7190"
      },
      "source": [
        "# Train model\r\n",
        "clf = XGBClassifier()\r\n",
        "parameters = {'nthread':[4], #when use hyperthread, xgboost may become slower\r\n",
        "              'objective':['binary:logistic'],\r\n",
        "              'learning_rate': [0.05, 0.1, 1], #so called `eta` value\r\n",
        "              'max_depth': [6],\r\n",
        "              'min_child_weight': [11],\r\n",
        "              'silent': [1],\r\n",
        "              'subsample': [0.8],\r\n",
        "              'colsample_bytree': [0.7],\r\n",
        "              'n_estimators': [10, 20, 50], #number of trees, change it to 1000 for better results\r\n",
        "              'missing':[-999],\r\n",
        "              'seed': [1337]}\r\n",
        "\r\n",
        "\r\n",
        "cv1 = GridSearchCV(clf, parameters, cv=5)\r\n",
        "cv1.fit(X_train, y_train)\r\n",
        "\r\n",
        "print_results(cv1)\r\n"
      ],
      "execution_count": 155,
      "outputs": [
        {
          "output_type": "stream",
          "text": [
            "BEST PARAMS: {'colsample_bytree': 0.7, 'learning_rate': 1, 'max_depth': 6, 'min_child_weight': 11, 'missing': -999, 'n_estimators': 50, 'nthread': 4, 'objective': 'binary:logistic', 'seed': 1337, 'silent': 1, 'subsample': 0.8}\n",
            "\n",
            "0.95 (+/-0.0) for {'colsample_bytree': 0.7, 'learning_rate': 0.05, 'max_depth': 6, 'min_child_weight': 11, 'missing': -999, 'n_estimators': 10, 'nthread': 4, 'objective': 'binary:logistic', 'seed': 1337, 'silent': 1, 'subsample': 0.8}\n",
            "0.95 (+/-0.0) for {'colsample_bytree': 0.7, 'learning_rate': 0.05, 'max_depth': 6, 'min_child_weight': 11, 'missing': -999, 'n_estimators': 20, 'nthread': 4, 'objective': 'binary:logistic', 'seed': 1337, 'silent': 1, 'subsample': 0.8}\n",
            "0.95 (+/-0.001) for {'colsample_bytree': 0.7, 'learning_rate': 0.05, 'max_depth': 6, 'min_child_weight': 11, 'missing': -999, 'n_estimators': 50, 'nthread': 4, 'objective': 'binary:logistic', 'seed': 1337, 'silent': 1, 'subsample': 0.8}\n",
            "0.95 (+/-0.0) for {'colsample_bytree': 0.7, 'learning_rate': 0.1, 'max_depth': 6, 'min_child_weight': 11, 'missing': -999, 'n_estimators': 10, 'nthread': 4, 'objective': 'binary:logistic', 'seed': 1337, 'silent': 1, 'subsample': 0.8}\n",
            "0.95 (+/-0.0) for {'colsample_bytree': 0.7, 'learning_rate': 0.1, 'max_depth': 6, 'min_child_weight': 11, 'missing': -999, 'n_estimators': 20, 'nthread': 4, 'objective': 'binary:logistic', 'seed': 1337, 'silent': 1, 'subsample': 0.8}\n",
            "0.951 (+/-0.002) for {'colsample_bytree': 0.7, 'learning_rate': 0.1, 'max_depth': 6, 'min_child_weight': 11, 'missing': -999, 'n_estimators': 50, 'nthread': 4, 'objective': 'binary:logistic', 'seed': 1337, 'silent': 1, 'subsample': 0.8}\n",
            "0.95 (+/-0.002) for {'colsample_bytree': 0.7, 'learning_rate': 1, 'max_depth': 6, 'min_child_weight': 11, 'missing': -999, 'n_estimators': 10, 'nthread': 4, 'objective': 'binary:logistic', 'seed': 1337, 'silent': 1, 'subsample': 0.8}\n",
            "0.952 (+/-0.006) for {'colsample_bytree': 0.7, 'learning_rate': 1, 'max_depth': 6, 'min_child_weight': 11, 'missing': -999, 'n_estimators': 20, 'nthread': 4, 'objective': 'binary:logistic', 'seed': 1337, 'silent': 1, 'subsample': 0.8}\n",
            "0.953 (+/-0.003) for {'colsample_bytree': 0.7, 'learning_rate': 1, 'max_depth': 6, 'min_child_weight': 11, 'missing': -999, 'n_estimators': 50, 'nthread': 4, 'objective': 'binary:logistic', 'seed': 1337, 'silent': 1, 'subsample': 0.8}\n"
          ],
          "name": "stdout"
        }
      ]
    },
    {
      "cell_type": "code",
      "metadata": {
        "colab": {
          "base_uri": "https://localhost:8080/"
        },
        "id": "aOtwhf9kaVhH",
        "outputId": "a87ff811-c7c3-473a-c778-5370d20db6b6"
      },
      "source": [
        "# Save best model\r\n",
        "model_1 = cv1.best_estimator_\r\n",
        "model_1"
      ],
      "execution_count": 156,
      "outputs": [
        {
          "output_type": "execute_result",
          "data": {
            "text/plain": [
              "XGBClassifier(base_score=0.5, booster='gbtree', colsample_bylevel=1,\n",
              "              colsample_bynode=1, colsample_bytree=0.7, gamma=0,\n",
              "              learning_rate=1, max_delta_step=0, max_depth=6,\n",
              "              min_child_weight=11, missing=-999, n_estimators=50, n_jobs=1,\n",
              "              nthread=4, objective='binary:logistic', random_state=0,\n",
              "              reg_alpha=0, reg_lambda=1, scale_pos_weight=1, seed=1337,\n",
              "              silent=1, subsample=0.8, verbosity=1)"
            ]
          },
          "metadata": {
            "tags": []
          },
          "execution_count": 156
        }
      ]
    },
    {
      "cell_type": "code",
      "metadata": {
        "colab": {
          "base_uri": "https://localhost:8080/"
        },
        "id": "iznm7fAFaiaC",
        "outputId": "afea6fb1-4e59-4732-dd12-3cbbb19dfa1d"
      },
      "source": [
        "# Make prediction and print metrics\r\n",
        "from sklearn.metrics import confusion_matrix, accuracy_score, classification_report,roc_auc_score\r\n",
        "y_pred=model_1.predict(X_valid)\r\n",
        "y_pred_proba = model_1.predict_proba(X_valid)\r\n",
        "print( confusion_matrix(y_valid,y_pred))\r\n",
        "print(\"The accuracy score is :\", accuracy_score(y_valid,y_pred))\r\n",
        "print( classification_report(y_valid,y_pred))\r\n",
        "print(\"The roc_auc_score is :\",roc_auc_score(y_valid, model_1.predict_proba(X_valid)[:, 1]) )"
      ],
      "execution_count": 157,
      "outputs": [
        {
          "output_type": "stream",
          "text": [
            "[[2706   20]\n",
            " [ 100   35]]\n",
            "The accuracy score is : 0.9580566235581964\n",
            "              precision    recall  f1-score   support\n",
            "\n",
            "           0       0.96      0.99      0.98      2726\n",
            "           1       0.64      0.26      0.37       135\n",
            "\n",
            "    accuracy                           0.96      2861\n",
            "   macro avg       0.80      0.63      0.67      2861\n",
            "weighted avg       0.95      0.96      0.95      2861\n",
            "\n",
            "The roc_auc_score is : 0.8851933371375778\n"
          ],
          "name": "stdout"
        }
      ]
    },
    {
      "cell_type": "code",
      "metadata": {
        "colab": {
          "base_uri": "https://localhost:8080/"
        },
        "id": "FyoWcHoda1ft",
        "outputId": "942460bf-6cef-4515-b06b-9872ef2ea4b4"
      },
      "source": [
        "print(np.concatenate((y_pred.reshape(len(y_pred),1), y_valid.reshape(len(y_valid),1)),1))"
      ],
      "execution_count": 158,
      "outputs": [
        {
          "output_type": "stream",
          "text": [
            "[[0 0]\n",
            " [0 0]\n",
            " [0 0]\n",
            " ...\n",
            " [0 0]\n",
            " [0 0]\n",
            " [0 0]]\n"
          ],
          "name": "stdout"
        }
      ]
    },
    {
      "cell_type": "markdown",
      "metadata": {
        "id": "Rxr9CL36VCiL"
      },
      "source": [
        "### Model 2: Random Oversampling"
      ]
    },
    {
      "cell_type": "code",
      "metadata": {
        "colab": {
          "base_uri": "https://localhost:8080/"
        },
        "id": "ypAfS4TBVQzZ",
        "outputId": "37a07066-092c-44df-bc13-b15813ec5937"
      },
      "source": [
        "# Random Oversampling method\r\n",
        "from collections import Counter\r\n",
        "from imblearn.over_sampling import RandomOverSampler\r\n",
        "os=RandomOverSampler(0.75)\r\n",
        "X_os,y_os=os.fit_sample(X, y)\r\n",
        "\r\n",
        "print(\"The number of classes before fit {}\".format(Counter(y_train)))\r\n",
        "print(\"The number of classes after fit {}\".format(Counter(y_os)))"
      ],
      "execution_count": 159,
      "outputs": [
        {
          "output_type": "stream",
          "text": [
            "The number of classes before fit Counter({0: 10869, 1: 574})\n",
            "The number of classes after fit Counter({0: 13595, 1: 10196})\n"
          ],
          "name": "stdout"
        },
        {
          "output_type": "stream",
          "text": [
            "/usr/local/lib/python3.6/dist-packages/sklearn/utils/deprecation.py:87: FutureWarning: Function safe_indexing is deprecated; safe_indexing is deprecated in version 0.22 and will be removed in version 0.24.\n",
            "  warnings.warn(msg, category=FutureWarning)\n"
          ],
          "name": "stderr"
        }
      ]
    },
    {
      "cell_type": "code",
      "metadata": {
        "colab": {
          "base_uri": "https://localhost:8080/"
        },
        "id": "IGa7zrZOVyfx",
        "outputId": "31543d64-f9a7-4911-fba7-b01341a79aa9"
      },
      "source": [
        "# Break off validation set from training data\r\n",
        "from sklearn.model_selection import train_test_split\r\n",
        "X_train_os, X_valid_os, y_train_os, y_valid_os = train_test_split(X_os, y_os,train_size=0.8, test_size=0.2, random_state=0)\r\n",
        "\r\n",
        "# Train model\r\n",
        "clf = XGBClassifier()\r\n",
        "parameters = {'nthread':[4], #when use hyperthread, xgboost may become slower\r\n",
        "              'objective':['binary:logistic'],\r\n",
        "              'learning_rate': [0.05, 0.1, 1], #so called `eta` value\r\n",
        "              'max_depth': [6],\r\n",
        "              'min_child_weight': [11],\r\n",
        "              'silent': [1],\r\n",
        "              'subsample': [0.8],\r\n",
        "              'colsample_bytree': [0.7],\r\n",
        "              'n_estimators': [10, 20, 50], #number of trees, change it to 1000 for better results\r\n",
        "              'missing':[-999],\r\n",
        "              'seed': [1337]}\r\n",
        "\r\n",
        "\r\n",
        "cv2 = GridSearchCV(clf, parameters, cv=5)\r\n",
        "cv2.fit(X_train_os, y_train_os)\r\n",
        "\r\n",
        "print_results(cv2)\r\n"
      ],
      "execution_count": 160,
      "outputs": [
        {
          "output_type": "stream",
          "text": [
            "BEST PARAMS: {'colsample_bytree': 0.7, 'learning_rate': 1, 'max_depth': 6, 'min_child_weight': 11, 'missing': -999, 'n_estimators': 50, 'nthread': 4, 'objective': 'binary:logistic', 'seed': 1337, 'silent': 1, 'subsample': 0.8}\n",
            "\n",
            "0.807 (+/-0.008) for {'colsample_bytree': 0.7, 'learning_rate': 0.05, 'max_depth': 6, 'min_child_weight': 11, 'missing': -999, 'n_estimators': 10, 'nthread': 4, 'objective': 'binary:logistic', 'seed': 1337, 'silent': 1, 'subsample': 0.8}\n",
            "0.805 (+/-0.007) for {'colsample_bytree': 0.7, 'learning_rate': 0.05, 'max_depth': 6, 'min_child_weight': 11, 'missing': -999, 'n_estimators': 20, 'nthread': 4, 'objective': 'binary:logistic', 'seed': 1337, 'silent': 1, 'subsample': 0.8}\n",
            "0.814 (+/-0.004) for {'colsample_bytree': 0.7, 'learning_rate': 0.05, 'max_depth': 6, 'min_child_weight': 11, 'missing': -999, 'n_estimators': 50, 'nthread': 4, 'objective': 'binary:logistic', 'seed': 1337, 'silent': 1, 'subsample': 0.8}\n",
            "0.807 (+/-0.008) for {'colsample_bytree': 0.7, 'learning_rate': 0.1, 'max_depth': 6, 'min_child_weight': 11, 'missing': -999, 'n_estimators': 10, 'nthread': 4, 'objective': 'binary:logistic', 'seed': 1337, 'silent': 1, 'subsample': 0.8}\n",
            "0.809 (+/-0.005) for {'colsample_bytree': 0.7, 'learning_rate': 0.1, 'max_depth': 6, 'min_child_weight': 11, 'missing': -999, 'n_estimators': 20, 'nthread': 4, 'objective': 'binary:logistic', 'seed': 1337, 'silent': 1, 'subsample': 0.8}\n",
            "0.826 (+/-0.008) for {'colsample_bytree': 0.7, 'learning_rate': 0.1, 'max_depth': 6, 'min_child_weight': 11, 'missing': -999, 'n_estimators': 50, 'nthread': 4, 'objective': 'binary:logistic', 'seed': 1337, 'silent': 1, 'subsample': 0.8}\n",
            "0.829 (+/-0.008) for {'colsample_bytree': 0.7, 'learning_rate': 1, 'max_depth': 6, 'min_child_weight': 11, 'missing': -999, 'n_estimators': 10, 'nthread': 4, 'objective': 'binary:logistic', 'seed': 1337, 'silent': 1, 'subsample': 0.8}\n",
            "0.834 (+/-0.01) for {'colsample_bytree': 0.7, 'learning_rate': 1, 'max_depth': 6, 'min_child_weight': 11, 'missing': -999, 'n_estimators': 20, 'nthread': 4, 'objective': 'binary:logistic', 'seed': 1337, 'silent': 1, 'subsample': 0.8}\n",
            "0.838 (+/-0.006) for {'colsample_bytree': 0.7, 'learning_rate': 1, 'max_depth': 6, 'min_child_weight': 11, 'missing': -999, 'n_estimators': 50, 'nthread': 4, 'objective': 'binary:logistic', 'seed': 1337, 'silent': 1, 'subsample': 0.8}\n"
          ],
          "name": "stdout"
        }
      ]
    },
    {
      "cell_type": "code",
      "metadata": {
        "colab": {
          "base_uri": "https://localhost:8080/"
        },
        "id": "6fn7iGrfcB_U",
        "outputId": "d931dddd-01dd-45f2-fca6-bba92aefbe8d"
      },
      "source": [
        "# Save best model\r\n",
        "model_2 = cv2.best_estimator_\r\n",
        "model_2"
      ],
      "execution_count": 161,
      "outputs": [
        {
          "output_type": "execute_result",
          "data": {
            "text/plain": [
              "XGBClassifier(base_score=0.5, booster='gbtree', colsample_bylevel=1,\n",
              "              colsample_bynode=1, colsample_bytree=0.7, gamma=0,\n",
              "              learning_rate=1, max_delta_step=0, max_depth=6,\n",
              "              min_child_weight=11, missing=-999, n_estimators=50, n_jobs=1,\n",
              "              nthread=4, objective='binary:logistic', random_state=0,\n",
              "              reg_alpha=0, reg_lambda=1, scale_pos_weight=1, seed=1337,\n",
              "              silent=1, subsample=0.8, verbosity=1)"
            ]
          },
          "metadata": {
            "tags": []
          },
          "execution_count": 161
        }
      ]
    },
    {
      "cell_type": "code",
      "metadata": {
        "colab": {
          "base_uri": "https://localhost:8080/"
        },
        "id": "Er3g1LAOV7Gl",
        "outputId": "a89e2d55-3536-406e-bce6-0b6667318cda"
      },
      "source": [
        "# Make prediction and print metrics\r\n",
        "from sklearn.metrics import confusion_matrix, accuracy_score, classification_report,roc_auc_score\r\n",
        "y_pred=model_2.predict(X_valid_os)\r\n",
        "y_pred_proba = model_2.predict_proba(X_valid_os)\r\n",
        "print( confusion_matrix(y_valid_os,y_pred))\r\n",
        "print(\"The accuracy score is :\", accuracy_score(y_valid_os,y_pred))\r\n",
        "print( classification_report(y_valid_os,y_pred))\r\n",
        "print(\"The roc_auc_score is :\",roc_auc_score(y_valid_os, model_2.predict_proba(X_valid_os)[:, 1]) )"
      ],
      "execution_count": 162,
      "outputs": [
        {
          "output_type": "stream",
          "text": [
            "[[2347  382]\n",
            " [ 346 1684]]\n",
            "The accuracy score is : 0.84702668627863\n",
            "              precision    recall  f1-score   support\n",
            "\n",
            "           0       0.87      0.86      0.87      2729\n",
            "           1       0.82      0.83      0.82      2030\n",
            "\n",
            "    accuracy                           0.85      4759\n",
            "   macro avg       0.84      0.84      0.84      4759\n",
            "weighted avg       0.85      0.85      0.85      4759\n",
            "\n",
            "The roc_auc_score is : 0.9269054147479996\n"
          ],
          "name": "stdout"
        }
      ]
    },
    {
      "cell_type": "code",
      "metadata": {
        "colab": {
          "base_uri": "https://localhost:8080/"
        },
        "id": "EPql_If4WxT6",
        "outputId": "61cffeab-c566-412b-e4ff-055f5c3d62c2"
      },
      "source": [
        "print(np.concatenate((y_pred.reshape(len(y_pred),1), y_valid_os.reshape(len(y_valid_os),1)),1))"
      ],
      "execution_count": 163,
      "outputs": [
        {
          "output_type": "stream",
          "text": [
            "[[0 0]\n",
            " [0 0]\n",
            " [0 0]\n",
            " ...\n",
            " [1 1]\n",
            " [1 1]\n",
            " [0 0]]\n"
          ],
          "name": "stdout"
        }
      ]
    },
    {
      "cell_type": "markdown",
      "metadata": {
        "id": "WgcHH0QzW8MO"
      },
      "source": [
        "### Model 3: SMOTEK"
      ]
    },
    {
      "cell_type": "code",
      "metadata": {
        "colab": {
          "base_uri": "https://localhost:8080/"
        },
        "id": "GMGl8KlFXHYX",
        "outputId": "39484773-88f6-4cd6-8cd6-65f9ba45ccf7"
      },
      "source": [
        "# Oversampling method \r\n",
        "# Class to perform over-sampling using SMOTE and cleaning using Tomek links.\r\n",
        "\r\n",
        "from imblearn.combine import SMOTETomek\r\n",
        "smk = SMOTETomek(random_state=0)\r\n",
        "X_sm,y_sm = smk.fit_sample(X,y)\r\n",
        "\r\n",
        "# Inspect resampled dataset\r\n",
        "from collections import Counter\r\n",
        "print('Original dataset shape %s' % Counter(y))\r\n",
        "print('Resampled dataset shape %s' % Counter(y_sm))"
      ],
      "execution_count": 164,
      "outputs": [
        {
          "output_type": "stream",
          "text": [
            "/usr/local/lib/python3.6/dist-packages/sklearn/utils/deprecation.py:87: FutureWarning: Function safe_indexing is deprecated; safe_indexing is deprecated in version 0.22 and will be removed in version 0.24.\n",
            "  warnings.warn(msg, category=FutureWarning)\n"
          ],
          "name": "stderr"
        },
        {
          "output_type": "stream",
          "text": [
            "Original dataset shape Counter({0: 13595, 1: 709})\n",
            "Resampled dataset shape Counter({0: 13595, 1: 13595})\n"
          ],
          "name": "stdout"
        },
        {
          "output_type": "stream",
          "text": [
            "/usr/local/lib/python3.6/dist-packages/sklearn/utils/deprecation.py:87: FutureWarning: Function safe_indexing is deprecated; safe_indexing is deprecated in version 0.22 and will be removed in version 0.24.\n",
            "  warnings.warn(msg, category=FutureWarning)\n"
          ],
          "name": "stderr"
        }
      ]
    },
    {
      "cell_type": "code",
      "metadata": {
        "colab": {
          "base_uri": "https://localhost:8080/"
        },
        "id": "l_jY4QAIXiNk",
        "outputId": "4d51ff0c-4700-49bf-9123-d93473cef75d"
      },
      "source": [
        "# Break off validation set from training data\r\n",
        "from sklearn.model_selection import train_test_split\r\n",
        "X_train_sm, X_valid_sm, y_train_sm, y_valid_sm = train_test_split(X_sm, y_sm,train_size=0.8, test_size=0.2, random_state=0)\r\n",
        "\r\n",
        "# Train model\r\n",
        "clf = XGBClassifier()\r\n",
        "parameters = {'nthread':[4], #when use hyperthread, xgboost may become slower\r\n",
        "              'objective':['binary:logistic'],\r\n",
        "              'learning_rate': [0.05, 0.1, 1], #so called `eta` value\r\n",
        "              'max_depth': [6],\r\n",
        "              'min_child_weight': [11],\r\n",
        "              'silent': [1],\r\n",
        "              'subsample': [0.8],\r\n",
        "              'colsample_bytree': [0.7],\r\n",
        "              'n_estimators': [10, 20, 50], #number of trees, change it to 1000 for better results\r\n",
        "              'missing':[-999],\r\n",
        "              'seed': [1337]}\r\n",
        "\r\n",
        "\r\n",
        "cv3 = GridSearchCV(clf, parameters, cv=5)\r\n",
        "cv3.fit(X_train_sm, y_train_sm)\r\n",
        "\r\n",
        "print_results(cv3)"
      ],
      "execution_count": 165,
      "outputs": [
        {
          "output_type": "stream",
          "text": [
            "BEST PARAMS: {'colsample_bytree': 0.7, 'learning_rate': 1, 'max_depth': 6, 'min_child_weight': 11, 'missing': -999, 'n_estimators': 50, 'nthread': 4, 'objective': 'binary:logistic', 'seed': 1337, 'silent': 1, 'subsample': 0.8}\n",
            "\n",
            "0.802 (+/-0.02) for {'colsample_bytree': 0.7, 'learning_rate': 0.05, 'max_depth': 6, 'min_child_weight': 11, 'missing': -999, 'n_estimators': 10, 'nthread': 4, 'objective': 'binary:logistic', 'seed': 1337, 'silent': 1, 'subsample': 0.8}\n",
            "0.819 (+/-0.017) for {'colsample_bytree': 0.7, 'learning_rate': 0.05, 'max_depth': 6, 'min_child_weight': 11, 'missing': -999, 'n_estimators': 20, 'nthread': 4, 'objective': 'binary:logistic', 'seed': 1337, 'silent': 1, 'subsample': 0.8}\n",
            "0.826 (+/-0.02) for {'colsample_bytree': 0.7, 'learning_rate': 0.05, 'max_depth': 6, 'min_child_weight': 11, 'missing': -999, 'n_estimators': 50, 'nthread': 4, 'objective': 'binary:logistic', 'seed': 1337, 'silent': 1, 'subsample': 0.8}\n",
            "0.803 (+/-0.024) for {'colsample_bytree': 0.7, 'learning_rate': 0.1, 'max_depth': 6, 'min_child_weight': 11, 'missing': -999, 'n_estimators': 10, 'nthread': 4, 'objective': 'binary:logistic', 'seed': 1337, 'silent': 1, 'subsample': 0.8}\n",
            "0.826 (+/-0.014) for {'colsample_bytree': 0.7, 'learning_rate': 0.1, 'max_depth': 6, 'min_child_weight': 11, 'missing': -999, 'n_estimators': 20, 'nthread': 4, 'objective': 'binary:logistic', 'seed': 1337, 'silent': 1, 'subsample': 0.8}\n",
            "0.833 (+/-0.016) for {'colsample_bytree': 0.7, 'learning_rate': 0.1, 'max_depth': 6, 'min_child_weight': 11, 'missing': -999, 'n_estimators': 50, 'nthread': 4, 'objective': 'binary:logistic', 'seed': 1337, 'silent': 1, 'subsample': 0.8}\n",
            "0.835 (+/-0.016) for {'colsample_bytree': 0.7, 'learning_rate': 1, 'max_depth': 6, 'min_child_weight': 11, 'missing': -999, 'n_estimators': 10, 'nthread': 4, 'objective': 'binary:logistic', 'seed': 1337, 'silent': 1, 'subsample': 0.8}\n",
            "0.841 (+/-0.016) for {'colsample_bytree': 0.7, 'learning_rate': 1, 'max_depth': 6, 'min_child_weight': 11, 'missing': -999, 'n_estimators': 20, 'nthread': 4, 'objective': 'binary:logistic', 'seed': 1337, 'silent': 1, 'subsample': 0.8}\n",
            "0.842 (+/-0.012) for {'colsample_bytree': 0.7, 'learning_rate': 1, 'max_depth': 6, 'min_child_weight': 11, 'missing': -999, 'n_estimators': 50, 'nthread': 4, 'objective': 'binary:logistic', 'seed': 1337, 'silent': 1, 'subsample': 0.8}\n"
          ],
          "name": "stdout"
        }
      ]
    },
    {
      "cell_type": "code",
      "metadata": {
        "colab": {
          "base_uri": "https://localhost:8080/"
        },
        "id": "kujiIyzBdCR5",
        "outputId": "3657f04c-22d1-4983-b8cc-b07e65da5fbf"
      },
      "source": [
        "# Save best model\r\n",
        "model_3 = cv3.best_estimator_\r\n",
        "model_3"
      ],
      "execution_count": 166,
      "outputs": [
        {
          "output_type": "execute_result",
          "data": {
            "text/plain": [
              "XGBClassifier(base_score=0.5, booster='gbtree', colsample_bylevel=1,\n",
              "              colsample_bynode=1, colsample_bytree=0.7, gamma=0,\n",
              "              learning_rate=1, max_delta_step=0, max_depth=6,\n",
              "              min_child_weight=11, missing=-999, n_estimators=50, n_jobs=1,\n",
              "              nthread=4, objective='binary:logistic', random_state=0,\n",
              "              reg_alpha=0, reg_lambda=1, scale_pos_weight=1, seed=1337,\n",
              "              silent=1, subsample=0.8, verbosity=1)"
            ]
          },
          "metadata": {
            "tags": []
          },
          "execution_count": 166
        }
      ]
    },
    {
      "cell_type": "code",
      "metadata": {
        "colab": {
          "base_uri": "https://localhost:8080/"
        },
        "id": "4inUHQc6Xo5L",
        "outputId": "af56002a-65be-4956-9857-719d92966f9a"
      },
      "source": [
        "# Make prediction and print metrics\r\n",
        "from sklearn.metrics import confusion_matrix, accuracy_score, classification_report,roc_auc_score\r\n",
        "y_pred=model_3.predict(X_valid_sm)\r\n",
        "y_pred_proba = model_3.predict_proba(X_valid_sm)\r\n",
        "print( confusion_matrix(y_valid_sm,y_pred))\r\n",
        "print(\"The accuracy score is :\", accuracy_score(y_valid_sm,y_pred))\r\n",
        "print( classification_report(y_valid_sm,y_pred))\r\n",
        "print(\"The roc_auc_score is :\",roc_auc_score(y_valid_sm, model_3.predict_proba(X_valid_sm)[:, 1]) )"
      ],
      "execution_count": 167,
      "outputs": [
        {
          "output_type": "stream",
          "text": [
            "[[2197  462]\n",
            " [ 323 2456]]\n",
            "The accuracy score is : 0.8556454578889298\n",
            "              precision    recall  f1-score   support\n",
            "\n",
            "           0       0.87      0.83      0.85      2659\n",
            "           1       0.84      0.88      0.86      2779\n",
            "\n",
            "    accuracy                           0.86      5438\n",
            "   macro avg       0.86      0.86      0.86      5438\n",
            "weighted avg       0.86      0.86      0.86      5438\n",
            "\n",
            "The roc_auc_score is : 0.934252839995231\n"
          ],
          "name": "stdout"
        }
      ]
    },
    {
      "cell_type": "markdown",
      "metadata": {
        "id": "U-jc6I-AfRWT"
      },
      "source": [
        "### Save best xgboost Model\r\n"
      ]
    },
    {
      "cell_type": "code",
      "metadata": {
        "id": "LiNpKE0ffYRI"
      },
      "source": [
        "# Save model as a pickle file\r\n",
        "import pickle\r\n",
        "filename = 'xgboost.pickle'\r\n",
        "pickle.dump(model_3, open(filename, 'wb'))"
      ],
      "execution_count": 168,
      "outputs": []
    },
    {
      "cell_type": "markdown",
      "metadata": {
        "id": "vJD1-87Ff2tK"
      },
      "source": [
        "## Make prediction on test set with best model"
      ]
    },
    {
      "cell_type": "code",
      "metadata": {
        "colab": {
          "base_uri": "https://localhost:8080/",
          "height": 215
        },
        "id": "m6o0mVaKfxI1",
        "outputId": "8694274c-a1bf-40e2-94a5-5d0626432779"
      },
      "source": [
        "# Best model was obtained with random over sampling method\r\n",
        "column_names = X.columns\r\n",
        "dataset_test = df_test[column_names]\r\n",
        "\r\n",
        "dataset_test.head()"
      ],
      "execution_count": 169,
      "outputs": [
        {
          "output_type": "execute_result",
          "data": {
            "text/html": [
              "<div>\n",
              "<style scoped>\n",
              "    .dataframe tbody tr th:only-of-type {\n",
              "        vertical-align: middle;\n",
              "    }\n",
              "\n",
              "    .dataframe tbody tr th {\n",
              "        vertical-align: top;\n",
              "    }\n",
              "\n",
              "    .dataframe thead th {\n",
              "        text-align: right;\n",
              "    }\n",
              "</style>\n",
              "<table border=\"1\" class=\"dataframe\">\n",
              "  <thead>\n",
              "    <tr style=\"text-align: right;\">\n",
              "      <th></th>\n",
              "      <th>telecommuting</th>\n",
              "      <th>has_company_logo</th>\n",
              "      <th>has_questions</th>\n",
              "      <th>department_ind</th>\n",
              "      <th>salary_range_ind</th>\n",
              "      <th>company_profile_ind</th>\n",
              "      <th>description_ind</th>\n",
              "      <th>requirements_ind</th>\n",
              "      <th>benefits_ind</th>\n",
              "      <th>employment_type_ind</th>\n",
              "      <th>required_experience_ind</th>\n",
              "      <th>required_education_ind</th>\n",
              "      <th>industry_ind</th>\n",
              "      <th>function_ind</th>\n",
              "    </tr>\n",
              "  </thead>\n",
              "  <tbody>\n",
              "    <tr>\n",
              "      <th>0</th>\n",
              "      <td>0</td>\n",
              "      <td>1</td>\n",
              "      <td>1</td>\n",
              "      <td>1</td>\n",
              "      <td>0</td>\n",
              "      <td>1</td>\n",
              "      <td>1</td>\n",
              "      <td>1</td>\n",
              "      <td>1</td>\n",
              "      <td>1</td>\n",
              "      <td>1</td>\n",
              "      <td>0</td>\n",
              "      <td>1</td>\n",
              "      <td>0</td>\n",
              "    </tr>\n",
              "    <tr>\n",
              "      <th>1</th>\n",
              "      <td>0</td>\n",
              "      <td>1</td>\n",
              "      <td>1</td>\n",
              "      <td>1</td>\n",
              "      <td>0</td>\n",
              "      <td>1</td>\n",
              "      <td>1</td>\n",
              "      <td>1</td>\n",
              "      <td>1</td>\n",
              "      <td>1</td>\n",
              "      <td>1</td>\n",
              "      <td>0</td>\n",
              "      <td>0</td>\n",
              "      <td>1</td>\n",
              "    </tr>\n",
              "    <tr>\n",
              "      <th>2</th>\n",
              "      <td>0</td>\n",
              "      <td>0</td>\n",
              "      <td>0</td>\n",
              "      <td>0</td>\n",
              "      <td>1</td>\n",
              "      <td>1</td>\n",
              "      <td>1</td>\n",
              "      <td>0</td>\n",
              "      <td>0</td>\n",
              "      <td>1</td>\n",
              "      <td>1</td>\n",
              "      <td>1</td>\n",
              "      <td>1</td>\n",
              "      <td>1</td>\n",
              "    </tr>\n",
              "    <tr>\n",
              "      <th>3</th>\n",
              "      <td>0</td>\n",
              "      <td>0</td>\n",
              "      <td>0</td>\n",
              "      <td>1</td>\n",
              "      <td>0</td>\n",
              "      <td>0</td>\n",
              "      <td>1</td>\n",
              "      <td>1</td>\n",
              "      <td>1</td>\n",
              "      <td>0</td>\n",
              "      <td>0</td>\n",
              "      <td>0</td>\n",
              "      <td>0</td>\n",
              "      <td>0</td>\n",
              "    </tr>\n",
              "    <tr>\n",
              "      <th>4</th>\n",
              "      <td>0</td>\n",
              "      <td>1</td>\n",
              "      <td>0</td>\n",
              "      <td>0</td>\n",
              "      <td>0</td>\n",
              "      <td>1</td>\n",
              "      <td>1</td>\n",
              "      <td>1</td>\n",
              "      <td>0</td>\n",
              "      <td>1</td>\n",
              "      <td>1</td>\n",
              "      <td>1</td>\n",
              "      <td>1</td>\n",
              "      <td>1</td>\n",
              "    </tr>\n",
              "  </tbody>\n",
              "</table>\n",
              "</div>"
            ],
            "text/plain": [
              "   telecommuting  has_company_logo  ...  industry_ind  function_ind\n",
              "0              0                 1  ...             1             0\n",
              "1              0                 1  ...             0             1\n",
              "2              0                 0  ...             1             1\n",
              "3              0                 0  ...             0             0\n",
              "4              0                 1  ...             1             1\n",
              "\n",
              "[5 rows x 14 columns]"
            ]
          },
          "metadata": {
            "tags": []
          },
          "execution_count": 169
        }
      ]
    },
    {
      "cell_type": "code",
      "metadata": {
        "colab": {
          "base_uri": "https://localhost:8080/"
        },
        "id": "pVXnV1Z-g2BD",
        "outputId": "8b99fe5a-d5e7-415b-e775-5630df4ea14d"
      },
      "source": [
        "# Make prediction\r\n",
        "X_test = dataset_test.values\r\n",
        "\r\n",
        "loaded_model = pickle.load(open('xgboost.pickle', 'rb'))\r\n",
        "y_hat = loaded_model.predict(X_test)\r\n",
        "y_hat"
      ],
      "execution_count": 170,
      "outputs": [
        {
          "output_type": "execute_result",
          "data": {
            "text/plain": [
              "array([0, 0, 0, ..., 1, 1, 0])"
            ]
          },
          "metadata": {
            "tags": []
          },
          "execution_count": 170
        }
      ]
    },
    {
      "cell_type": "code",
      "metadata": {
        "id": "P723zeDzhH0P"
      },
      "source": [
        " # Save Numpy array to csv with custom header and footer\r\n",
        "np.savetxt('xgboost_20210122.csv', y_hat, delimiter=',', fmt='%d' , header='Result:: Header', footer='This is footer')"
      ],
      "execution_count": 171,
      "outputs": []
    }
  ]
}