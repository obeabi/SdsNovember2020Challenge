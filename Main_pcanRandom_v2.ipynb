{
  "nbformat": 4,
  "nbformat_minor": 0,
  "metadata": {
    "colab": {
      "name": "Main_pcanRandom_v2.ipynb",
      "provenance": [],
      "toc_visible": true,
      "include_colab_link": true
    },
    "kernelspec": {
      "name": "python3",
      "display_name": "Python 3"
    }
  },
  "cells": [
    {
      "cell_type": "markdown",
      "metadata": {
        "id": "view-in-github",
        "colab_type": "text"
      },
      "source": [
        "<a href=\"https://colab.research.google.com/github/obeabi/SdsNovember2020Challenge/blob/main/Main_pcanRandom_v2.ipynb\" target=\"_parent\"><img src=\"https://colab.research.google.com/assets/colab-badge.svg\" alt=\"Open In Colab\"/></a>"
      ]
    },
    {
      "cell_type": "markdown",
      "metadata": {
        "id": "Rr3ZLSgXPUn0"
      },
      "source": [
        "# Written by Abiola Obembe\r\n",
        "# SDS October Challenge #3 - Fraudulent Job Adverts\r\n",
        "## 2021-01-22\r\n",
        "\r\n",
        "### Using PCA and RANDOM Forest ALGORTHIM"
      ]
    },
    {
      "cell_type": "markdown",
      "metadata": {
        "id": "LtcBcsk5PgoA"
      },
      "source": [
        "## Problem Statement\r\n",
        "Welcome Data Scientist to the 3rd SDS Club Monthly Challenge! In this month’s challenge you are helping your friend search for a job. Your friend has found thousands of job ads online and is trying to pick some to apply to. Your friends has heard that there are a lot of fraudulent job ads that are actually scams. Your mission is to help your friend by predicting whether a job is fraudulent based on the data provided."
      ]
    },
    {
      "cell_type": "code",
      "metadata": {
        "colab": {
          "base_uri": "https://localhost:8080/"
        },
        "id": "C5gZ6cLTPxyu",
        "outputId": "c82d29bf-ec36-447c-fe43-4a6534fda572"
      },
      "source": [
        "# Importing the libraries\r\n",
        "import numpy as np\r\n",
        "import matplotlib.pyplot as plt\r\n",
        "import pandas as pd\r\n",
        "import seaborn as sns\r\n",
        "!pip install imbalanced-learn\r\n",
        "from sklearn.model_selection import GridSearchCV\r\n",
        "\r\n",
        "\r\n",
        "%matplotlib inline\r\n",
        "plt.rcParams['figure.figsize'] = (5.0, 4.0) # set default size of plots\r\n",
        "plt.rcParams['image.interpolation'] = 'nearest'\r\n",
        "plt.rcParams['image.cmap'] = 'gray'\r\n",
        "\r\n",
        "print('Libraries installed successfully!')\r\n",
        "\r\n",
        "np.random.seed(0)"
      ],
      "execution_count": 215,
      "outputs": [
        {
          "output_type": "stream",
          "text": [
            "Requirement already satisfied: imbalanced-learn in /usr/local/lib/python3.6/dist-packages (0.4.3)\n",
            "Requirement already satisfied: scipy>=0.13.3 in /usr/local/lib/python3.6/dist-packages (from imbalanced-learn) (1.4.1)\n",
            "Requirement already satisfied: numpy>=1.8.2 in /usr/local/lib/python3.6/dist-packages (from imbalanced-learn) (1.19.5)\n",
            "Requirement already satisfied: scikit-learn>=0.20 in /usr/local/lib/python3.6/dist-packages (from imbalanced-learn) (0.22.2.post1)\n",
            "Requirement already satisfied: joblib>=0.11 in /usr/local/lib/python3.6/dist-packages (from scikit-learn>=0.20->imbalanced-learn) (1.0.0)\n",
            "Libraries installed successfully!\n"
          ],
          "name": "stdout"
        }
      ]
    },
    {
      "cell_type": "code",
      "metadata": {
        "colab": {
          "base_uri": "https://localhost:8080/",
          "height": 215
        },
        "id": "ulTHtazpQAN5",
        "outputId": "790af1fb-9537-49de-85a1-ab81ce94022f"
      },
      "source": [
        "# Importing the dataset and check the shape and total number of missing values\r\n",
        "\r\n",
        "df_train = pd.read_csv('df_train.csv')\r\n",
        "df_test = pd.read_csv('df_test.csv')\r\n",
        "\r\n",
        "df_train.head()"
      ],
      "execution_count": 216,
      "outputs": [
        {
          "output_type": "execute_result",
          "data": {
            "text/html": [
              "<div>\n",
              "<style scoped>\n",
              "    .dataframe tbody tr th:only-of-type {\n",
              "        vertical-align: middle;\n",
              "    }\n",
              "\n",
              "    .dataframe tbody tr th {\n",
              "        vertical-align: top;\n",
              "    }\n",
              "\n",
              "    .dataframe thead th {\n",
              "        text-align: right;\n",
              "    }\n",
              "</style>\n",
              "<table border=\"1\" class=\"dataframe\">\n",
              "  <thead>\n",
              "    <tr style=\"text-align: right;\">\n",
              "      <th></th>\n",
              "      <th>telecommuting</th>\n",
              "      <th>has_company_logo</th>\n",
              "      <th>has_questions</th>\n",
              "      <th>fraudulent</th>\n",
              "      <th>department_ind</th>\n",
              "      <th>salary_range_ind</th>\n",
              "      <th>company_profile_ind</th>\n",
              "      <th>description_ind</th>\n",
              "      <th>requirements_ind</th>\n",
              "      <th>benefits_ind</th>\n",
              "      <th>employment_type_ind</th>\n",
              "      <th>required_experience_ind</th>\n",
              "      <th>required_education_ind</th>\n",
              "      <th>industry_ind</th>\n",
              "      <th>function_ind</th>\n",
              "    </tr>\n",
              "  </thead>\n",
              "  <tbody>\n",
              "    <tr>\n",
              "      <th>0</th>\n",
              "      <td>0</td>\n",
              "      <td>1</td>\n",
              "      <td>1</td>\n",
              "      <td>0</td>\n",
              "      <td>1</td>\n",
              "      <td>1</td>\n",
              "      <td>1</td>\n",
              "      <td>1</td>\n",
              "      <td>0</td>\n",
              "      <td>0</td>\n",
              "      <td>1</td>\n",
              "      <td>1</td>\n",
              "      <td>0</td>\n",
              "      <td>1</td>\n",
              "      <td>1</td>\n",
              "    </tr>\n",
              "    <tr>\n",
              "      <th>1</th>\n",
              "      <td>0</td>\n",
              "      <td>1</td>\n",
              "      <td>1</td>\n",
              "      <td>0</td>\n",
              "      <td>1</td>\n",
              "      <td>0</td>\n",
              "      <td>1</td>\n",
              "      <td>1</td>\n",
              "      <td>1</td>\n",
              "      <td>0</td>\n",
              "      <td>1</td>\n",
              "      <td>0</td>\n",
              "      <td>0</td>\n",
              "      <td>1</td>\n",
              "      <td>1</td>\n",
              "    </tr>\n",
              "    <tr>\n",
              "      <th>2</th>\n",
              "      <td>0</td>\n",
              "      <td>1</td>\n",
              "      <td>1</td>\n",
              "      <td>0</td>\n",
              "      <td>1</td>\n",
              "      <td>1</td>\n",
              "      <td>1</td>\n",
              "      <td>1</td>\n",
              "      <td>1</td>\n",
              "      <td>1</td>\n",
              "      <td>1</td>\n",
              "      <td>1</td>\n",
              "      <td>1</td>\n",
              "      <td>1</td>\n",
              "      <td>1</td>\n",
              "    </tr>\n",
              "    <tr>\n",
              "      <th>3</th>\n",
              "      <td>0</td>\n",
              "      <td>0</td>\n",
              "      <td>0</td>\n",
              "      <td>1</td>\n",
              "      <td>0</td>\n",
              "      <td>1</td>\n",
              "      <td>0</td>\n",
              "      <td>1</td>\n",
              "      <td>0</td>\n",
              "      <td>0</td>\n",
              "      <td>1</td>\n",
              "      <td>1</td>\n",
              "      <td>1</td>\n",
              "      <td>1</td>\n",
              "      <td>1</td>\n",
              "    </tr>\n",
              "    <tr>\n",
              "      <th>4</th>\n",
              "      <td>0</td>\n",
              "      <td>1</td>\n",
              "      <td>0</td>\n",
              "      <td>0</td>\n",
              "      <td>1</td>\n",
              "      <td>1</td>\n",
              "      <td>1</td>\n",
              "      <td>1</td>\n",
              "      <td>1</td>\n",
              "      <td>1</td>\n",
              "      <td>1</td>\n",
              "      <td>1</td>\n",
              "      <td>1</td>\n",
              "      <td>1</td>\n",
              "      <td>1</td>\n",
              "    </tr>\n",
              "  </tbody>\n",
              "</table>\n",
              "</div>"
            ],
            "text/plain": [
              "   telecommuting  has_company_logo  ...  industry_ind  function_ind\n",
              "0              0                 1  ...             1             1\n",
              "1              0                 1  ...             1             1\n",
              "2              0                 1  ...             1             1\n",
              "3              0                 0  ...             1             1\n",
              "4              0                 1  ...             1             1\n",
              "\n",
              "[5 rows x 15 columns]"
            ]
          },
          "metadata": {
            "tags": []
          },
          "execution_count": 216
        }
      ]
    },
    {
      "cell_type": "code",
      "metadata": {
        "id": "Yzu-IrqIrYjl"
      },
      "source": [
        "# drop all indicator columns\r\n",
        "#df_train.drop(df_train.iloc[:, 4:], axis = 1, inplace= True)\r\n",
        "#df_train.drop(['department_ind','salary_range_ind','requirements_ind','benefits_ind','industry_ind'], axis = 1, inplace= True)\r\n",
        "#df_train.head()"
      ],
      "execution_count": 217,
      "outputs": []
    },
    {
      "cell_type": "code",
      "metadata": {
        "colab": {
          "base_uri": "https://localhost:8080/"
        },
        "id": "e9Y13MDLQRrD",
        "outputId": "7933be70-f6dc-48f8-cc3f-4e07a8863cc8"
      },
      "source": [
        "# print column names\r\n",
        "print(df_train.columns)\r\n",
        "print(df_train.shape)"
      ],
      "execution_count": 218,
      "outputs": [
        {
          "output_type": "stream",
          "text": [
            "Index(['telecommuting', 'has_company_logo', 'has_questions', 'fraudulent',\n",
            "       'department_ind', 'salary_range_ind', 'company_profile_ind',\n",
            "       'description_ind', 'requirements_ind', 'benefits_ind',\n",
            "       'employment_type_ind', 'required_experience_ind',\n",
            "       'required_education_ind', 'industry_ind', 'function_ind'],\n",
            "      dtype='object')\n",
            "(14304, 15)\n"
          ],
          "name": "stdout"
        }
      ]
    },
    {
      "cell_type": "code",
      "metadata": {
        "colab": {
          "base_uri": "https://localhost:8080/",
          "height": 295
        },
        "id": "1T7FGhwJQtqD",
        "outputId": "cc6360f9-ac21-44e3-8830-7194819ca2de"
      },
      "source": [
        "# Let's visualize the distribution of data\r\n",
        "count_classes = pd.value_counts(df_train['fraudulent'], sort = True)\r\n",
        "count_classes.plot(kind = 'bar', rot = 0)\r\n",
        "plt.title(\"Fraudulent Job Distribution\")\r\n",
        "plt.xticks(range(2))\r\n",
        "plt.xlabel(\"Fraudulent\")\r\n",
        "plt.ylabel('Frequency')\r\n",
        "plt.show()"
      ],
      "execution_count": 219,
      "outputs": [
        {
          "output_type": "display_data",
          "data": {
            "image/png": "[encoded data removed]",
            "text/plain": [
              "<Figure size 360x288 with 1 Axes>"
            ]
          },
          "metadata": {
            "tags": [],
            "needs_background": "light"
          }
        }
      ]
    },
    {
      "cell_type": "code",
      "metadata": {
        "colab": {
          "base_uri": "https://localhost:8080/"
        },
        "id": "dSATW7jJQUYu",
        "outputId": "6bd7c64c-c409-46f8-96ad-b8feb3e7ccbd"
      },
      "source": [
        "# gET THE CANCELLED AND NOT CANCEELED FLIFGTS\r\n",
        "Fraud = df_train[df_train['fraudulent']== 1]\r\n",
        "notFraud = df_train[df_train['fraudulent']== 0]\r\n",
        "\r\n",
        "print(Fraud.shape, notFraud.shape)"
      ],
      "execution_count": 220,
      "outputs": [
        {
          "output_type": "stream",
          "text": [
            "(709, 15) (13595, 15)\n"
          ],
          "name": "stdout"
        }
      ]
    },
    {
      "cell_type": "code",
      "metadata": {
        "colab": {
          "base_uri": "https://localhost:8080/",
          "height": 215
        },
        "id": "Z8gJdEYsQ_d0",
        "outputId": "14a61831-51f3-432d-88c6-9a15f65cff99"
      },
      "source": [
        "# Extract features and target from train set dataframe\r\n",
        "y = df_train.fraudulent.values.ravel()\r\n",
        "X = df_train.drop(columns= ['fraudulent'], axis = 1)\r\n",
        "\r\n",
        "X.head()"
      ],
      "execution_count": 221,
      "outputs": [
        {
          "output_type": "execute_result",
          "data": {
            "text/html": [
              "<div>\n",
              "<style scoped>\n",
              "    .dataframe tbody tr th:only-of-type {\n",
              "        vertical-align: middle;\n",
              "    }\n",
              "\n",
              "    .dataframe tbody tr th {\n",
              "        vertical-align: top;\n",
              "    }\n",
              "\n",
              "    .dataframe thead th {\n",
              "        text-align: right;\n",
              "    }\n",
              "</style>\n",
              "<table border=\"1\" class=\"dataframe\">\n",
              "  <thead>\n",
              "    <tr style=\"text-align: right;\">\n",
              "      <th></th>\n",
              "      <th>telecommuting</th>\n",
              "      <th>has_company_logo</th>\n",
              "      <th>has_questions</th>\n",
              "      <th>department_ind</th>\n",
              "      <th>salary_range_ind</th>\n",
              "      <th>company_profile_ind</th>\n",
              "      <th>description_ind</th>\n",
              "      <th>requirements_ind</th>\n",
              "      <th>benefits_ind</th>\n",
              "      <th>employment_type_ind</th>\n",
              "      <th>required_experience_ind</th>\n",
              "      <th>required_education_ind</th>\n",
              "      <th>industry_ind</th>\n",
              "      <th>function_ind</th>\n",
              "    </tr>\n",
              "  </thead>\n",
              "  <tbody>\n",
              "    <tr>\n",
              "      <th>0</th>\n",
              "      <td>0</td>\n",
              "      <td>1</td>\n",
              "      <td>1</td>\n",
              "      <td>1</td>\n",
              "      <td>1</td>\n",
              "      <td>1</td>\n",
              "      <td>1</td>\n",
              "      <td>0</td>\n",
              "      <td>0</td>\n",
              "      <td>1</td>\n",
              "      <td>1</td>\n",
              "      <td>0</td>\n",
              "      <td>1</td>\n",
              "      <td>1</td>\n",
              "    </tr>\n",
              "    <tr>\n",
              "      <th>1</th>\n",
              "      <td>0</td>\n",
              "      <td>1</td>\n",
              "      <td>1</td>\n",
              "      <td>1</td>\n",
              "      <td>0</td>\n",
              "      <td>1</td>\n",
              "      <td>1</td>\n",
              "      <td>1</td>\n",
              "      <td>0</td>\n",
              "      <td>1</td>\n",
              "      <td>0</td>\n",
              "      <td>0</td>\n",
              "      <td>1</td>\n",
              "      <td>1</td>\n",
              "    </tr>\n",
              "    <tr>\n",
              "      <th>2</th>\n",
              "      <td>0</td>\n",
              "      <td>1</td>\n",
              "      <td>1</td>\n",
              "      <td>1</td>\n",
              "      <td>1</td>\n",
              "      <td>1</td>\n",
              "      <td>1</td>\n",
              "      <td>1</td>\n",
              "      <td>1</td>\n",
              "      <td>1</td>\n",
              "      <td>1</td>\n",
              "      <td>1</td>\n",
              "      <td>1</td>\n",
              "      <td>1</td>\n",
              "    </tr>\n",
              "    <tr>\n",
              "      <th>3</th>\n",
              "      <td>0</td>\n",
              "      <td>0</td>\n",
              "      <td>0</td>\n",
              "      <td>0</td>\n",
              "      <td>1</td>\n",
              "      <td>0</td>\n",
              "      <td>1</td>\n",
              "      <td>0</td>\n",
              "      <td>0</td>\n",
              "      <td>1</td>\n",
              "      <td>1</td>\n",
              "      <td>1</td>\n",
              "      <td>1</td>\n",
              "      <td>1</td>\n",
              "    </tr>\n",
              "    <tr>\n",
              "      <th>4</th>\n",
              "      <td>0</td>\n",
              "      <td>1</td>\n",
              "      <td>0</td>\n",
              "      <td>1</td>\n",
              "      <td>1</td>\n",
              "      <td>1</td>\n",
              "      <td>1</td>\n",
              "      <td>1</td>\n",
              "      <td>1</td>\n",
              "      <td>1</td>\n",
              "      <td>1</td>\n",
              "      <td>1</td>\n",
              "      <td>1</td>\n",
              "      <td>1</td>\n",
              "    </tr>\n",
              "  </tbody>\n",
              "</table>\n",
              "</div>"
            ],
            "text/plain": [
              "   telecommuting  has_company_logo  ...  industry_ind  function_ind\n",
              "0              0                 1  ...             1             1\n",
              "1              0                 1  ...             1             1\n",
              "2              0                 1  ...             1             1\n",
              "3              0                 0  ...             1             1\n",
              "4              0                 1  ...             1             1\n",
              "\n",
              "[5 rows x 14 columns]"
            ]
          },
          "metadata": {
            "tags": []
          },
          "execution_count": 221
        }
      ]
    },
    {
      "cell_type": "code",
      "metadata": {
        "colab": {
          "base_uri": "https://localhost:8080/"
        },
        "id": "SsnfakX5Re-u",
        "outputId": "fb1acbfa-e506-447c-c1e2-49e738630966"
      },
      "source": [
        "# print first five rows target column\r\n",
        "y[0:5]"
      ],
      "execution_count": 222,
      "outputs": [
        {
          "output_type": "execute_result",
          "data": {
            "text/plain": [
              "array([0, 0, 0, 1, 0])"
            ]
          },
          "metadata": {
            "tags": []
          },
          "execution_count": 222
        }
      ]
    },
    {
      "cell_type": "code",
      "metadata": {
        "colab": {
          "base_uri": "https://localhost:8080/",
          "height": 215
        },
        "id": "zMr0NwwaRmVL",
        "outputId": "c90ff236-3027-490c-c383-69b88c51019e"
      },
      "source": [
        "# Split data to train and test set\r\n",
        "from sklearn.model_selection import train_test_split\r\n",
        "X_train, X_valid, y_train, y_valid = train_test_split(X, y, train_size=0.8, test_size=0.2, random_state=0)\r\n",
        "\r\n",
        "# Organize train set\r\n",
        "X_train.head()"
      ],
      "execution_count": 223,
      "outputs": [
        {
          "output_type": "execute_result",
          "data": {
            "text/html": [
              "<div>\n",
              "<style scoped>\n",
              "    .dataframe tbody tr th:only-of-type {\n",
              "        vertical-align: middle;\n",
              "    }\n",
              "\n",
              "    .dataframe tbody tr th {\n",
              "        vertical-align: top;\n",
              "    }\n",
              "\n",
              "    .dataframe thead th {\n",
              "        text-align: right;\n",
              "    }\n",
              "</style>\n",
              "<table border=\"1\" class=\"dataframe\">\n",
              "  <thead>\n",
              "    <tr style=\"text-align: right;\">\n",
              "      <th></th>\n",
              "      <th>telecommuting</th>\n",
              "      <th>has_company_logo</th>\n",
              "      <th>has_questions</th>\n",
              "      <th>department_ind</th>\n",
              "      <th>salary_range_ind</th>\n",
              "      <th>company_profile_ind</th>\n",
              "      <th>description_ind</th>\n",
              "      <th>requirements_ind</th>\n",
              "      <th>benefits_ind</th>\n",
              "      <th>employment_type_ind</th>\n",
              "      <th>required_experience_ind</th>\n",
              "      <th>required_education_ind</th>\n",
              "      <th>industry_ind</th>\n",
              "      <th>function_ind</th>\n",
              "    </tr>\n",
              "  </thead>\n",
              "  <tbody>\n",
              "    <tr>\n",
              "      <th>144</th>\n",
              "      <td>0</td>\n",
              "      <td>1</td>\n",
              "      <td>0</td>\n",
              "      <td>0</td>\n",
              "      <td>0</td>\n",
              "      <td>1</td>\n",
              "      <td>1</td>\n",
              "      <td>1</td>\n",
              "      <td>1</td>\n",
              "      <td>1</td>\n",
              "      <td>1</td>\n",
              "      <td>1</td>\n",
              "      <td>1</td>\n",
              "      <td>1</td>\n",
              "    </tr>\n",
              "    <tr>\n",
              "      <th>2663</th>\n",
              "      <td>0</td>\n",
              "      <td>1</td>\n",
              "      <td>1</td>\n",
              "      <td>0</td>\n",
              "      <td>0</td>\n",
              "      <td>1</td>\n",
              "      <td>1</td>\n",
              "      <td>1</td>\n",
              "      <td>1</td>\n",
              "      <td>1</td>\n",
              "      <td>1</td>\n",
              "      <td>0</td>\n",
              "      <td>1</td>\n",
              "      <td>1</td>\n",
              "    </tr>\n",
              "    <tr>\n",
              "      <th>10005</th>\n",
              "      <td>0</td>\n",
              "      <td>0</td>\n",
              "      <td>1</td>\n",
              "      <td>1</td>\n",
              "      <td>0</td>\n",
              "      <td>0</td>\n",
              "      <td>1</td>\n",
              "      <td>1</td>\n",
              "      <td>0</td>\n",
              "      <td>0</td>\n",
              "      <td>0</td>\n",
              "      <td>0</td>\n",
              "      <td>0</td>\n",
              "      <td>0</td>\n",
              "    </tr>\n",
              "    <tr>\n",
              "      <th>13607</th>\n",
              "      <td>0</td>\n",
              "      <td>1</td>\n",
              "      <td>1</td>\n",
              "      <td>1</td>\n",
              "      <td>0</td>\n",
              "      <td>1</td>\n",
              "      <td>1</td>\n",
              "      <td>1</td>\n",
              "      <td>1</td>\n",
              "      <td>1</td>\n",
              "      <td>1</td>\n",
              "      <td>1</td>\n",
              "      <td>1</td>\n",
              "      <td>1</td>\n",
              "    </tr>\n",
              "    <tr>\n",
              "      <th>4894</th>\n",
              "      <td>0</td>\n",
              "      <td>0</td>\n",
              "      <td>1</td>\n",
              "      <td>0</td>\n",
              "      <td>0</td>\n",
              "      <td>1</td>\n",
              "      <td>1</td>\n",
              "      <td>1</td>\n",
              "      <td>0</td>\n",
              "      <td>1</td>\n",
              "      <td>1</td>\n",
              "      <td>0</td>\n",
              "      <td>1</td>\n",
              "      <td>1</td>\n",
              "    </tr>\n",
              "  </tbody>\n",
              "</table>\n",
              "</div>"
            ],
            "text/plain": [
              "       telecommuting  has_company_logo  ...  industry_ind  function_ind\n",
              "144                0                 1  ...             1             1\n",
              "2663               0                 1  ...             1             1\n",
              "10005              0                 0  ...             0             0\n",
              "13607              0                 1  ...             1             1\n",
              "4894               0                 0  ...             1             1\n",
              "\n",
              "[5 rows x 14 columns]"
            ]
          },
          "metadata": {
            "tags": []
          },
          "execution_count": 223
        }
      ]
    },
    {
      "cell_type": "code",
      "metadata": {
        "id": "Eb6orH3dxQYL"
      },
      "source": [
        "# Applying PCA\r\n",
        "from sklearn.decomposition import PCA\r\n",
        "pca = PCA(n_components = 2)\r\n",
        "X_train = pca.fit_transform(X_train)\r\n",
        "X_valid = pca.transform(X_valid)"
      ],
      "execution_count": 224,
      "outputs": []
    },
    {
      "cell_type": "code",
      "metadata": {
        "id": "WiocMC_Vxrrr"
      },
      "source": [
        "# Function for results\r\n",
        "def print_results(results):\r\n",
        "    print('BEST PARAMS: {}\\n'.format(results.best_params_))\r\n",
        "\r\n",
        "    means = results.cv_results_['mean_test_score']\r\n",
        "    stds = results.cv_results_['std_test_score']\r\n",
        "    for mean, std, params in zip(means, stds, results.cv_results_['params']):\r\n",
        "        print('{} (+/-{}) for {}'.format(round(mean, 3), round(std * 2, 3), params))"
      ],
      "execution_count": 225,
      "outputs": []
    },
    {
      "cell_type": "markdown",
      "metadata": {
        "id": "2-LyhyCDSCdz"
      },
      "source": [
        "### Model 1: Train Model Directly (disregarding imbalanced nature of dataset"
      ]
    },
    {
      "cell_type": "code",
      "metadata": {
        "id": "qujW37JaSK5u",
        "colab": {
          "base_uri": "https://localhost:8080/"
        },
        "outputId": "90d40b96-9431-4776-b777-87d4fd007d37"
      },
      "source": [
        "# Train Random Forest Classifier\r\n",
        "class_weight=dict({0:1,1:15})\r\n",
        "from sklearn.ensemble import RandomForestClassifier\r\n",
        "classifier=RandomForestClassifier( class_weight= class_weight)\r\n",
        "classifier.fit(X_train, y_train)\r\n"
      ],
      "execution_count": 226,
      "outputs": [
        {
          "output_type": "execute_result",
          "data": {
            "text/plain": [
              "RandomForestClassifier(bootstrap=True, ccp_alpha=0.0,\n",
              "                       class_weight={0: 1, 1: 15}, criterion='gini',\n",
              "                       max_depth=None, max_features='auto', max_leaf_nodes=None,\n",
              "                       max_samples=None, min_impurity_decrease=0.0,\n",
              "                       min_impurity_split=None, min_samples_leaf=1,\n",
              "                       min_samples_split=2, min_weight_fraction_leaf=0.0,\n",
              "                       n_estimators=100, n_jobs=None, oob_score=False,\n",
              "                       random_state=None, verbose=0, warm_start=False)"
            ]
          },
          "metadata": {
            "tags": []
          },
          "execution_count": 226
        }
      ]
    },
    {
      "cell_type": "code",
      "metadata": {
        "colab": {
          "base_uri": "https://localhost:8080/"
        },
        "id": "6MI9Y_gex2xT",
        "outputId": "d924111e-5e8f-4c1a-8446-09b5b3bee127"
      },
      "source": [
        "# Make prediction and print metrics\r\n",
        "from sklearn.metrics import confusion_matrix, accuracy_score, classification_report,roc_auc_score\r\n",
        "y_pred=classifier.predict(X_valid)\r\n",
        "y_pred_proba = classifier.predict_proba(X_valid)\r\n",
        "print( confusion_matrix(y_valid,y_pred))\r\n",
        "print(\"The accuracy score is :\", accuracy_score(y_valid,y_pred))\r\n",
        "print( classification_report(y_valid,y_pred))\r\n",
        "print(\"The roc_auc_score is :\",roc_auc_score(y_valid, classifier.predict_proba(X_valid)[:, 1]))"
      ],
      "execution_count": 227,
      "outputs": [
        {
          "output_type": "stream",
          "text": [
            "[[2394  332]\n",
            " [  39   96]]\n",
            "The accuracy score is : 0.870325061167424\n",
            "              precision    recall  f1-score   support\n",
            "\n",
            "           0       0.98      0.88      0.93      2726\n",
            "           1       0.22      0.71      0.34       135\n",
            "\n",
            "    accuracy                           0.87      2861\n",
            "   macro avg       0.60      0.79      0.63      2861\n",
            "weighted avg       0.95      0.87      0.90      2861\n",
            "\n",
            "The roc_auc_score is : 0.8660267384038477\n"
          ],
          "name": "stdout"
        }
      ]
    },
    {
      "cell_type": "code",
      "metadata": {
        "colab": {
          "base_uri": "https://localhost:8080/"
        },
        "id": "DU9R7UDgZGfQ",
        "outputId": "82193eee-0123-4627-b852-49d32a0ede01"
      },
      "source": [
        "# Perform K-Fold CV and hyperparameter tuning\r\n",
        "parameters = {\r\n",
        "    'n_estimators': [100, 200, 500],\r\n",
        "    'criterion': ['gini', 'entropy']\r\n",
        "}\r\n",
        "\r\n",
        "cv = GridSearchCV(classifier, parameters, cv=5)\r\n",
        "cv.fit(X_train, y_train)\r\n",
        "\r\n",
        "print_results(cv)"
      ],
      "execution_count": 228,
      "outputs": [
        {
          "output_type": "stream",
          "text": [
            "BEST PARAMS: {'criterion': 'entropy', 'n_estimators': 100}\n",
            "\n",
            "0.869 (+/-0.009) for {'criterion': 'gini', 'n_estimators': 100}\n",
            "0.868 (+/-0.01) for {'criterion': 'gini', 'n_estimators': 200}\n",
            "0.867 (+/-0.011) for {'criterion': 'gini', 'n_estimators': 500}\n",
            "0.869 (+/-0.011) for {'criterion': 'entropy', 'n_estimators': 100}\n",
            "0.868 (+/-0.011) for {'criterion': 'entropy', 'n_estimators': 200}\n",
            "0.868 (+/-0.011) for {'criterion': 'entropy', 'n_estimators': 500}\n"
          ],
          "name": "stdout"
        }
      ]
    },
    {
      "cell_type": "code",
      "metadata": {
        "colab": {
          "base_uri": "https://localhost:8080/"
        },
        "id": "aOtwhf9kaVhH",
        "outputId": "5a72a5ef-ec44-4725-ffb1-4a5718624aae"
      },
      "source": [
        "# Save best model\r\n",
        "model_1 = cv.best_estimator_\r\n",
        "model_1"
      ],
      "execution_count": 229,
      "outputs": [
        {
          "output_type": "execute_result",
          "data": {
            "text/plain": [
              "RandomForestClassifier(bootstrap=True, ccp_alpha=0.0,\n",
              "                       class_weight={0: 1, 1: 15}, criterion='entropy',\n",
              "                       max_depth=None, max_features='auto', max_leaf_nodes=None,\n",
              "                       max_samples=None, min_impurity_decrease=0.0,\n",
              "                       min_impurity_split=None, min_samples_leaf=1,\n",
              "                       min_samples_split=2, min_weight_fraction_leaf=0.0,\n",
              "                       n_estimators=100, n_jobs=None, oob_score=False,\n",
              "                       random_state=None, verbose=0, warm_start=False)"
            ]
          },
          "metadata": {
            "tags": []
          },
          "execution_count": 229
        }
      ]
    },
    {
      "cell_type": "code",
      "metadata": {
        "colab": {
          "base_uri": "https://localhost:8080/"
        },
        "id": "iznm7fAFaiaC",
        "outputId": "3cb6173b-e3e8-4ff9-b356-4172fc827e18"
      },
      "source": [
        "# Make prediction and print metrics\r\n",
        "from sklearn.metrics import confusion_matrix, accuracy_score, classification_report,roc_auc_score\r\n",
        "y_pred=model_1.predict(X_valid)\r\n",
        "y_pred_proba = model_1.predict_proba(X_valid)\r\n",
        "print( confusion_matrix(y_valid,y_pred))\r\n",
        "print(\"The accuracy score is :\", accuracy_score(y_valid,y_pred))\r\n",
        "print( classification_report(y_valid,y_pred))\r\n",
        "print(\"The roc_auc_score is :\",roc_auc_score(y_valid, model_1.predict_proba(X_valid)[:, 1]) )"
      ],
      "execution_count": 230,
      "outputs": [
        {
          "output_type": "stream",
          "text": [
            "[[2379  347]\n",
            " [  39   96]]\n",
            "The accuracy score is : 0.8650821391121986\n",
            "              precision    recall  f1-score   support\n",
            "\n",
            "           0       0.98      0.87      0.92      2726\n",
            "           1       0.22      0.71      0.33       135\n",
            "\n",
            "    accuracy                           0.87      2861\n",
            "   macro avg       0.60      0.79      0.63      2861\n",
            "weighted avg       0.95      0.87      0.90      2861\n",
            "\n",
            "The roc_auc_score is : 0.8679859242955354\n"
          ],
          "name": "stdout"
        }
      ]
    },
    {
      "cell_type": "code",
      "metadata": {
        "colab": {
          "base_uri": "https://localhost:8080/"
        },
        "id": "FyoWcHoda1ft",
        "outputId": "b9f17949-867e-4ec8-f850-5bc23e4b67b2"
      },
      "source": [
        "print(np.concatenate((y_pred.reshape(len(y_pred),1), y_valid.reshape(len(y_valid),1)),1))"
      ],
      "execution_count": 231,
      "outputs": [
        {
          "output_type": "stream",
          "text": [
            "[[1 0]\n",
            " [0 0]\n",
            " [0 0]\n",
            " ...\n",
            " [0 0]\n",
            " [0 0]\n",
            " [0 0]]\n"
          ],
          "name": "stdout"
        }
      ]
    },
    {
      "cell_type": "markdown",
      "metadata": {
        "id": "Rxr9CL36VCiL"
      },
      "source": [
        "### Model 2: Random Oversampling"
      ]
    },
    {
      "cell_type": "code",
      "metadata": {
        "colab": {
          "base_uri": "https://localhost:8080/"
        },
        "id": "ypAfS4TBVQzZ",
        "outputId": "016a32d4-4092-4b0c-deef-ff8ae5613a6d"
      },
      "source": [
        "# Random Oversampling method\r\n",
        "from collections import Counter\r\n",
        "from imblearn.over_sampling import RandomOverSampler\r\n",
        "os=RandomOverSampler(0.75)\r\n",
        "X_os,y_os=os.fit_sample(X, y)\r\n",
        "\r\n",
        "print(\"The number of classes before fit {}\".format(Counter(y_train)))\r\n",
        "print(\"The number of classes after fit {}\".format(Counter(y_os)))"
      ],
      "execution_count": 232,
      "outputs": [
        {
          "output_type": "stream",
          "text": [
            "The number of classes before fit Counter({0: 10869, 1: 574})\n",
            "The number of classes after fit Counter({0: 13595, 1: 10196})\n"
          ],
          "name": "stdout"
        },
        {
          "output_type": "stream",
          "text": [
            "/usr/local/lib/python3.6/dist-packages/sklearn/utils/deprecation.py:87: FutureWarning: Function safe_indexing is deprecated; safe_indexing is deprecated in version 0.22 and will be removed in version 0.24.\n",
            "  warnings.warn(msg, category=FutureWarning)\n"
          ],
          "name": "stderr"
        }
      ]
    },
    {
      "cell_type": "code",
      "metadata": {
        "id": "FomYrbY5zBTo"
      },
      "source": [
        "# Break off validation set from training data\r\n",
        "from sklearn.model_selection import train_test_split\r\n",
        "X_train_os, X_valid_os, y_train_os, y_valid_os = train_test_split(X_os, y_os,train_size=0.8, test_size=0.2, random_state=0)\r\n",
        "accuracy = []\r\n",
        "roc_auc = []\r\n",
        "components = [2,3,4,5,6]\r\n",
        "# Applying PCA\r\n",
        "from sklearn.decomposition import PCA\r\n",
        "\r\n",
        "for values in components:\r\n",
        "  pca = PCA(n_components= values)\r\n",
        "  X_train_new = pca.fit_transform(X_train_os)\r\n",
        "  X_valid_new = pca.transform(X_valid_os)\r\n",
        "\r\n",
        "  # Train Random Forest Classifier\r\n",
        "  from sklearn.ensemble import RandomForestClassifier\r\n",
        "  classifier2=RandomForestClassifier()\r\n",
        "\r\n",
        "  classifier2.fit(X_train_new, y_train_os)\r\n",
        "  # Make prediction and print metrics\r\n",
        "  from sklearn.metrics import accuracy_score,roc_auc_score\r\n",
        "  y_pred=classifier2.predict(X_valid_new)\r\n",
        "  accuracy.append(accuracy_score(y_valid_os,y_pred))\r\n",
        "  roc_auc.append(roc_auc_score(y_valid_os, classifier2.predict_proba(X_valid_new)[:, 1]))"
      ],
      "execution_count": 233,
      "outputs": []
    },
    {
      "cell_type": "code",
      "metadata": {
        "colab": {
          "base_uri": "https://localhost:8080/",
          "height": 308
        },
        "id": "0pmN5j0R35ch",
        "outputId": "a7a447e2-4e42-41f2-e036-d9c41da54338"
      },
      "source": [
        "# Visualising the results\r\n",
        "# making subplots objects  \r\n",
        "fig, ax = plt.subplots(2,1) \r\n",
        "\r\n",
        "ax[0].plot(components, accuracy, color = 'red')\r\n",
        "\r\n",
        "ax[1].plot(components, roc_auc, color = 'blue')\r\n",
        "fig.suptitle('accuracy score and roc_auc_score')\r\n",
        "plt.xlabel('Order of prinicpal compoenents')\r\n",
        "plt.show()"
      ],
      "execution_count": 234,
      "outputs": [
        {
          "output_type": "display_data",
          "data": {
            "image/png": "[encoded data removed]",
            "text/plain": [
              "<Figure size 360x288 with 2 Axes>"
            ]
          },
          "metadata": {
            "tags": [],
            "needs_background": "light"
          }
        }
      ]
    },
    {
      "cell_type": "code",
      "metadata": {
        "colab": {
          "base_uri": "https://localhost:8080/"
        },
        "id": "IGa7zrZOVyfx",
        "outputId": "28822500-34eb-4373-f72a-945609b623fb"
      },
      "source": [
        "# Applying K-Fold validation based on best no_components\r\n",
        "# Applying PCA\r\n",
        "from sklearn.decomposition import PCA\r\n",
        "pca = PCA(n_components= 4)\r\n",
        "X_train_os = pca.fit_transform(X_train_os)\r\n",
        "X_valid_os = pca.transform(X_valid_os)\r\n",
        "\r\n",
        "  # Train Random Forest Classifier\r\n",
        "cv2=RandomForestClassifier()\r\n",
        "# Perform K-Fold CV and hyperparameter tuning\r\n",
        "parameters = {\r\n",
        "    'n_estimators': [100, 200, 500],\r\n",
        "    'criterion': ['gini', 'entropy']\r\n",
        "}\r\n",
        "\r\n",
        "cv2 = GridSearchCV(classifier2, parameters, cv=5)\r\n",
        "cv2.fit(X_train_os, y_train_os)\r\n",
        "\r\n",
        "print_results(cv2)"
      ],
      "execution_count": 235,
      "outputs": [
        {
          "output_type": "stream",
          "text": [
            "BEST PARAMS: {'criterion': 'entropy', 'n_estimators': 500}\n",
            "\n",
            "0.849 (+/-0.005) for {'criterion': 'gini', 'n_estimators': 100}\n",
            "0.849 (+/-0.006) for {'criterion': 'gini', 'n_estimators': 200}\n",
            "0.848 (+/-0.006) for {'criterion': 'gini', 'n_estimators': 500}\n",
            "0.849 (+/-0.006) for {'criterion': 'entropy', 'n_estimators': 100}\n",
            "0.848 (+/-0.006) for {'criterion': 'entropy', 'n_estimators': 200}\n",
            "0.849 (+/-0.004) for {'criterion': 'entropy', 'n_estimators': 500}\n"
          ],
          "name": "stdout"
        }
      ]
    },
    {
      "cell_type": "code",
      "metadata": {
        "colab": {
          "base_uri": "https://localhost:8080/"
        },
        "id": "6fn7iGrfcB_U",
        "outputId": "2a1581cc-7010-4af4-ca6f-2dea88163600"
      },
      "source": [
        "# Save best model\r\n",
        "model_2 = cv2.best_estimator_\r\n",
        "model_2"
      ],
      "execution_count": 236,
      "outputs": [
        {
          "output_type": "execute_result",
          "data": {
            "text/plain": [
              "RandomForestClassifier(bootstrap=True, ccp_alpha=0.0, class_weight=None,\n",
              "                       criterion='entropy', max_depth=None, max_features='auto',\n",
              "                       max_leaf_nodes=None, max_samples=None,\n",
              "                       min_impurity_decrease=0.0, min_impurity_split=None,\n",
              "                       min_samples_leaf=1, min_samples_split=2,\n",
              "                       min_weight_fraction_leaf=0.0, n_estimators=500,\n",
              "                       n_jobs=None, oob_score=False, random_state=None,\n",
              "                       verbose=0, warm_start=False)"
            ]
          },
          "metadata": {
            "tags": []
          },
          "execution_count": 236
        }
      ]
    },
    {
      "cell_type": "code",
      "metadata": {
        "colab": {
          "base_uri": "https://localhost:8080/"
        },
        "id": "Er3g1LAOV7Gl",
        "outputId": "c850cb08-dc23-4ad3-b843-c8c7418945b7"
      },
      "source": [
        "# Make prediction and print metrics\r\n",
        "from sklearn.metrics import confusion_matrix, accuracy_score, classification_report,roc_auc_score\r\n",
        "y_pred=model_2.predict(X_valid_os)\r\n",
        "y_pred_proba = model_2.predict_proba(X_valid_os)\r\n",
        "print( confusion_matrix(y_valid_os,y_pred))\r\n",
        "print(\"The accuracy score is :\", accuracy_score(y_valid_os,y_pred))\r\n",
        "print( classification_report(y_valid_os,y_pred))\r\n",
        "print(\"The roc_auc_score is :\",roc_auc_score(y_valid_os, model_2.predict_proba(X_valid_os)[:, 1]) )"
      ],
      "execution_count": 237,
      "outputs": [
        {
          "output_type": "stream",
          "text": [
            "[[2383  346]\n",
            " [ 342 1688]]\n",
            "The accuracy score is : 0.8554318134061778\n",
            "              precision    recall  f1-score   support\n",
            "\n",
            "           0       0.87      0.87      0.87      2729\n",
            "           1       0.83      0.83      0.83      2030\n",
            "\n",
            "    accuracy                           0.86      4759\n",
            "   macro avg       0.85      0.85      0.85      4759\n",
            "weighted avg       0.86      0.86      0.86      4759\n",
            "\n",
            "The roc_auc_score is : 0.9356456920469253\n"
          ],
          "name": "stdout"
        }
      ]
    },
    {
      "cell_type": "code",
      "metadata": {
        "colab": {
          "base_uri": "https://localhost:8080/"
        },
        "id": "EPql_If4WxT6",
        "outputId": "5936297d-27da-4743-d354-84fd7021184e"
      },
      "source": [
        "print(np.concatenate((y_pred.reshape(len(y_pred),1), y_valid_os.reshape(len(y_valid_os),1)),1))"
      ],
      "execution_count": 238,
      "outputs": [
        {
          "output_type": "stream",
          "text": [
            "[[0 0]\n",
            " [0 0]\n",
            " [0 0]\n",
            " ...\n",
            " [1 1]\n",
            " [0 1]\n",
            " [0 0]]\n"
          ],
          "name": "stdout"
        }
      ]
    },
    {
      "cell_type": "markdown",
      "metadata": {
        "id": "WgcHH0QzW8MO"
      },
      "source": [
        "### Model 3: SMOTEK"
      ]
    },
    {
      "cell_type": "code",
      "metadata": {
        "colab": {
          "base_uri": "https://localhost:8080/"
        },
        "id": "GMGl8KlFXHYX",
        "outputId": "14697c21-f80b-48f8-ec92-554b2b08327e"
      },
      "source": [
        "# Oversampling method \r\n",
        "# Class to perform over-sampling using SMOTE and cleaning using Tomek links.\r\n",
        "\r\n",
        "from imblearn.combine import SMOTETomek\r\n",
        "smk = SMOTETomek(random_state=0)\r\n",
        "X_sm,y_sm = smk.fit_sample(X,y)\r\n",
        "\r\n",
        "# Inspect resampled dataset\r\n",
        "from collections import Counter\r\n",
        "print('Original dataset shape %s' % Counter(y))\r\n",
        "print('Resampled dataset shape %s' % Counter(y_sm))"
      ],
      "execution_count": 241,
      "outputs": [
        {
          "output_type": "stream",
          "text": [
            "/usr/local/lib/python3.6/dist-packages/sklearn/utils/deprecation.py:87: FutureWarning: Function safe_indexing is deprecated; safe_indexing is deprecated in version 0.22 and will be removed in version 0.24.\n",
            "  warnings.warn(msg, category=FutureWarning)\n"
          ],
          "name": "stderr"
        },
        {
          "output_type": "stream",
          "text": [
            "Original dataset shape Counter({0: 13595, 1: 709})\n",
            "Resampled dataset shape Counter({0: 13595, 1: 13595})\n"
          ],
          "name": "stdout"
        },
        {
          "output_type": "stream",
          "text": [
            "/usr/local/lib/python3.6/dist-packages/sklearn/utils/deprecation.py:87: FutureWarning: Function safe_indexing is deprecated; safe_indexing is deprecated in version 0.22 and will be removed in version 0.24.\n",
            "  warnings.warn(msg, category=FutureWarning)\n"
          ],
          "name": "stderr"
        }
      ]
    },
    {
      "cell_type": "code",
      "metadata": {
        "id": "QtpQdFqd93HY"
      },
      "source": [
        "# Break off validation set from training data\r\n",
        "from sklearn.model_selection import train_test_split\r\n",
        "X_train_sm, X_valid_sm, y_train_sm, y_valid_sm = train_test_split(X_sm, y_sm,train_size=0.8, test_size=0.2, random_state=0)\r\n",
        "accuracy = []\r\n",
        "roc_auc = []\r\n",
        "\r\n",
        "components = [2,3,4,5,6]\r\n",
        "# Applying PCA\r\n",
        "from sklearn.decomposition import PCA\r\n",
        "for values in components:\r\n",
        "  pca_2 = PCA(n_components= values)\r\n",
        "  X_train_new = pca.fit_transform(X_train_sm)\r\n",
        "  X_valid_new = pca.transform(X_valid_sm)\r\n",
        "\r\n",
        "  # Train Random Forest Classifier\r\n",
        "  from sklearn.ensemble import RandomForestClassifier\r\n",
        "  classifier3=RandomForestClassifier()\r\n",
        "\r\n",
        "  classifier3.fit(X_train_new, y_train_sm)\r\n",
        "  # Make prediction and print metrics\r\n",
        "  from sklearn.metrics import accuracy_score,roc_auc_score\r\n",
        "  y_pred=classifier3.predict(X_valid_new)\r\n",
        "  accuracy.append(accuracy_score(y_valid_sm,y_pred))\r\n",
        "  roc_auc.append(roc_auc_score(y_valid_sm, classifier3.predict_proba(X_valid_new)[:, 1]))"
      ],
      "execution_count": 242,
      "outputs": []
    },
    {
      "cell_type": "code",
      "metadata": {
        "colab": {
          "base_uri": "https://localhost:8080/",
          "height": 308
        },
        "id": "E2AmIpBV-YQh",
        "outputId": "3631a142-df9f-4d1a-e24d-751d90fddd04"
      },
      "source": [
        "# Visualising the results\r\n",
        "# making subplots objects  \r\n",
        "fig, ax = plt.subplots(2,1) \r\n",
        "\r\n",
        "ax[0].plot(components, accuracy, color = 'red')\r\n",
        "\r\n",
        "ax[1].plot(components, roc_auc, color = 'blue')\r\n",
        "fig.suptitle('accuracy score and roc_auc_score')\r\n",
        "plt.xlabel('Order of prinicpal compoenents')\r\n",
        "plt.show()"
      ],
      "execution_count": 243,
      "outputs": [
        {
          "output_type": "display_data",
          "data": {
            "image/png": "[encoded data removed]",
            "text/plain": [
              "<Figure size 360x288 with 2 Axes>"
            ]
          },
          "metadata": {
            "tags": [],
            "needs_background": "light"
          }
        }
      ]
    },
    {
      "cell_type": "code",
      "metadata": {
        "colab": {
          "base_uri": "https://localhost:8080/"
        },
        "id": "l_jY4QAIXiNk",
        "outputId": "e751ba5e-9739-4476-f263-7a03a2e57101"
      },
      "source": [
        "# Applying K-Fold validation based on best no_components\r\n",
        "# Applying PCA\r\n",
        "from sklearn.decomposition import PCA\r\n",
        "pca_2 = PCA(n_components= 5)\r\n",
        "X_train_sm = pca_2.fit_transform(X_train_sm)\r\n",
        "X_valid_sm = pca_2.transform(X_valid_sm)\r\n",
        "\r\n",
        "# Train Random Forest Classifier\r\n",
        "from sklearn.ensemble import RandomForestClassifier\r\n",
        "clf3=RandomForestClassifier()\r\n",
        "\r\n",
        "# Perform K-Fold CV and hyperparameter tuning\r\n",
        "parameters = {\r\n",
        "    'n_estimators': [100, 200, 500],\r\n",
        "    'criterion': ['gini', 'entropy']\r\n",
        "}\r\n",
        "\r\n",
        "cv3 = GridSearchCV(clf3, parameters, cv=5)\r\n",
        "cv3.fit(X_train_sm, y_train_sm)\r\n",
        "\r\n",
        "print_results(cv3)"
      ],
      "execution_count": 244,
      "outputs": [
        {
          "output_type": "stream",
          "text": [
            "BEST PARAMS: {'criterion': 'gini', 'n_estimators': 500}\n",
            "\n",
            "0.848 (+/-0.013) for {'criterion': 'gini', 'n_estimators': 100}\n",
            "0.848 (+/-0.014) for {'criterion': 'gini', 'n_estimators': 200}\n",
            "0.849 (+/-0.014) for {'criterion': 'gini', 'n_estimators': 500}\n",
            "0.848 (+/-0.013) for {'criterion': 'entropy', 'n_estimators': 100}\n",
            "0.848 (+/-0.014) for {'criterion': 'entropy', 'n_estimators': 200}\n",
            "0.848 (+/-0.014) for {'criterion': 'entropy', 'n_estimators': 500}\n"
          ],
          "name": "stdout"
        }
      ]
    },
    {
      "cell_type": "code",
      "metadata": {
        "colab": {
          "base_uri": "https://localhost:8080/"
        },
        "id": "kujiIyzBdCR5",
        "outputId": "d4f0617f-84e0-4040-a70a-1cc1e4da54ff"
      },
      "source": [
        "# Save best model\r\n",
        "model_3 = cv3.best_estimator_\r\n",
        "model_3"
      ],
      "execution_count": 245,
      "outputs": [
        {
          "output_type": "execute_result",
          "data": {
            "text/plain": [
              "RandomForestClassifier(bootstrap=True, ccp_alpha=0.0, class_weight=None,\n",
              "                       criterion='gini', max_depth=None, max_features='auto',\n",
              "                       max_leaf_nodes=None, max_samples=None,\n",
              "                       min_impurity_decrease=0.0, min_impurity_split=None,\n",
              "                       min_samples_leaf=1, min_samples_split=2,\n",
              "                       min_weight_fraction_leaf=0.0, n_estimators=500,\n",
              "                       n_jobs=None, oob_score=False, random_state=None,\n",
              "                       verbose=0, warm_start=False)"
            ]
          },
          "metadata": {
            "tags": []
          },
          "execution_count": 245
        }
      ]
    },
    {
      "cell_type": "code",
      "metadata": {
        "colab": {
          "base_uri": "https://localhost:8080/"
        },
        "id": "4inUHQc6Xo5L",
        "outputId": "f0bc1ea9-8425-4ee2-a47c-b4b6c85f9813"
      },
      "source": [
        "# Make prediction and print metrics\r\n",
        "from sklearn.metrics import confusion_matrix, accuracy_score, classification_report,roc_auc_score\r\n",
        "y_pred=model_3.predict(X_valid_sm)\r\n",
        "y_pred_proba = model_3.predict_proba(X_valid_sm)\r\n",
        "print( confusion_matrix(y_valid_sm,y_pred))\r\n",
        "print(\"The accuracy score is :\", accuracy_score(y_valid_sm,y_pred))\r\n",
        "print( classification_report(y_valid_sm,y_pred))\r\n",
        "print(\"The roc_auc_score is :\",roc_auc_score(y_valid_sm, model_3.predict_proba(X_valid_sm)[:, 1]) )"
      ],
      "execution_count": 246,
      "outputs": [
        {
          "output_type": "stream",
          "text": [
            "[[2327  332]\n",
            " [ 462 2317]]\n",
            "The accuracy score is : 0.8539904376609048\n",
            "              precision    recall  f1-score   support\n",
            "\n",
            "           0       0.83      0.88      0.85      2659\n",
            "           1       0.87      0.83      0.85      2779\n",
            "\n",
            "    accuracy                           0.85      5438\n",
            "   macro avg       0.85      0.85      0.85      5438\n",
            "weighted avg       0.85      0.85      0.85      5438\n",
            "\n",
            "The roc_auc_score is : 0.9376705238788579\n"
          ],
          "name": "stdout"
        }
      ]
    },
    {
      "cell_type": "markdown",
      "metadata": {
        "id": "U-jc6I-AfRWT"
      },
      "source": [
        "### Save best Random Forest Model\r\n"
      ]
    },
    {
      "cell_type": "code",
      "metadata": {
        "id": "LiNpKE0ffYRI"
      },
      "source": [
        "# Save model as a pickle file\r\n",
        "import pickle\r\n",
        "filename = 'random_forest_v2.pickle'\r\n",
        "pickle.dump(model_2, open(filename, 'wb'))"
      ],
      "execution_count": 247,
      "outputs": []
    },
    {
      "cell_type": "markdown",
      "metadata": {
        "id": "vJD1-87Ff2tK"
      },
      "source": [
        "## Make prediction on test set with best model"
      ]
    },
    {
      "cell_type": "code",
      "metadata": {
        "colab": {
          "base_uri": "https://localhost:8080/",
          "height": 215
        },
        "id": "m6o0mVaKfxI1",
        "outputId": "9a3246ee-0b32-4db5-caf4-1ed5d615abdc"
      },
      "source": [
        "# Best model was obtained with random over sampling method\r\n",
        "column_names = X.columns\r\n",
        "dataset_test = df_test[column_names]\r\n",
        "\r\n",
        "dataset_test.head()"
      ],
      "execution_count": 248,
      "outputs": [
        {
          "output_type": "execute_result",
          "data": {
            "text/html": [
              "<div>\n",
              "<style scoped>\n",
              "    .dataframe tbody tr th:only-of-type {\n",
              "        vertical-align: middle;\n",
              "    }\n",
              "\n",
              "    .dataframe tbody tr th {\n",
              "        vertical-align: top;\n",
              "    }\n",
              "\n",
              "    .dataframe thead th {\n",
              "        text-align: right;\n",
              "    }\n",
              "</style>\n",
              "<table border=\"1\" class=\"dataframe\">\n",
              "  <thead>\n",
              "    <tr style=\"text-align: right;\">\n",
              "      <th></th>\n",
              "      <th>telecommuting</th>\n",
              "      <th>has_company_logo</th>\n",
              "      <th>has_questions</th>\n",
              "      <th>department_ind</th>\n",
              "      <th>salary_range_ind</th>\n",
              "      <th>company_profile_ind</th>\n",
              "      <th>description_ind</th>\n",
              "      <th>requirements_ind</th>\n",
              "      <th>benefits_ind</th>\n",
              "      <th>employment_type_ind</th>\n",
              "      <th>required_experience_ind</th>\n",
              "      <th>required_education_ind</th>\n",
              "      <th>industry_ind</th>\n",
              "      <th>function_ind</th>\n",
              "    </tr>\n",
              "  </thead>\n",
              "  <tbody>\n",
              "    <tr>\n",
              "      <th>0</th>\n",
              "      <td>0</td>\n",
              "      <td>1</td>\n",
              "      <td>1</td>\n",
              "      <td>1</td>\n",
              "      <td>0</td>\n",
              "      <td>1</td>\n",
              "      <td>1</td>\n",
              "      <td>1</td>\n",
              "      <td>1</td>\n",
              "      <td>1</td>\n",
              "      <td>1</td>\n",
              "      <td>0</td>\n",
              "      <td>1</td>\n",
              "      <td>0</td>\n",
              "    </tr>\n",
              "    <tr>\n",
              "      <th>1</th>\n",
              "      <td>0</td>\n",
              "      <td>1</td>\n",
              "      <td>1</td>\n",
              "      <td>1</td>\n",
              "      <td>0</td>\n",
              "      <td>1</td>\n",
              "      <td>1</td>\n",
              "      <td>1</td>\n",
              "      <td>1</td>\n",
              "      <td>1</td>\n",
              "      <td>1</td>\n",
              "      <td>0</td>\n",
              "      <td>0</td>\n",
              "      <td>1</td>\n",
              "    </tr>\n",
              "    <tr>\n",
              "      <th>2</th>\n",
              "      <td>0</td>\n",
              "      <td>0</td>\n",
              "      <td>0</td>\n",
              "      <td>0</td>\n",
              "      <td>1</td>\n",
              "      <td>1</td>\n",
              "      <td>1</td>\n",
              "      <td>0</td>\n",
              "      <td>0</td>\n",
              "      <td>1</td>\n",
              "      <td>1</td>\n",
              "      <td>1</td>\n",
              "      <td>1</td>\n",
              "      <td>1</td>\n",
              "    </tr>\n",
              "    <tr>\n",
              "      <th>3</th>\n",
              "      <td>0</td>\n",
              "      <td>0</td>\n",
              "      <td>0</td>\n",
              "      <td>1</td>\n",
              "      <td>0</td>\n",
              "      <td>0</td>\n",
              "      <td>1</td>\n",
              "      <td>1</td>\n",
              "      <td>1</td>\n",
              "      <td>0</td>\n",
              "      <td>0</td>\n",
              "      <td>0</td>\n",
              "      <td>0</td>\n",
              "      <td>0</td>\n",
              "    </tr>\n",
              "    <tr>\n",
              "      <th>4</th>\n",
              "      <td>0</td>\n",
              "      <td>1</td>\n",
              "      <td>0</td>\n",
              "      <td>0</td>\n",
              "      <td>0</td>\n",
              "      <td>1</td>\n",
              "      <td>1</td>\n",
              "      <td>1</td>\n",
              "      <td>0</td>\n",
              "      <td>1</td>\n",
              "      <td>1</td>\n",
              "      <td>1</td>\n",
              "      <td>1</td>\n",
              "      <td>1</td>\n",
              "    </tr>\n",
              "  </tbody>\n",
              "</table>\n",
              "</div>"
            ],
            "text/plain": [
              "   telecommuting  has_company_logo  ...  industry_ind  function_ind\n",
              "0              0                 1  ...             1             0\n",
              "1              0                 1  ...             0             1\n",
              "2              0                 0  ...             1             1\n",
              "3              0                 0  ...             0             0\n",
              "4              0                 1  ...             1             1\n",
              "\n",
              "[5 rows x 14 columns]"
            ]
          },
          "metadata": {
            "tags": []
          },
          "execution_count": 248
        }
      ]
    },
    {
      "cell_type": "code",
      "metadata": {
        "colab": {
          "base_uri": "https://localhost:8080/"
        },
        "id": "pVXnV1Z-g2BD",
        "outputId": "c0ae9f5a-33d1-4510-e490-0c70452005f0"
      },
      "source": [
        "# Make prediction\r\n",
        "X_test = dataset_test.values\r\n",
        "X_test = pca.transform(X_test)\r\n",
        "loaded_model = pickle.load(open('random_forest_v2.pickle', 'rb'))\r\n",
        "y_hat = loaded_model.predict(X_test)\r\n",
        "y_hat"
      ],
      "execution_count": 249,
      "outputs": [
        {
          "output_type": "execute_result",
          "data": {
            "text/plain": [
              "array([0, 0, 0, ..., 0, 0, 0])"
            ]
          },
          "metadata": {
            "tags": []
          },
          "execution_count": 249
        }
      ]
    },
    {
      "cell_type": "code",
      "metadata": {
        "id": "P723zeDzhH0P"
      },
      "source": [
        " # Save Numpy array to csv with custom header and footer\r\n",
        "np.savetxt('random_forest_v2_20210123.csv', y_hat, delimiter=',', fmt='%d' , header='Result:: Header', footer='This is footer')"
      ],
      "execution_count": 250,
      "outputs": []
    }
  ]
}