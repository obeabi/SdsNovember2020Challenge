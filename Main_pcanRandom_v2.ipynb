{
  "nbformat": 4,
  "nbformat_minor": 0,
  "metadata": {
    "colab": {
      "name": "Main_pcanRandom_v2.ipynb",
      "provenance": [],
      "toc_visible": true,
      "include_colab_link": true
    },
    "kernelspec": {
      "name": "python3",
      "display_name": "Python 3"
    }
  },
  "cells": [
    {
      "cell_type": "markdown",
      "metadata": {
        "id": "view-in-github",
        "colab_type": "text"
      },
      "source": [
        "<a href=\"https://colab.research.google.com/github/obeabi/SdsNovember2020Challenge/blob/main/Main_pcanRandom_v2.ipynb\" target=\"_parent\"><img src=\"https://colab.research.google.com/assets/colab-badge.svg\" alt=\"Open In Colab\"/></a>"
      ]
    },
    {
      "cell_type": "markdown",
      "metadata": {
        "id": "Rr3ZLSgXPUn0"
      },
      "source": [
        "# Written by Abiola Obembe\r\n",
        "# SDS October Challenge #3 - Fraudulent Job Adverts\r\n",
        "## 2021-01-22\r\n",
        "\r\n",
        "### Using PCA and RANDOM Forest ALGORTHIM"
      ]
    },
    {
      "cell_type": "markdown",
      "metadata": {
        "id": "LtcBcsk5PgoA"
      },
      "source": [
        "## Problem Statement\r\n",
        "Welcome Data Scientist to the 3rd SDS Club Monthly Challenge! In this month’s challenge you are helping your friend search for a job. Your friend has found thousands of job ads online and is trying to pick some to apply to. Your friends has heard that there are a lot of fraudulent job ads that are actually scams. Your mission is to help your friend by predicting whether a job is fraudulent based on the data provided."
      ]
    },
    {
      "cell_type": "code",
      "metadata": {
        "colab": {
          "base_uri": "https://localhost:8080/"
        },
        "id": "C5gZ6cLTPxyu",
        "outputId": "f03305a0-b951-4be3-fb08-2571893cea28"
      },
      "source": [
        "# Importing the libraries\r\n",
        "import numpy as np\r\n",
        "import matplotlib.pyplot as plt\r\n",
        "import pandas as pd\r\n",
        "import seaborn as sns\r\n",
        "!pip install imbalanced-learn\r\n",
        "from sklearn.model_selection import GridSearchCV\r\n",
        "from sklearn.decomposition import PCA\r\n",
        "from sklearn.preprocessing import StandardScaler\r\n",
        "from statsmodels.stats.outliers_influence import variance_inflation_factor \r\n",
        "\r\n",
        "\r\n",
        "%matplotlib inline\r\n",
        "plt.rcParams['figure.figsize'] = (5.0, 4.0) # set default size of plots\r\n",
        "plt.rcParams['image.interpolation'] = 'nearest'\r\n",
        "plt.rcParams['image.cmap'] = 'gray'\r\n",
        "\r\n",
        "print('Libraries installed successfully!')\r\n",
        "\r\n",
        "np.random.seed(0)"
      ],
      "execution_count": 1,
      "outputs": [
        {
          "output_type": "stream",
          "text": [
            "Requirement already satisfied: imbalanced-learn in /usr/local/lib/python3.6/dist-packages (0.4.3)\n",
            "Requirement already satisfied: scikit-learn>=0.20 in /usr/local/lib/python3.6/dist-packages (from imbalanced-learn) (0.22.2.post1)\n",
            "Requirement already satisfied: numpy>=1.8.2 in /usr/local/lib/python3.6/dist-packages (from imbalanced-learn) (1.19.5)\n",
            "Requirement already satisfied: scipy>=0.13.3 in /usr/local/lib/python3.6/dist-packages (from imbalanced-learn) (1.4.1)\n",
            "Requirement already satisfied: joblib>=0.11 in /usr/local/lib/python3.6/dist-packages (from scikit-learn>=0.20->imbalanced-learn) (1.0.0)\n",
            "Libraries installed successfully!\n"
          ],
          "name": "stdout"
        },
        {
          "output_type": "stream",
          "text": [
            "/usr/local/lib/python3.6/dist-packages/statsmodels/tools/_testing.py:19: FutureWarning: pandas.util.testing is deprecated. Use the functions in the public API at pandas.testing instead.\n",
            "  import pandas.util.testing as tm\n"
          ],
          "name": "stderr"
        }
      ]
    },
    {
      "cell_type": "code",
      "metadata": {
        "colab": {
          "base_uri": "https://localhost:8080/",
          "height": 215
        },
        "id": "ulTHtazpQAN5",
        "outputId": "c220d38a-17a1-474d-abeb-13dc02834155"
      },
      "source": [
        "# Importing the dataset and check the shape and total number of missing values\r\n",
        "\r\n",
        "df_train = pd.read_csv('df_train.csv')\r\n",
        "df_test = pd.read_csv('df_test.csv')\r\n",
        "\r\n",
        "df_train.head()"
      ],
      "execution_count": 2,
      "outputs": [
        {
          "output_type": "execute_result",
          "data": {
            "text/html": [
              "<div>\n",
              "<style scoped>\n",
              "    .dataframe tbody tr th:only-of-type {\n",
              "        vertical-align: middle;\n",
              "    }\n",
              "\n",
              "    .dataframe tbody tr th {\n",
              "        vertical-align: top;\n",
              "    }\n",
              "\n",
              "    .dataframe thead th {\n",
              "        text-align: right;\n",
              "    }\n",
              "</style>\n",
              "<table border=\"1\" class=\"dataframe\">\n",
              "  <thead>\n",
              "    <tr style=\"text-align: right;\">\n",
              "      <th></th>\n",
              "      <th>telecommuting</th>\n",
              "      <th>has_company_logo</th>\n",
              "      <th>has_questions</th>\n",
              "      <th>fraudulent</th>\n",
              "      <th>department_ind</th>\n",
              "      <th>salary_range_ind</th>\n",
              "      <th>company_profile_ind</th>\n",
              "      <th>description_ind</th>\n",
              "      <th>requirements_ind</th>\n",
              "      <th>benefits_ind</th>\n",
              "      <th>employment_type_ind</th>\n",
              "      <th>required_experience_ind</th>\n",
              "      <th>required_education_ind</th>\n",
              "      <th>industry_ind</th>\n",
              "      <th>function_ind</th>\n",
              "    </tr>\n",
              "  </thead>\n",
              "  <tbody>\n",
              "    <tr>\n",
              "      <th>0</th>\n",
              "      <td>0</td>\n",
              "      <td>1</td>\n",
              "      <td>1</td>\n",
              "      <td>0</td>\n",
              "      <td>1</td>\n",
              "      <td>1</td>\n",
              "      <td>1</td>\n",
              "      <td>1</td>\n",
              "      <td>0</td>\n",
              "      <td>0</td>\n",
              "      <td>1</td>\n",
              "      <td>1</td>\n",
              "      <td>0</td>\n",
              "      <td>1</td>\n",
              "      <td>1</td>\n",
              "    </tr>\n",
              "    <tr>\n",
              "      <th>1</th>\n",
              "      <td>0</td>\n",
              "      <td>1</td>\n",
              "      <td>1</td>\n",
              "      <td>0</td>\n",
              "      <td>1</td>\n",
              "      <td>0</td>\n",
              "      <td>1</td>\n",
              "      <td>1</td>\n",
              "      <td>1</td>\n",
              "      <td>0</td>\n",
              "      <td>1</td>\n",
              "      <td>0</td>\n",
              "      <td>0</td>\n",
              "      <td>1</td>\n",
              "      <td>1</td>\n",
              "    </tr>\n",
              "    <tr>\n",
              "      <th>2</th>\n",
              "      <td>0</td>\n",
              "      <td>1</td>\n",
              "      <td>1</td>\n",
              "      <td>0</td>\n",
              "      <td>1</td>\n",
              "      <td>1</td>\n",
              "      <td>1</td>\n",
              "      <td>1</td>\n",
              "      <td>1</td>\n",
              "      <td>1</td>\n",
              "      <td>1</td>\n",
              "      <td>1</td>\n",
              "      <td>1</td>\n",
              "      <td>1</td>\n",
              "      <td>1</td>\n",
              "    </tr>\n",
              "    <tr>\n",
              "      <th>3</th>\n",
              "      <td>0</td>\n",
              "      <td>0</td>\n",
              "      <td>0</td>\n",
              "      <td>1</td>\n",
              "      <td>0</td>\n",
              "      <td>1</td>\n",
              "      <td>0</td>\n",
              "      <td>1</td>\n",
              "      <td>0</td>\n",
              "      <td>0</td>\n",
              "      <td>1</td>\n",
              "      <td>1</td>\n",
              "      <td>1</td>\n",
              "      <td>1</td>\n",
              "      <td>1</td>\n",
              "    </tr>\n",
              "    <tr>\n",
              "      <th>4</th>\n",
              "      <td>0</td>\n",
              "      <td>1</td>\n",
              "      <td>0</td>\n",
              "      <td>0</td>\n",
              "      <td>1</td>\n",
              "      <td>1</td>\n",
              "      <td>1</td>\n",
              "      <td>1</td>\n",
              "      <td>1</td>\n",
              "      <td>1</td>\n",
              "      <td>1</td>\n",
              "      <td>1</td>\n",
              "      <td>1</td>\n",
              "      <td>1</td>\n",
              "      <td>1</td>\n",
              "    </tr>\n",
              "  </tbody>\n",
              "</table>\n",
              "</div>"
            ],
            "text/plain": [
              "   telecommuting  has_company_logo  ...  industry_ind  function_ind\n",
              "0              0                 1  ...             1             1\n",
              "1              0                 1  ...             1             1\n",
              "2              0                 1  ...             1             1\n",
              "3              0                 0  ...             1             1\n",
              "4              0                 1  ...             1             1\n",
              "\n",
              "[5 rows x 15 columns]"
            ]
          },
          "metadata": {
            "tags": []
          },
          "execution_count": 2
        }
      ]
    },
    {
      "cell_type": "code",
      "metadata": {
        "id": "Yzu-IrqIrYjl"
      },
      "source": [
        "# drop all indicator columns\r\n",
        "#df_train.drop(df_train.iloc[:, 4:], axis = 1, inplace= True)\r\n",
        "#df_train.drop(['department_ind','salary_range_ind','requirements_ind','benefits_ind','industry_ind'], axis = 1, inplace= True)\r\n",
        "#df_train.head()"
      ],
      "execution_count": 3,
      "outputs": []
    },
    {
      "cell_type": "code",
      "metadata": {
        "colab": {
          "base_uri": "https://localhost:8080/"
        },
        "id": "e9Y13MDLQRrD",
        "outputId": "fb4b9a65-2a42-4222-f6ed-6b3b9d5ed7e0"
      },
      "source": [
        "# print column names\r\n",
        "print(df_train.columns)\r\n",
        "print(df_train.shape)"
      ],
      "execution_count": 4,
      "outputs": [
        {
          "output_type": "stream",
          "text": [
            "Index(['telecommuting', 'has_company_logo', 'has_questions', 'fraudulent',\n",
            "       'department_ind', 'salary_range_ind', 'company_profile_ind',\n",
            "       'description_ind', 'requirements_ind', 'benefits_ind',\n",
            "       'employment_type_ind', 'required_experience_ind',\n",
            "       'required_education_ind', 'industry_ind', 'function_ind'],\n",
            "      dtype='object')\n",
            "(14304, 15)\n"
          ],
          "name": "stdout"
        }
      ]
    },
    {
      "cell_type": "code",
      "metadata": {
        "colab": {
          "base_uri": "https://localhost:8080/",
          "height": 295
        },
        "id": "1T7FGhwJQtqD",
        "outputId": "48e089af-2bfd-4916-cf85-aed3ae5b8ee1"
      },
      "source": [
        "# Let's visualize the distribution of data\r\n",
        "count_classes = pd.value_counts(df_train['fraudulent'], sort = True)\r\n",
        "count_classes.plot(kind = 'bar', rot = 0)\r\n",
        "plt.title(\"Fraudulent Job Distribution\")\r\n",
        "plt.xticks(range(2))\r\n",
        "plt.xlabel(\"Fraudulent\")\r\n",
        "plt.ylabel('Frequency')\r\n",
        "plt.show()"
      ],
      "execution_count": 5,
      "outputs": [
        {
          "output_type": "display_data",
          "data": {
            "image/png": "[encoded data removed]",
            "text/plain": [
              "<Figure size 432x288 with 1 Axes>"
            ]
          },
          "metadata": {
            "tags": [],
            "needs_background": "light"
          }
        }
      ]
    },
    {
      "cell_type": "code",
      "metadata": {
        "colab": {
          "base_uri": "https://localhost:8080/"
        },
        "id": "dSATW7jJQUYu",
        "outputId": "e6b1e5ed-e8bf-44f6-c67b-f985e0191979"
      },
      "source": [
        "# gET THE CANCELLED AND NOT CANCEELED FLIFGTS\r\n",
        "Fraud = df_train[df_train['fraudulent']== 1]\r\n",
        "notFraud = df_train[df_train['fraudulent']== 0]\r\n",
        "\r\n",
        "print(Fraud.shape, notFraud.shape)"
      ],
      "execution_count": 6,
      "outputs": [
        {
          "output_type": "stream",
          "text": [
            "(709, 15) (13595, 15)\n"
          ],
          "name": "stdout"
        }
      ]
    },
    {
      "cell_type": "code",
      "metadata": {
        "colab": {
          "base_uri": "https://localhost:8080/",
          "height": 462
        },
        "id": "Z8gJdEYsQ_d0",
        "outputId": "ea45d8cf-de96-4f21-e3fb-fe490fa110f0"
      },
      "source": [
        "# Extract features and target from train set dataframe\r\n",
        "X = df_train.drop(columns = ['fraudulent'])\r\n",
        "y = df_train['fraudulent']\r\n",
        "\r\n",
        "scalar = StandardScaler()\r\n",
        "X_scaled = scalar.fit_transform(X)\r\n",
        "vif = pd.DataFrame()\r\n",
        "vif[\"vif\"] = [variance_inflation_factor(X_scaled,i) for i in range(X_scaled.shape[1])]\r\n",
        "vif[\"Features\"] = X.columns\r\n",
        "\r\n",
        "#let's check the values\r\n",
        "vif"
      ],
      "execution_count": 7,
      "outputs": [
        {
          "output_type": "execute_result",
          "data": {
            "text/html": [
              "<div>\n",
              "<style scoped>\n",
              "    .dataframe tbody tr th:only-of-type {\n",
              "        vertical-align: middle;\n",
              "    }\n",
              "\n",
              "    .dataframe tbody tr th {\n",
              "        vertical-align: top;\n",
              "    }\n",
              "\n",
              "    .dataframe thead th {\n",
              "        text-align: right;\n",
              "    }\n",
              "</style>\n",
              "<table border=\"1\" class=\"dataframe\">\n",
              "  <thead>\n",
              "    <tr style=\"text-align: right;\">\n",
              "      <th></th>\n",
              "      <th>vif</th>\n",
              "      <th>Features</th>\n",
              "    </tr>\n",
              "  </thead>\n",
              "  <tbody>\n",
              "    <tr>\n",
              "      <th>0</th>\n",
              "      <td>1.015037</td>\n",
              "      <td>telecommuting</td>\n",
              "    </tr>\n",
              "    <tr>\n",
              "      <th>1</th>\n",
              "      <td>2.231826</td>\n",
              "      <td>has_company_logo</td>\n",
              "    </tr>\n",
              "    <tr>\n",
              "      <th>2</th>\n",
              "      <td>1.147619</td>\n",
              "      <td>has_questions</td>\n",
              "    </tr>\n",
              "    <tr>\n",
              "      <th>3</th>\n",
              "      <td>1.091452</td>\n",
              "      <td>department_ind</td>\n",
              "    </tr>\n",
              "    <tr>\n",
              "      <th>4</th>\n",
              "      <td>1.126374</td>\n",
              "      <td>salary_range_ind</td>\n",
              "    </tr>\n",
              "    <tr>\n",
              "      <th>5</th>\n",
              "      <td>2.043819</td>\n",
              "      <td>company_profile_ind</td>\n",
              "    </tr>\n",
              "    <tr>\n",
              "      <th>6</th>\n",
              "      <td>1.000841</td>\n",
              "      <td>description_ind</td>\n",
              "    </tr>\n",
              "    <tr>\n",
              "      <th>7</th>\n",
              "      <td>1.366703</td>\n",
              "      <td>requirements_ind</td>\n",
              "    </tr>\n",
              "    <tr>\n",
              "      <th>8</th>\n",
              "      <td>1.332157</td>\n",
              "      <td>benefits_ind</td>\n",
              "    </tr>\n",
              "    <tr>\n",
              "      <th>9</th>\n",
              "      <td>2.202904</td>\n",
              "      <td>employment_type_ind</td>\n",
              "    </tr>\n",
              "    <tr>\n",
              "      <th>10</th>\n",
              "      <td>2.179009</td>\n",
              "      <td>required_experience_ind</td>\n",
              "    </tr>\n",
              "    <tr>\n",
              "      <th>11</th>\n",
              "      <td>1.837713</td>\n",
              "      <td>required_education_ind</td>\n",
              "    </tr>\n",
              "    <tr>\n",
              "      <th>12</th>\n",
              "      <td>2.458947</td>\n",
              "      <td>industry_ind</td>\n",
              "    </tr>\n",
              "    <tr>\n",
              "      <th>13</th>\n",
              "      <td>2.071184</td>\n",
              "      <td>function_ind</td>\n",
              "    </tr>\n",
              "  </tbody>\n",
              "</table>\n",
              "</div>"
            ],
            "text/plain": [
              "         vif                 Features\n",
              "0   1.015037            telecommuting\n",
              "1   2.231826         has_company_logo\n",
              "2   1.147619            has_questions\n",
              "3   1.091452           department_ind\n",
              "4   1.126374         salary_range_ind\n",
              "5   2.043819      company_profile_ind\n",
              "6   1.000841          description_ind\n",
              "7   1.366703         requirements_ind\n",
              "8   1.332157             benefits_ind\n",
              "9   2.202904      employment_type_ind\n",
              "10  2.179009  required_experience_ind\n",
              "11  1.837713   required_education_ind\n",
              "12  2.458947             industry_ind\n",
              "13  2.071184             function_ind"
            ]
          },
          "metadata": {
            "tags": []
          },
          "execution_count": 7
        }
      ]
    },
    {
      "cell_type": "code",
      "metadata": {
        "colab": {
          "base_uri": "https://localhost:8080/"
        },
        "id": "SsnfakX5Re-u",
        "outputId": "ded190a8-595c-4a8d-c526-1a92eb42db41"
      },
      "source": [
        "# print first five rows target column\r\n",
        "y[0:5].values"
      ],
      "execution_count": 9,
      "outputs": [
        {
          "output_type": "execute_result",
          "data": {
            "text/plain": [
              "array([0, 0, 0, 1, 0])"
            ]
          },
          "metadata": {
            "tags": []
          },
          "execution_count": 9
        }
      ]
    },
    {
      "cell_type": "code",
      "metadata": {
        "colab": {
          "base_uri": "https://localhost:8080/"
        },
        "id": "zMr0NwwaRmVL",
        "outputId": "c5a1b4d5-6061-4b81-c336-f3b6c5fe0e7f"
      },
      "source": [
        "# Split data to train and test set\r\n",
        "from sklearn.model_selection import train_test_split\r\n",
        "X_train, X_valid, y_train, y_valid = train_test_split(X_scaled, y, train_size=0.8, test_size=0.2, random_state=0)\r\n",
        "\r\n",
        "# Organize train set\r\n",
        "X_train"
      ],
      "execution_count": 11,
      "outputs": [
        {
          "output_type": "execute_result",
          "data": {
            "text/plain": [
              "array([[-0.21339542,  0.508746  , -0.98570066, ...,  0.90839871,\n",
              "         0.61225471,  0.75120201],\n",
              "       [-0.21339542,  0.508746  ,  1.01450678, ..., -1.1008382 ,\n",
              "         0.61225471,  0.75120201],\n",
              "       [-0.21339542, -1.96561741,  1.01450678, ..., -1.1008382 ,\n",
              "        -1.63330717, -1.33119984],\n",
              "       ...,\n",
              "       [-0.21339542,  0.508746  ,  1.01450678, ...,  0.90839871,\n",
              "         0.61225471, -1.33119984],\n",
              "       [-0.21339542,  0.508746  ,  1.01450678, ...,  0.90839871,\n",
              "         0.61225471,  0.75120201],\n",
              "       [-0.21339542,  0.508746  ,  1.01450678, ...,  0.90839871,\n",
              "         0.61225471,  0.75120201]])"
            ]
          },
          "metadata": {
            "tags": []
          },
          "execution_count": 11
        }
      ]
    },
    {
      "cell_type": "code",
      "metadata": {
        "id": "9XnN4IQK0H25",
        "outputId": "5fbf281c-049f-4e99-db85-7f9c356938f2",
        "colab": {
          "base_uri": "https://localhost:8080/",
          "height": 295
        }
      },
      "source": [
        "#  let's use PCA for feature selection and see if it improves our accuracy.\r\n",
        "from sklearn.decomposition import PCA\r\n",
        "pca = PCA()\r\n",
        "principalComponents = pca.fit_transform(X_scaled)\r\n",
        "plt.figure()\r\n",
        "plt.plot(np.cumsum(pca.explained_variance_ratio_))\r\n",
        "plt.xlabel('Number of Components')\r\n",
        "plt.ylabel('Variance (%)') #for each component\r\n",
        "plt.title('Explained Variance')\r\n",
        "plt.show()"
      ],
      "execution_count": 13,
      "outputs": [
        {
          "output_type": "display_data",
          "data": {
            "image/png": "[encoded data removed]",
            "text/plain": [
              "<Figure size 432x288 with 1 Axes>"
            ]
          },
          "metadata": {
            "tags": [],
            "needs_background": "light"
          }
        }
      ]
    },
    {
      "cell_type": "code",
      "metadata": {
        "id": "Eb6orH3dxQYL"
      },
      "source": [
        "# Applying PCA\r\n",
        "from sklearn.decomposition import PCA\r\n",
        "pca = PCA(n_components = 10)\r\n",
        "X_train = pca.fit_transform(X_train)\r\n",
        "X_valid = pca.transform(X_valid)"
      ],
      "execution_count": 14,
      "outputs": []
    },
    {
      "cell_type": "code",
      "metadata": {
        "id": "WiocMC_Vxrrr"
      },
      "source": [
        "# Function for results\r\n",
        "def print_results(results):\r\n",
        "    print('BEST PARAMS: {}\\n'.format(results.best_params_))\r\n",
        "\r\n",
        "    means = results.cv_results_['mean_test_score']\r\n",
        "    stds = results.cv_results_['std_test_score']\r\n",
        "    for mean, std, params in zip(means, stds, results.cv_results_['params']):\r\n",
        "        print('{} (+/-{}) for {}'.format(round(mean, 3), round(std * 2, 3), params))"
      ],
      "execution_count": 16,
      "outputs": []
    },
    {
      "cell_type": "markdown",
      "metadata": {
        "id": "2-LyhyCDSCdz"
      },
      "source": [
        "### Model 1: Train Model Directly (disregarding imbalanced nature of dataset"
      ]
    },
    {
      "cell_type": "code",
      "metadata": {
        "id": "qujW37JaSK5u",
        "colab": {
          "base_uri": "https://localhost:8080/"
        },
        "outputId": "5cd4360d-c727-4057-daae-6947ad3e2ae3"
      },
      "source": [
        "# Train Random Forest Classifier\r\n",
        "class_weight=dict({0:1,1:15})\r\n",
        "from sklearn.ensemble import RandomForestClassifier\r\n",
        "classifier=RandomForestClassifier( class_weight= class_weight)\r\n",
        "classifier.fit(X_train, y_train)\r\n"
      ],
      "execution_count": 17,
      "outputs": [
        {
          "output_type": "execute_result",
          "data": {
            "text/plain": [
              "RandomForestClassifier(bootstrap=True, ccp_alpha=0.0,\n",
              "                       class_weight={0: 1, 1: 15}, criterion='gini',\n",
              "                       max_depth=None, max_features='auto', max_leaf_nodes=None,\n",
              "                       max_samples=None, min_impurity_decrease=0.0,\n",
              "                       min_impurity_split=None, min_samples_leaf=1,\n",
              "                       min_samples_split=2, min_weight_fraction_leaf=0.0,\n",
              "                       n_estimators=100, n_jobs=None, oob_score=False,\n",
              "                       random_state=None, verbose=0, warm_start=False)"
            ]
          },
          "metadata": {
            "tags": []
          },
          "execution_count": 17
        }
      ]
    },
    {
      "cell_type": "code",
      "metadata": {
        "colab": {
          "base_uri": "https://localhost:8080/"
        },
        "id": "6MI9Y_gex2xT",
        "outputId": "5a842910-421b-4436-b936-f98a2af7362b"
      },
      "source": [
        "# Make prediction and print metrics\r\n",
        "from sklearn.metrics import confusion_matrix, accuracy_score, classification_report,roc_auc_score\r\n",
        "y_pred=classifier.predict(X_valid)\r\n",
        "y_pred_proba = classifier.predict_proba(X_valid)\r\n",
        "print( confusion_matrix(y_valid,y_pred))\r\n",
        "print(\"The accuracy score is :\", accuracy_score(y_valid,y_pred))\r\n",
        "print( classification_report(y_valid,y_pred))\r\n",
        "print(\"The roc_auc_score is :\",roc_auc_score(y_valid, classifier.predict_proba(X_valid)[:, 1]))"
      ],
      "execution_count": 18,
      "outputs": [
        {
          "output_type": "stream",
          "text": [
            "[[2378  348]\n",
            " [  40   95]]\n",
            "The accuracy score is : 0.8643830828381684\n",
            "              precision    recall  f1-score   support\n",
            "\n",
            "           0       0.98      0.87      0.92      2726\n",
            "           1       0.21      0.70      0.33       135\n",
            "\n",
            "    accuracy                           0.86      2861\n",
            "   macro avg       0.60      0.79      0.63      2861\n",
            "weighted avg       0.95      0.86      0.90      2861\n",
            "\n",
            "The roc_auc_score is : 0.8678935355017527\n"
          ],
          "name": "stdout"
        }
      ]
    },
    {
      "cell_type": "code",
      "metadata": {
        "colab": {
          "base_uri": "https://localhost:8080/"
        },
        "id": "DU9R7UDgZGfQ",
        "outputId": "616a1edc-ab12-4ac7-8c69-603a6b5a3b56"
      },
      "source": [
        "# Perform K-Fold CV and hyperparameter tuning\r\n",
        "parameters = {\r\n",
        "    'n_estimators': [100, 200, 500],\r\n",
        "    'criterion': ['gini', 'entropy']\r\n",
        "}\r\n",
        "\r\n",
        "cv = GridSearchCV(classifier, parameters, cv=5)\r\n",
        "cv.fit(X_train, y_train)\r\n",
        "\r\n",
        "print_results(cv)"
      ],
      "execution_count": 19,
      "outputs": [
        {
          "output_type": "stream",
          "text": [
            "BEST PARAMS: {'criterion': 'entropy', 'n_estimators': 100}\n",
            "\n",
            "0.871 (+/-0.011) for {'criterion': 'gini', 'n_estimators': 100}\n",
            "0.869 (+/-0.014) for {'criterion': 'gini', 'n_estimators': 200}\n",
            "0.869 (+/-0.012) for {'criterion': 'gini', 'n_estimators': 500}\n",
            "0.872 (+/-0.01) for {'criterion': 'entropy', 'n_estimators': 100}\n",
            "0.87 (+/-0.011) for {'criterion': 'entropy', 'n_estimators': 200}\n",
            "0.87 (+/-0.011) for {'criterion': 'entropy', 'n_estimators': 500}\n"
          ],
          "name": "stdout"
        }
      ]
    },
    {
      "cell_type": "code",
      "metadata": {
        "colab": {
          "base_uri": "https://localhost:8080/"
        },
        "id": "aOtwhf9kaVhH",
        "outputId": "e6bd22f0-aac1-43eb-d2e7-b3021f4e3436"
      },
      "source": [
        "# Save best model\r\n",
        "model_1 = cv.best_estimator_\r\n",
        "model_1"
      ],
      "execution_count": 20,
      "outputs": [
        {
          "output_type": "execute_result",
          "data": {
            "text/plain": [
              "RandomForestClassifier(bootstrap=True, ccp_alpha=0.0,\n",
              "                       class_weight={0: 1, 1: 15}, criterion='entropy',\n",
              "                       max_depth=None, max_features='auto', max_leaf_nodes=None,\n",
              "                       max_samples=None, min_impurity_decrease=0.0,\n",
              "                       min_impurity_split=None, min_samples_leaf=1,\n",
              "                       min_samples_split=2, min_weight_fraction_leaf=0.0,\n",
              "                       n_estimators=100, n_jobs=None, oob_score=False,\n",
              "                       random_state=None, verbose=0, warm_start=False)"
            ]
          },
          "metadata": {
            "tags": []
          },
          "execution_count": 20
        }
      ]
    },
    {
      "cell_type": "code",
      "metadata": {
        "colab": {
          "base_uri": "https://localhost:8080/"
        },
        "id": "iznm7fAFaiaC",
        "outputId": "ca2bacc0-f81a-4c49-9c24-215d3a9689e0"
      },
      "source": [
        "# Make prediction and print metrics\r\n",
        "from sklearn.metrics import confusion_matrix, accuracy_score, classification_report,roc_auc_score\r\n",
        "y_pred=model_1.predict(X_valid)\r\n",
        "y_pred_proba = model_1.predict_proba(X_valid)\r\n",
        "print( confusion_matrix(y_valid,y_pred))\r\n",
        "print(\"The accuracy score is :\", accuracy_score(y_valid,y_pred))\r\n",
        "print( classification_report(y_valid,y_pred))\r\n",
        "print(\"The roc_auc_score is :\",roc_auc_score(y_valid, model_1.predict_proba(X_valid)[:, 1]) )"
      ],
      "execution_count": 21,
      "outputs": [
        {
          "output_type": "stream",
          "text": [
            "[[2385  341]\n",
            " [  40   95]]\n",
            "The accuracy score is : 0.8668297797972737\n",
            "              precision    recall  f1-score   support\n",
            "\n",
            "           0       0.98      0.87      0.93      2726\n",
            "           1       0.22      0.70      0.33       135\n",
            "\n",
            "    accuracy                           0.87      2861\n",
            "   macro avg       0.60      0.79      0.63      2861\n",
            "weighted avg       0.95      0.87      0.90      2861\n",
            "\n",
            "The roc_auc_score is : 0.8691815439797832\n"
          ],
          "name": "stdout"
        }
      ]
    },
    {
      "cell_type": "code",
      "metadata": {
        "colab": {
          "base_uri": "https://localhost:8080/"
        },
        "id": "FyoWcHoda1ft",
        "outputId": "e544c082-ffa5-4096-e923-476fe7e2f923"
      },
      "source": [
        "y_result = y_valid.values.ravel()\r\n",
        "print(np.concatenate((y_pred.reshape(len(y_pred),1), y_result.reshape(len(y_result),1)),1))"
      ],
      "execution_count": 23,
      "outputs": [
        {
          "output_type": "stream",
          "text": [
            "[[1 0]\n",
            " [0 0]\n",
            " [0 0]\n",
            " ...\n",
            " [0 0]\n",
            " [0 0]\n",
            " [0 0]]\n"
          ],
          "name": "stdout"
        }
      ]
    },
    {
      "cell_type": "markdown",
      "metadata": {
        "id": "Rxr9CL36VCiL"
      },
      "source": [
        "### Model 2: Random Oversampling"
      ]
    },
    {
      "cell_type": "code",
      "metadata": {
        "colab": {
          "base_uri": "https://localhost:8080/"
        },
        "id": "ypAfS4TBVQzZ",
        "outputId": "6ea9634f-90aa-4624-e478-d7743bf5b191"
      },
      "source": [
        "# Random Oversampling method\r\n",
        "from collections import Counter\r\n",
        "from imblearn.over_sampling import RandomOverSampler\r\n",
        "os=RandomOverSampler(0.75)\r\n",
        "X_os,y_os=os.fit_sample(X_scaled, y)\r\n",
        "\r\n",
        "print(\"The number of classes before fit {}\".format(Counter(y_train)))\r\n",
        "print(\"The number of classes after fit {}\".format(Counter(y_os)))"
      ],
      "execution_count": 24,
      "outputs": [
        {
          "output_type": "stream",
          "text": [
            "The number of classes before fit Counter({0: 10869, 1: 574})\n",
            "The number of classes after fit Counter({0: 13595, 1: 10196})\n"
          ],
          "name": "stdout"
        },
        {
          "output_type": "stream",
          "text": [
            "/usr/local/lib/python3.6/dist-packages/sklearn/externals/six.py:31: FutureWarning: The module is deprecated in version 0.21 and will be removed in version 0.23 since we've dropped support for Python 2.7. Please rely on the official version of six (https://pypi.org/project/six/).\n",
            "  \"(https://pypi.org/project/six/).\", FutureWarning)\n",
            "/usr/local/lib/python3.6/dist-packages/sklearn/utils/deprecation.py:144: FutureWarning: The sklearn.neighbors.base module is  deprecated in version 0.22 and will be removed in version 0.24. The corresponding classes / functions should instead be imported from sklearn.neighbors. Anything that cannot be imported from sklearn.neighbors is now part of the private API.\n",
            "  warnings.warn(message, FutureWarning)\n",
            "/usr/local/lib/python3.6/dist-packages/sklearn/utils/deprecation.py:87: FutureWarning: Function safe_indexing is deprecated; safe_indexing is deprecated in version 0.22 and will be removed in version 0.24.\n",
            "  warnings.warn(msg, category=FutureWarning)\n"
          ],
          "name": "stderr"
        }
      ]
    },
    {
      "cell_type": "code",
      "metadata": {
        "id": "FomYrbY5zBTo",
        "outputId": "eaeeff21-dcf3-4291-e63f-09d110b2b9a2",
        "colab": {
          "base_uri": "https://localhost:8080/"
        }
      },
      "source": [
        "# Break off validation set from training data\r\n",
        "from sklearn.model_selection import train_test_split\r\n",
        "X_train_os, X_valid_os, y_train_os, y_valid_os = train_test_split(X_os, y_os,train_size=0.8, test_size=0.2, random_state=0)\r\n",
        "\r\n",
        "# Applying K-Fold validation based on best no_components\r\n",
        "from sklearn.decomposition import PCA\r\n",
        "pca = PCA(n_components= 10)\r\n",
        "X_train_os = pca.fit_transform(X_train_os)\r\n",
        "X_valid_os = pca.transform(X_valid_os)\r\n",
        "\r\n",
        "# Train Random Forest Classifier\r\n",
        "clf2=RandomForestClassifier()\r\n",
        "# Perform K-Fold CV and hyperparameter tuning\r\n",
        "parameters = {\r\n",
        "    'n_estimators': [100, 200, 500],\r\n",
        "    'criterion': ['gini', 'entropy']\r\n",
        "}\r\n",
        "\r\n",
        "cv2 = GridSearchCV(clf2, parameters, cv=5)\r\n",
        "cv2.fit(X_train_os, y_train_os)\r\n",
        "\r\n",
        "print_results(cv2)"
      ],
      "execution_count": 26,
      "outputs": [
        {
          "output_type": "stream",
          "text": [
            "BEST PARAMS: {'criterion': 'entropy', 'n_estimators': 100}\n",
            "\n",
            "0.85 (+/-0.003) for {'criterion': 'gini', 'n_estimators': 100}\n",
            "0.849 (+/-0.003) for {'criterion': 'gini', 'n_estimators': 200}\n",
            "0.85 (+/-0.002) for {'criterion': 'gini', 'n_estimators': 500}\n",
            "0.85 (+/-0.003) for {'criterion': 'entropy', 'n_estimators': 100}\n",
            "0.85 (+/-0.002) for {'criterion': 'entropy', 'n_estimators': 200}\n",
            "0.85 (+/-0.003) for {'criterion': 'entropy', 'n_estimators': 500}\n"
          ],
          "name": "stdout"
        }
      ]
    },
    {
      "cell_type": "code",
      "metadata": {
        "colab": {
          "base_uri": "https://localhost:8080/"
        },
        "id": "6fn7iGrfcB_U",
        "outputId": "d1f6ddbe-d68f-45ee-fe05-57a946e2cf54"
      },
      "source": [
        "# Save best model\r\n",
        "model_2 = cv2.best_estimator_\r\n",
        "model_2"
      ],
      "execution_count": null,
      "outputs": [
        {
          "output_type": "execute_result",
          "data": {
            "text/plain": [
              "RandomForestClassifier(bootstrap=True, ccp_alpha=0.0, class_weight=None,\n",
              "                       criterion='entropy', max_depth=None, max_features='auto',\n",
              "                       max_leaf_nodes=None, max_samples=None,\n",
              "                       min_impurity_decrease=0.0, min_impurity_split=None,\n",
              "                       min_samples_leaf=1, min_samples_split=2,\n",
              "                       min_weight_fraction_leaf=0.0, n_estimators=100,\n",
              "                       n_jobs=None, oob_score=False, random_state=None,\n",
              "                       verbose=0, warm_start=False)"
            ]
          },
          "metadata": {
            "tags": []
          },
          "execution_count": 273
        }
      ]
    },
    {
      "cell_type": "code",
      "metadata": {
        "colab": {
          "base_uri": "https://localhost:8080/"
        },
        "id": "Er3g1LAOV7Gl",
        "outputId": "0202cdf8-f807-487a-e24a-c08f2cdbd78b"
      },
      "source": [
        "# Make prediction and print metrics\r\n",
        "from sklearn.metrics import confusion_matrix, accuracy_score, classification_report,roc_auc_score\r\n",
        "y_pred=model_2.predict(X_valid_os)\r\n",
        "y_pred_proba = model_2.predict_proba(X_valid_os)\r\n",
        "print( confusion_matrix(y_valid_os,y_pred))\r\n",
        "print(\"The accuracy score is :\", accuracy_score(y_valid_os,y_pred))\r\n",
        "print( classification_report(y_valid_os,y_pred))\r\n",
        "print(\"The roc_auc_score is :\",roc_auc_score(y_valid_os, model_2.predict_proba(X_valid_os)[:, 1]) )"
      ],
      "execution_count": null,
      "outputs": [
        {
          "output_type": "stream",
          "text": [
            "[[2384  345]\n",
            " [ 348 1682]]\n",
            "The accuracy score is : 0.8543811725152343\n",
            "              precision    recall  f1-score   support\n",
            "\n",
            "           0       0.87      0.87      0.87      2729\n",
            "           1       0.83      0.83      0.83      2030\n",
            "\n",
            "    accuracy                           0.85      4759\n",
            "   macro avg       0.85      0.85      0.85      4759\n",
            "weighted avg       0.85      0.85      0.85      4759\n",
            "\n",
            "The roc_auc_score is : 0.9356357640161231\n"
          ],
          "name": "stdout"
        }
      ]
    },
    {
      "cell_type": "code",
      "metadata": {
        "colab": {
          "base_uri": "https://localhost:8080/"
        },
        "id": "EPql_If4WxT6",
        "outputId": "5936297d-27da-4743-d354-84fd7021184e"
      },
      "source": [
        "print(np.concatenate((y_pred.reshape(len(y_pred),1), y_valid_os.reshape(len(y_valid_os),1)),1))"
      ],
      "execution_count": null,
      "outputs": [
        {
          "output_type": "stream",
          "text": [
            "[[0 0]\n",
            " [0 0]\n",
            " [0 0]\n",
            " ...\n",
            " [1 1]\n",
            " [0 1]\n",
            " [0 0]]\n"
          ],
          "name": "stdout"
        }
      ]
    },
    {
      "cell_type": "markdown",
      "metadata": {
        "id": "WgcHH0QzW8MO"
      },
      "source": [
        "### Model 3: SMOTEK"
      ]
    },
    {
      "cell_type": "code",
      "metadata": {
        "colab": {
          "base_uri": "https://localhost:8080/"
        },
        "id": "GMGl8KlFXHYX",
        "outputId": "1866fa55-c8e1-491d-d662-9396ba4c0aee"
      },
      "source": [
        "# Oversampling method \r\n",
        "# Class to perform over-sampling using SMOTE and cleaning using Tomek links.\r\n",
        "\r\n",
        "from imblearn.combine import SMOTETomek\r\n",
        "smk = SMOTETomek(random_state=0)\r\n",
        "X_sm,y_sm = smk.fit_sample(X_scaled,y)\r\n",
        "\r\n",
        "# Inspect resampled dataset\r\n",
        "from collections import Counter\r\n",
        "print('Original dataset shape %s' % Counter(y))\r\n",
        "print('Resampled dataset shape %s' % Counter(y_sm))"
      ],
      "execution_count": 27,
      "outputs": [
        {
          "output_type": "stream",
          "text": [
            "/usr/local/lib/python3.6/dist-packages/sklearn/utils/deprecation.py:87: FutureWarning: Function safe_indexing is deprecated; safe_indexing is deprecated in version 0.22 and will be removed in version 0.24.\n",
            "  warnings.warn(msg, category=FutureWarning)\n"
          ],
          "name": "stderr"
        },
        {
          "output_type": "stream",
          "text": [
            "Original dataset shape Counter({0: 13595, 1: 709})\n",
            "Resampled dataset shape Counter({0: 13595, 1: 13595})\n"
          ],
          "name": "stdout"
        },
        {
          "output_type": "stream",
          "text": [
            "/usr/local/lib/python3.6/dist-packages/sklearn/utils/deprecation.py:87: FutureWarning: Function safe_indexing is deprecated; safe_indexing is deprecated in version 0.22 and will be removed in version 0.24.\n",
            "  warnings.warn(msg, category=FutureWarning)\n"
          ],
          "name": "stderr"
        }
      ]
    },
    {
      "cell_type": "code",
      "metadata": {
        "id": "QtpQdFqd93HY",
        "outputId": "76441f3e-1261-417d-ac27-b8620086a479",
        "colab": {
          "base_uri": "https://localhost:8080/"
        }
      },
      "source": [
        "# Break off validation set from training data\r\n",
        "from sklearn.model_selection import train_test_split\r\n",
        "X_train_sm, X_valid_sm, y_train_sm, y_valid_sm = train_test_split(X_sm, y_sm,train_size=0.8, test_size=0.2, random_state=0)\r\n",
        "\r\n",
        "# Applying PCA\r\n",
        "from sklearn.decomposition import PCA\r\n",
        "pca_2 = PCA(n_components= 10)\r\n",
        "X_train_sm = pca_2.fit_transform(X_train_sm)\r\n",
        "X_valid_sm = pca_2.transform(X_valid_sm)\r\n",
        "\r\n",
        "# Train Random Forest Classifier\r\n",
        "from sklearn.ensemble import RandomForestClassifier\r\n",
        "clf3 = RandomForestClassifier()\r\n",
        "\r\n",
        "# Perform K-Fold CV and hyperparameter tuning\r\n",
        "parameters = {\r\n",
        "    'n_estimators': [100, 200, 500],\r\n",
        "    'criterion': ['gini', 'entropy']\r\n",
        "}\r\n",
        "\r\n",
        "cv3 = GridSearchCV(clf3, parameters, cv=5)\r\n",
        "cv3.fit(X_train_sm, y_train_sm)\r\n",
        "\r\n",
        "print_results(cv3)"
      ],
      "execution_count": 28,
      "outputs": [
        {
          "output_type": "stream",
          "text": [
            "BEST PARAMS: {'criterion': 'gini', 'n_estimators': 500}\n",
            "\n",
            "0.875 (+/-0.011) for {'criterion': 'gini', 'n_estimators': 100}\n",
            "0.875 (+/-0.011) for {'criterion': 'gini', 'n_estimators': 200}\n",
            "0.875 (+/-0.011) for {'criterion': 'gini', 'n_estimators': 500}\n",
            "0.875 (+/-0.011) for {'criterion': 'entropy', 'n_estimators': 100}\n",
            "0.875 (+/-0.011) for {'criterion': 'entropy', 'n_estimators': 200}\n",
            "0.874 (+/-0.01) for {'criterion': 'entropy', 'n_estimators': 500}\n"
          ],
          "name": "stdout"
        }
      ]
    },
    {
      "cell_type": "code",
      "metadata": {
        "colab": {
          "base_uri": "https://localhost:8080/"
        },
        "id": "kujiIyzBdCR5",
        "outputId": "9ff57850-9927-4a56-e8a0-81eeacf5857d"
      },
      "source": [
        "# Save best model\r\n",
        "model_3 = cv3.best_estimator_\r\n",
        "model_3"
      ],
      "execution_count": 29,
      "outputs": [
        {
          "output_type": "execute_result",
          "data": {
            "text/plain": [
              "RandomForestClassifier(bootstrap=True, ccp_alpha=0.0, class_weight=None,\n",
              "                       criterion='gini', max_depth=None, max_features='auto',\n",
              "                       max_leaf_nodes=None, max_samples=None,\n",
              "                       min_impurity_decrease=0.0, min_impurity_split=None,\n",
              "                       min_samples_leaf=1, min_samples_split=2,\n",
              "                       min_weight_fraction_leaf=0.0, n_estimators=500,\n",
              "                       n_jobs=None, oob_score=False, random_state=None,\n",
              "                       verbose=0, warm_start=False)"
            ]
          },
          "metadata": {
            "tags": []
          },
          "execution_count": 29
        }
      ]
    },
    {
      "cell_type": "code",
      "metadata": {
        "colab": {
          "base_uri": "https://localhost:8080/"
        },
        "id": "4inUHQc6Xo5L",
        "outputId": "415cf664-7a85-474f-e749-919f0d19e54b"
      },
      "source": [
        "# Make prediction and print metrics\r\n",
        "from sklearn.metrics import confusion_matrix, accuracy_score, classification_report,roc_auc_score\r\n",
        "y_pred=model_3.predict(X_valid_sm)\r\n",
        "y_pred_proba = model_3.predict_proba(X_valid_sm)\r\n",
        "print( confusion_matrix(y_valid_sm,y_pred))\r\n",
        "print(\"The accuracy score is :\", accuracy_score(y_valid_sm,y_pred))\r\n",
        "print( classification_report(y_valid_sm,y_pred))\r\n",
        "print(\"The roc_auc_score is :\",roc_auc_score(y_valid_sm, model_3.predict_proba(X_valid_sm)[:, 1]) )"
      ],
      "execution_count": 30,
      "outputs": [
        {
          "output_type": "stream",
          "text": [
            "[[2399  260]\n",
            " [ 382 2397]]\n",
            "The accuracy score is : 0.8819418904008827\n",
            "              precision    recall  f1-score   support\n",
            "\n",
            "           0       0.86      0.90      0.88      2659\n",
            "           1       0.90      0.86      0.88      2779\n",
            "\n",
            "    accuracy                           0.88      5438\n",
            "   macro avg       0.88      0.88      0.88      5438\n",
            "weighted avg       0.88      0.88      0.88      5438\n",
            "\n",
            "The roc_auc_score is : 0.953882683495907\n"
          ],
          "name": "stdout"
        }
      ]
    },
    {
      "cell_type": "markdown",
      "metadata": {
        "id": "S1GfBXTa3pDe"
      },
      "source": [
        "### KFold validation on best model"
      ]
    },
    {
      "cell_type": "code",
      "metadata": {
        "id": "8ZWqSa903uPL",
        "outputId": "fad379dc-2554-4110-9bd6-af4de96076b1",
        "colab": {
          "base_uri": "https://localhost:8080/"
        }
      },
      "source": [
        "#k-fold cross validation\r\n",
        "from sklearn.model_selection import KFold \r\n",
        "kfold = KFold(n_splits=12,random_state= 42)\r\n",
        "kfold.get_n_splits(X)"
      ],
      "execution_count": 32,
      "outputs": [
        {
          "output_type": "stream",
          "text": [
            "/usr/local/lib/python3.6/dist-packages/sklearn/model_selection/_split.py:296: FutureWarning: Setting a random_state has no effect since shuffle is False. This will raise an error in 0.24. You should leave random_state to its default (None), or set shuffle=True.\n",
            "  FutureWarning\n"
          ],
          "name": "stderr"
        },
        {
          "output_type": "execute_result",
          "data": {
            "text/plain": [
              "12"
            ]
          },
          "metadata": {
            "tags": []
          },
          "execution_count": 32
        }
      ]
    },
    {
      "cell_type": "code",
      "metadata": {
        "id": "-Q0WGJmC36Ee",
        "outputId": "0a2100f0-6cad-4832-ce98-845874512e02",
        "colab": {
          "base_uri": "https://localhost:8080/"
        }
      },
      "source": [
        "# Perform kfold cv\r\n",
        "from statistics import mean\r\n",
        "clf =model_3\r\n",
        "cnt =0\r\n",
        "count=[]\r\n",
        "train_score =[]\r\n",
        "valid_score = []\r\n",
        "from sklearn.decomposition import PCA\r\n",
        "\r\n",
        "for train_index,valid_index in kfold.split(X_scaled):\r\n",
        "    X_train, X_valid = X_scaled[train_index], X_scaled[valid_index] # our scaled data is an array so it can work on x[value]\r\n",
        "    y_train, y_valid = y.iloc[train_index], y.iloc[valid_index] # y is a dataframe so we have to use \"iloc\" to retreive data\r\n",
        "    from sklearn.decomposition import PCA\r\n",
        "    pca = PCA(n_components= 10)\r\n",
        "    X_train = pca_2.fit_transform(X_train)\r\n",
        "    X_valid = pca_2.transform(X_valid)\r\n",
        "    clf.fit(X_train,y_train)\r\n",
        "    train_score_ = clf.score(X_train,y_train)\r\n",
        "    valid_score_ =  clf.score(X_valid,y_valid)\r\n",
        "    cnt+=1\r\n",
        "    count.append(cnt)\r\n",
        "    train_score.append(train_score_)\r\n",
        "    valid_score.append(valid_score_)\r\n",
        "    \r\n",
        "    print(\"for k = \", cnt)\r\n",
        "    print(\"train_score is :  \", train_score_, \"and valid score is :  \", valid_score_)\r\n",
        "print(\"************************************************\")\r\n",
        "print(\"************************************************\")\r\n",
        "print(\"Average train score is :  \", mean(train_score))\r\n",
        "print(\"Average valid score is :  \", mean(valid_score))"
      ],
      "execution_count": 33,
      "outputs": [
        {
          "output_type": "stream",
          "text": [
            "for k =  1\n",
            "train_score is :   0.9596552776082977 and valid score is :   0.9538590604026845\n",
            "for k =  2\n",
            "train_score is :   0.9595790115924344 and valid score is :   0.9538590604026845\n",
            "for k =  3\n",
            "train_score is :   0.9601128737034778 and valid score is :   0.950503355704698\n",
            "for k =  4\n",
            "train_score is :   0.9588926174496645 and valid score is :   0.9580536912751678\n",
            "for k =  5\n",
            "train_score is :   0.9593502135448444 and valid score is :   0.9572147651006712\n",
            "for k =  6\n",
            "train_score is :   0.9590451494813911 and valid score is :   0.9614093959731543\n",
            "for k =  7\n",
            "train_score is :   0.9589688834655278 and valid score is :   0.9588926174496645\n",
            "for k =  8\n",
            "train_score is :   0.9590451494813911 and valid score is :   0.959731543624161\n",
            "for k =  9\n",
            "train_score is :   0.9600366076876145 and valid score is :   0.950503355704698\n",
            "for k =  10\n",
            "train_score is :   0.9591976815131178 and valid score is :   0.9572147651006712\n",
            "for k =  11\n",
            "train_score is :   0.9598840756558877 and valid score is :   0.9496644295302014\n",
            "for k =  12\n",
            "train_score is :   0.9598840756558877 and valid score is :   0.9496644295302014\n",
            "************************************************\n",
            "************************************************\n",
            "Average train score is :   0.9594709680699613\n",
            "Average valid score is :   0.9550475391498882\n"
          ],
          "name": "stdout"
        }
      ]
    },
    {
      "cell_type": "code",
      "metadata": {
        "id": "EmOW_N4Z408I",
        "outputId": "f1f3ee70-8726-475c-cd00-c0a637efa18d",
        "colab": {
          "base_uri": "https://localhost:8080/",
          "height": 279
        }
      },
      "source": [
        "# let's plot the test_accuracy with the value of k in k-fold\r\n",
        "\r\n",
        "plt.plot(count,valid_score)\r\n",
        "plt.xlabel('Value of K for k-fold')\r\n",
        "plt.ylabel('validation accuracy')\r\n",
        "plt.xticks(np.arange(0, 12, 1)) \r\n",
        "plt.yticks(np.arange(0.65, 1, 0.05)) \r\n",
        "plt.show()"
      ],
      "execution_count": 34,
      "outputs": [
        {
          "output_type": "display_data",
          "data": {
            "image/png": "[encoded data removed]",
            "text/plain": [
              "<Figure size 432x288 with 1 Axes>"
            ]
          },
          "metadata": {
            "tags": [],
            "needs_background": "light"
          }
        }
      ]
    },
    {
      "cell_type": "markdown",
      "metadata": {
        "id": "U-jc6I-AfRWT"
      },
      "source": [
        "### Save best Random Forest Model\r\n"
      ]
    },
    {
      "cell_type": "code",
      "metadata": {
        "id": "LiNpKE0ffYRI"
      },
      "source": [
        "# Save model as a pickle file\r\n",
        "import pickle\r\n",
        "filename = 'random_forest_v2.pickle'\r\n",
        "pickle.dump(model_3, open(filename, 'wb')) # accuracy score =  0.8819418904008827, roc_auc_score = 0.954"
      ],
      "execution_count": 35,
      "outputs": []
    },
    {
      "cell_type": "markdown",
      "metadata": {
        "id": "vJD1-87Ff2tK"
      },
      "source": [
        "## Make prediction on test set with best model"
      ]
    },
    {
      "cell_type": "code",
      "metadata": {
        "colab": {
          "base_uri": "https://localhost:8080/",
          "height": 215
        },
        "id": "m6o0mVaKfxI1",
        "outputId": "7d5c0a20-64d0-4b04-d6e5-7d5db93e58bf"
      },
      "source": [
        "# Best model was obtained with random over sampling method\r\n",
        "column_names = X.columns\r\n",
        "dataset_test = df_test[column_names]\r\n",
        "\r\n",
        "dataset_test.head()"
      ],
      "execution_count": 37,
      "outputs": [
        {
          "output_type": "execute_result",
          "data": {
            "text/html": [
              "<div>\n",
              "<style scoped>\n",
              "    .dataframe tbody tr th:only-of-type {\n",
              "        vertical-align: middle;\n",
              "    }\n",
              "\n",
              "    .dataframe tbody tr th {\n",
              "        vertical-align: top;\n",
              "    }\n",
              "\n",
              "    .dataframe thead th {\n",
              "        text-align: right;\n",
              "    }\n",
              "</style>\n",
              "<table border=\"1\" class=\"dataframe\">\n",
              "  <thead>\n",
              "    <tr style=\"text-align: right;\">\n",
              "      <th></th>\n",
              "      <th>telecommuting</th>\n",
              "      <th>has_company_logo</th>\n",
              "      <th>has_questions</th>\n",
              "      <th>department_ind</th>\n",
              "      <th>salary_range_ind</th>\n",
              "      <th>company_profile_ind</th>\n",
              "      <th>description_ind</th>\n",
              "      <th>requirements_ind</th>\n",
              "      <th>benefits_ind</th>\n",
              "      <th>employment_type_ind</th>\n",
              "      <th>required_experience_ind</th>\n",
              "      <th>required_education_ind</th>\n",
              "      <th>industry_ind</th>\n",
              "      <th>function_ind</th>\n",
              "    </tr>\n",
              "  </thead>\n",
              "  <tbody>\n",
              "    <tr>\n",
              "      <th>0</th>\n",
              "      <td>0</td>\n",
              "      <td>1</td>\n",
              "      <td>1</td>\n",
              "      <td>1</td>\n",
              "      <td>0</td>\n",
              "      <td>1</td>\n",
              "      <td>1</td>\n",
              "      <td>1</td>\n",
              "      <td>1</td>\n",
              "      <td>1</td>\n",
              "      <td>1</td>\n",
              "      <td>0</td>\n",
              "      <td>1</td>\n",
              "      <td>0</td>\n",
              "    </tr>\n",
              "    <tr>\n",
              "      <th>1</th>\n",
              "      <td>0</td>\n",
              "      <td>1</td>\n",
              "      <td>1</td>\n",
              "      <td>1</td>\n",
              "      <td>0</td>\n",
              "      <td>1</td>\n",
              "      <td>1</td>\n",
              "      <td>1</td>\n",
              "      <td>1</td>\n",
              "      <td>1</td>\n",
              "      <td>1</td>\n",
              "      <td>0</td>\n",
              "      <td>0</td>\n",
              "      <td>1</td>\n",
              "    </tr>\n",
              "    <tr>\n",
              "      <th>2</th>\n",
              "      <td>0</td>\n",
              "      <td>0</td>\n",
              "      <td>0</td>\n",
              "      <td>0</td>\n",
              "      <td>1</td>\n",
              "      <td>1</td>\n",
              "      <td>1</td>\n",
              "      <td>0</td>\n",
              "      <td>0</td>\n",
              "      <td>1</td>\n",
              "      <td>1</td>\n",
              "      <td>1</td>\n",
              "      <td>1</td>\n",
              "      <td>1</td>\n",
              "    </tr>\n",
              "    <tr>\n",
              "      <th>3</th>\n",
              "      <td>0</td>\n",
              "      <td>0</td>\n",
              "      <td>0</td>\n",
              "      <td>1</td>\n",
              "      <td>0</td>\n",
              "      <td>0</td>\n",
              "      <td>1</td>\n",
              "      <td>1</td>\n",
              "      <td>1</td>\n",
              "      <td>0</td>\n",
              "      <td>0</td>\n",
              "      <td>0</td>\n",
              "      <td>0</td>\n",
              "      <td>0</td>\n",
              "    </tr>\n",
              "    <tr>\n",
              "      <th>4</th>\n",
              "      <td>0</td>\n",
              "      <td>1</td>\n",
              "      <td>0</td>\n",
              "      <td>0</td>\n",
              "      <td>0</td>\n",
              "      <td>1</td>\n",
              "      <td>1</td>\n",
              "      <td>1</td>\n",
              "      <td>0</td>\n",
              "      <td>1</td>\n",
              "      <td>1</td>\n",
              "      <td>1</td>\n",
              "      <td>1</td>\n",
              "      <td>1</td>\n",
              "    </tr>\n",
              "  </tbody>\n",
              "</table>\n",
              "</div>"
            ],
            "text/plain": [
              "   telecommuting  has_company_logo  ...  industry_ind  function_ind\n",
              "0              0                 1  ...             1             0\n",
              "1              0                 1  ...             0             1\n",
              "2              0                 0  ...             1             1\n",
              "3              0                 0  ...             0             0\n",
              "4              0                 1  ...             1             1\n",
              "\n",
              "[5 rows x 14 columns]"
            ]
          },
          "metadata": {
            "tags": []
          },
          "execution_count": 37
        }
      ]
    },
    {
      "cell_type": "code",
      "metadata": {
        "colab": {
          "base_uri": "https://localhost:8080/"
        },
        "id": "pVXnV1Z-g2BD",
        "outputId": "b7f509ec-fd57-417f-86a5-ff25caa23389"
      },
      "source": [
        "# Make prediction\r\n",
        "X_test = dataset_test.values\r\n",
        "X_test = scalar.transform(X_test)\r\n",
        "X_test = pca_2.transform(X_test)\r\n",
        "\r\n",
        "loaded_model = pickle.load(open('random_forest_v2.pickle', 'rb'))\r\n",
        "y_hat = loaded_model.predict(X_test)\r\n",
        "y_hat"
      ],
      "execution_count": 39,
      "outputs": [
        {
          "output_type": "execute_result",
          "data": {
            "text/plain": [
              "array([0, 0, 0, ..., 0, 0, 0])"
            ]
          },
          "metadata": {
            "tags": []
          },
          "execution_count": 39
        }
      ]
    },
    {
      "cell_type": "code",
      "metadata": {
        "id": "P723zeDzhH0P"
      },
      "source": [
        " # Save Numpy array to csv with custom header and footer\r\n",
        "np.savetxt('random_forest_v2_20210124.csv', y_hat, delimiter=',', fmt='%d' , header='Result:: Header', footer='This is footer')"
      ],
      "execution_count": 40,
      "outputs": []
    }
  ]
}