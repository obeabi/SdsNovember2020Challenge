{
  "nbformat": 4,
  "nbformat_minor": 0,
  "metadata": {
    "colab": {
      "name": "Main_v1.ipynb",
      "provenance": [],
      "toc_visible": true,
      "authorship_tag": "ABX9TyMJNxc/YwTrjlj2nQF6ObXi",
      "include_colab_link": true
    },
    "kernelspec": {
      "name": "python3",
      "display_name": "Python 3"
    }
  },
  "cells": [
    {
      "cell_type": "markdown",
      "metadata": {
        "id": "view-in-github",
        "colab_type": "text"
      },
      "source": [
        "<a href=\"https://colab.research.google.com/github/obeabi/SdsNovember2020Challenge/blob/main/Main_v1.ipynb\" target=\"_parent\"><img src=\"https://colab.research.google.com/assets/colab-badge.svg\" alt=\"Open In Colab\"/></a>"
      ]
    },
    {
      "cell_type": "markdown",
      "metadata": {
        "id": "JeRBK-Y1LAg6"
      },
      "source": [
        "# Written by Abiola Obembe\r\n",
        "# SDS October Challenge #3 - Fraudulent Job Adverts\r\n",
        "## 2021-01-19"
      ]
    },
    {
      "cell_type": "markdown",
      "metadata": {
        "id": "yWOijhQULQyD"
      },
      "source": [
        "## Data Preprocessing"
      ]
    },
    {
      "cell_type": "code",
      "metadata": {
        "colab": {
          "base_uri": "https://localhost:8080/"
        },
        "id": "XPbOAVxjLwWt",
        "outputId": "072faae9-fc56-49ab-9f3f-f04cc19dbb75"
      },
      "source": [
        "# Import category_encoders package\r\n",
        "!pip install category_encoders"
      ],
      "execution_count": 1,
      "outputs": [
        {
          "output_type": "stream",
          "text": [
            "Collecting category_encoders\n",
            "\u001b[?25l  Downloading https://files.pythonhosted.org/packages/44/57/fcef41c248701ee62e8325026b90c432adea35555cbc870aff9cfba23727/category_encoders-2.2.2-py2.py3-none-any.whl (80kB)\n",
            "\r\u001b[K     |████                            | 10kB 15.3MB/s eta 0:00:01\r\u001b[K     |████████▏                       | 20kB 16.9MB/s eta 0:00:01\r\u001b[K     |████████████▏                   | 30kB 8.9MB/s eta 0:00:01\r\u001b[K     |████████████████▎               | 40kB 7.9MB/s eta 0:00:01\r\u001b[K     |████████████████████▎           | 51kB 4.3MB/s eta 0:00:01\r\u001b[K     |████████████████████████▍       | 61kB 4.7MB/s eta 0:00:01\r\u001b[K     |████████████████████████████▍   | 71kB 4.9MB/s eta 0:00:01\r\u001b[K     |████████████████████████████████| 81kB 3.1MB/s \n",
            "\u001b[?25hRequirement already satisfied: numpy>=1.14.0 in /usr/local/lib/python3.6/dist-packages (from category_encoders) (1.19.5)\n",
            "Requirement already satisfied: scikit-learn>=0.20.0 in /usr/local/lib/python3.6/dist-packages (from category_encoders) (0.22.2.post1)\n",
            "Requirement already satisfied: pandas>=0.21.1 in /usr/local/lib/python3.6/dist-packages (from category_encoders) (1.1.5)\n",
            "Requirement already satisfied: scipy>=1.0.0 in /usr/local/lib/python3.6/dist-packages (from category_encoders) (1.4.1)\n",
            "Requirement already satisfied: patsy>=0.5.1 in /usr/local/lib/python3.6/dist-packages (from category_encoders) (0.5.1)\n",
            "Requirement already satisfied: statsmodels>=0.9.0 in /usr/local/lib/python3.6/dist-packages (from category_encoders) (0.10.2)\n",
            "Requirement already satisfied: joblib>=0.11 in /usr/local/lib/python3.6/dist-packages (from scikit-learn>=0.20.0->category_encoders) (1.0.0)\n",
            "Requirement already satisfied: pytz>=2017.2 in /usr/local/lib/python3.6/dist-packages (from pandas>=0.21.1->category_encoders) (2018.9)\n",
            "Requirement already satisfied: python-dateutil>=2.7.3 in /usr/local/lib/python3.6/dist-packages (from pandas>=0.21.1->category_encoders) (2.8.1)\n",
            "Requirement already satisfied: six in /usr/local/lib/python3.6/dist-packages (from patsy>=0.5.1->category_encoders) (1.15.0)\n",
            "Installing collected packages: category-encoders\n",
            "Successfully installed category-encoders-2.2.2\n"
          ],
          "name": "stdout"
        }
      ]
    },
    {
      "cell_type": "code",
      "metadata": {
        "colab": {
          "base_uri": "https://localhost:8080/"
        },
        "id": "gA00Aa_dLTn0",
        "outputId": "1d15b2a5-d17f-4443-8dfd-6aaa3281eb7e"
      },
      "source": [
        "# Importing the libraries\r\n",
        "import numpy as np\r\n",
        "import matplotlib.pyplot as plt\r\n",
        "import pandas as pd\r\n",
        "import seaborn as sns\r\n",
        "from scipy import stats\r\n",
        "from scipy.stats import f_oneway\r\n",
        "from scipy.stats import  zscore\r\n",
        "import category_encoders as ce\r\n",
        "import warnings\r\n",
        "warnings.filterwarnings(\"ignore\", category= FutureWarning)\r\n",
        "warnings.filterwarnings(\"ignore\", category = DeprecationWarning)\r\n",
        "\r\n",
        "%matplotlib inline\r\n",
        "plt.rcParams['figure.figsize'] = (10.0, 8.0) # set default size of plots\r\n",
        "plt.rcParams['image.interpolation'] = 'nearest'\r\n",
        "plt.rcParams['image.cmap'] = 'gray'\r\n",
        "\r\n",
        "print('Libraries installed successfully!')\r\n",
        "\r\n",
        "np.random.seed(0)"
      ],
      "execution_count": 2,
      "outputs": [
        {
          "output_type": "stream",
          "text": [
            "/usr/local/lib/python3.6/dist-packages/statsmodels/tools/_testing.py:19: FutureWarning: pandas.util.testing is deprecated. Use the functions in the public API at pandas.testing instead.\n",
            "  import pandas.util.testing as tm\n"
          ],
          "name": "stderr"
        },
        {
          "output_type": "stream",
          "text": [
            "Libraries installed successfully!\n"
          ],
          "name": "stdout"
        }
      ]
    },
    {
      "cell_type": "code",
      "metadata": {
        "colab": {
          "base_uri": "https://localhost:8080/",
          "height": 534
        },
        "id": "ZVCDe5AKL5js",
        "outputId": "00a7911c-dff4-4ba7-c867-d8be13d16d9d"
      },
      "source": [
        "# Importing the training dataset\r\n",
        "\r\n",
        "df_train = pd.read_csv('public_jobs.csv', engine= 'python', encoding= 'latin1')\r\n",
        "\r\n",
        "df_train.head()"
      ],
      "execution_count": 3,
      "outputs": [
        {
          "output_type": "execute_result",
          "data": {
            "text/html": [
              "<div>\n",
              "<style scoped>\n",
              "    .dataframe tbody tr th:only-of-type {\n",
              "        vertical-align: middle;\n",
              "    }\n",
              "\n",
              "    .dataframe tbody tr th {\n",
              "        vertical-align: top;\n",
              "    }\n",
              "\n",
              "    .dataframe thead th {\n",
              "        text-align: right;\n",
              "    }\n",
              "</style>\n",
              "<table border=\"1\" class=\"dataframe\">\n",
              "  <thead>\n",
              "    <tr style=\"text-align: right;\">\n",
              "      <th></th>\n",
              "      <th>title</th>\n",
              "      <th>location</th>\n",
              "      <th>department</th>\n",
              "      <th>salary_range</th>\n",
              "      <th>company_profile</th>\n",
              "      <th>description</th>\n",
              "      <th>requirements</th>\n",
              "      <th>benefits</th>\n",
              "      <th>telecommuting</th>\n",
              "      <th>has_company_logo</th>\n",
              "      <th>has_questions</th>\n",
              "      <th>employment_type</th>\n",
              "      <th>required_experience</th>\n",
              "      <th>required_education</th>\n",
              "      <th>industry</th>\n",
              "      <th>function</th>\n",
              "      <th>fraudulent</th>\n",
              "    </tr>\n",
              "  </thead>\n",
              "  <tbody>\n",
              "    <tr>\n",
              "      <th>0</th>\n",
              "      <td>Sales Professional - Buiding Products</td>\n",
              "      <td>CA, BC, Langley</td>\n",
              "      <td>Langley</td>\n",
              "      <td>60000-90000</td>\n",
              "      <td>Great Customer Service from Start to FinishWha...</td>\n",
              "      <td>Centra Windows an established, employee-owned ...</td>\n",
              "      <td>NaN</td>\n",
              "      <td>NaN</td>\n",
              "      <td>0</td>\n",
              "      <td>1</td>\n",
              "      <td>1</td>\n",
              "      <td>Full-time</td>\n",
              "      <td>Mid-Senior level</td>\n",
              "      <td>NaN</td>\n",
              "      <td>Building Materials</td>\n",
              "      <td>Sales</td>\n",
              "      <td>0</td>\n",
              "    </tr>\n",
              "    <tr>\n",
              "      <th>1</th>\n",
              "      <td>Senior Software Engineer</td>\n",
              "      <td>GB, , London</td>\n",
              "      <td>Engineering</td>\n",
              "      <td>NaN</td>\n",
              "      <td>We believe cities are complicated. And your mo...</td>\n",
              "      <td>Londoners, New Yorkers, Parisians, and Berline...</td>\n",
              "      <td>We're looking for someone with several years' ...</td>\n",
              "      <td>NaN</td>\n",
              "      <td>0</td>\n",
              "      <td>1</td>\n",
              "      <td>1</td>\n",
              "      <td>Full-time</td>\n",
              "      <td>NaN</td>\n",
              "      <td>NaN</td>\n",
              "      <td>Computer Software</td>\n",
              "      <td>Engineering</td>\n",
              "      <td>0</td>\n",
              "    </tr>\n",
              "    <tr>\n",
              "      <th>2</th>\n",
              "      <td>Director of Operations (SCM &amp; Manufacturing)</td>\n",
              "      <td>US, WA, Bellingham</td>\n",
              "      <td>Operations</td>\n",
              "      <td>50000-70000</td>\n",
              "      <td>POS-X is a rapidly growing point-of-sale hardw...</td>\n",
              "      <td>POS-X is a rapidly growing point-of-sale hardw...</td>\n",
              "      <td>Extensive Mathematical and/or Financial Backgr...</td>\n",
              "      <td>$50 - $70k DOE and Performance + Medical, 401k...</td>\n",
              "      <td>0</td>\n",
              "      <td>1</td>\n",
              "      <td>1</td>\n",
              "      <td>Full-time</td>\n",
              "      <td>Director</td>\n",
              "      <td>Bachelor's Degree</td>\n",
              "      <td>Computer Hardware</td>\n",
              "      <td>Supply Chain</td>\n",
              "      <td>0</td>\n",
              "    </tr>\n",
              "    <tr>\n",
              "      <th>3</th>\n",
              "      <td>Data Center Migration App Lead for FULL-TIME O...</td>\n",
              "      <td>US, PA, Harrisburg</td>\n",
              "      <td>NaN</td>\n",
              "      <td>0-0</td>\n",
              "      <td>NaN</td>\n",
              "      <td>Data Center Migration Application Lead / Archi...</td>\n",
              "      <td>NaN</td>\n",
              "      <td>NaN</td>\n",
              "      <td>0</td>\n",
              "      <td>0</td>\n",
              "      <td>0</td>\n",
              "      <td>Full-time</td>\n",
              "      <td>Director</td>\n",
              "      <td>Bachelor's Degree</td>\n",
              "      <td>Information Technology and Services</td>\n",
              "      <td>Information Technology</td>\n",
              "      <td>1</td>\n",
              "    </tr>\n",
              "    <tr>\n",
              "      <th>4</th>\n",
              "      <td>Data Entry Assistant - Intern</td>\n",
              "      <td>HK, , Hong Kong</td>\n",
              "      <td>Marketing</td>\n",
              "      <td>8000-14000</td>\n",
              "      <td>At Hayes-Corp, we create the fun stuff.Â  With...</td>\n",
              "      <td>Hayes Corp is looking for a patient, meticulou...</td>\n",
              "      <td>Degree in any discipline.Familiar with Microso...</td>\n",
              "      <td>Opportunity to grow with the company, as data ...</td>\n",
              "      <td>0</td>\n",
              "      <td>1</td>\n",
              "      <td>0</td>\n",
              "      <td>Other</td>\n",
              "      <td>Entry level</td>\n",
              "      <td>Bachelor's Degree</td>\n",
              "      <td>Internet</td>\n",
              "      <td>Marketing</td>\n",
              "      <td>0</td>\n",
              "    </tr>\n",
              "  </tbody>\n",
              "</table>\n",
              "</div>"
            ],
            "text/plain": [
              "                                               title  ... fraudulent\n",
              "0              Sales Professional - Buiding Products  ...          0\n",
              "1                           Senior Software Engineer  ...          0\n",
              "2       Director of Operations (SCM & Manufacturing)  ...          0\n",
              "3  Data Center Migration App Lead for FULL-TIME O...  ...          1\n",
              "4                      Data Entry Assistant - Intern  ...          0\n",
              "\n",
              "[5 rows x 17 columns]"
            ]
          },
          "metadata": {
            "tags": []
          },
          "execution_count": 3
        }
      ]
    },
    {
      "cell_type": "code",
      "metadata": {
        "colab": {
          "base_uri": "https://localhost:8080/"
        },
        "id": "cZVAxs1lMOAq",
        "outputId": "a1e73fb1-31ec-4797-93ac-15bd521f9e8e"
      },
      "source": [
        "# priniting the details about the train dataset\r\n",
        "\r\n",
        "print(\"\\nEDA on Training Set\\n\")\r\n",
        "print(\"#\"*30)\r\n",
        "\r\n",
        "print(\"\\nFeatures/Columns : \\n\", df_train.columns)\r\n",
        "print(\"\\n\\nNumber of Features/Columns : \", len(df_train.columns))\r\n",
        "print(\"\\nNumber of Rows : \",len(df_train))\r\n",
        "print(\"\\n\\nData Types :\\n\", df_train.dtypes)\r\n",
        "\r\n",
        "print(\"\\n Contains NaN/Empty cells : \", df_train.isnull().values.any())\r\n",
        "\r\n",
        "print(\"\\n Total empty cells by column :\\n\", df_train.isnull().sum(), \"\\n\\n\")\r\n",
        "\r\n",
        "print(\"\\n Perecentage of missing values in train datframe is: \\n\", str(100*(df_train.isnull().sum().sum()/(df_train.shape[0]* df_train.shape[1])))+'%')"
      ],
      "execution_count": 4,
      "outputs": [
        {
          "output_type": "stream",
          "text": [
            "\n",
            "EDA on Training Set\n",
            "\n",
            "##############################\n",
            "\n",
            "Features/Columns : \n",
            " Index(['title', 'location', 'department', 'salary_range', 'company_profile',\n",
            "       'description', 'requirements', 'benefits', 'telecommuting',\n",
            "       'has_company_logo', 'has_questions', 'employment_type',\n",
            "       'required_experience', 'required_education', 'industry', 'function',\n",
            "       'fraudulent'],\n",
            "      dtype='object')\n",
            "\n",
            "\n",
            "Number of Features/Columns :  17\n",
            "\n",
            "Number of Rows :  14304\n",
            "\n",
            "\n",
            "Data Types :\n",
            " title                  object\n",
            "location               object\n",
            "department             object\n",
            "salary_range           object\n",
            "company_profile        object\n",
            "description            object\n",
            "requirements           object\n",
            "benefits               object\n",
            "telecommuting           int64\n",
            "has_company_logo        int64\n",
            "has_questions           int64\n",
            "employment_type        object\n",
            "required_experience    object\n",
            "required_education     object\n",
            "industry               object\n",
            "function               object\n",
            "fraudulent              int64\n",
            "dtype: object\n",
            "\n",
            " Contains NaN/Empty cells :  True\n",
            "\n",
            " Total empty cells by column :\n",
            " title                      0\n",
            "location                 275\n",
            "department              9182\n",
            "salary_range           11979\n",
            "company_profile         2653\n",
            "description                1\n",
            "requirements            2149\n",
            "benefits                5758\n",
            "telecommuting              0\n",
            "has_company_logo           0\n",
            "has_questions              0\n",
            "employment_type         2762\n",
            "required_experience     5630\n",
            "required_education      6467\n",
            "industry                3900\n",
            "function                5160\n",
            "fraudulent                 0\n",
            "dtype: int64 \n",
            "\n",
            "\n",
            "\n",
            " Perecentage of missing values in train datframe is: \n",
            " 22.994801947624687%\n"
          ],
          "name": "stdout"
        }
      ]
    },
    {
      "cell_type": "code",
      "metadata": {
        "colab": {
          "base_uri": "https://localhost:8080/",
          "height": 484
        },
        "id": "JMkW0o7nMts6",
        "outputId": "af078202-9e6e-48db-9aa7-2e9c514929b1"
      },
      "source": [
        "# Importing the test dataset\r\n",
        "\r\n",
        "df_test = pd.read_csv('pred_jobs.csv', engine= 'python', encoding= 'latin1')\r\n",
        "\r\n",
        "df_test.head()"
      ],
      "execution_count": 5,
      "outputs": [
        {
          "output_type": "execute_result",
          "data": {
            "text/html": [
              "<div>\n",
              "<style scoped>\n",
              "    .dataframe tbody tr th:only-of-type {\n",
              "        vertical-align: middle;\n",
              "    }\n",
              "\n",
              "    .dataframe tbody tr th {\n",
              "        vertical-align: top;\n",
              "    }\n",
              "\n",
              "    .dataframe thead th {\n",
              "        text-align: right;\n",
              "    }\n",
              "</style>\n",
              "<table border=\"1\" class=\"dataframe\">\n",
              "  <thead>\n",
              "    <tr style=\"text-align: right;\">\n",
              "      <th></th>\n",
              "      <th>title</th>\n",
              "      <th>location</th>\n",
              "      <th>department</th>\n",
              "      <th>salary_range</th>\n",
              "      <th>company_profile</th>\n",
              "      <th>description</th>\n",
              "      <th>requirements</th>\n",
              "      <th>benefits</th>\n",
              "      <th>telecommuting</th>\n",
              "      <th>has_company_logo</th>\n",
              "      <th>has_questions</th>\n",
              "      <th>employment_type</th>\n",
              "      <th>required_experience</th>\n",
              "      <th>required_education</th>\n",
              "      <th>industry</th>\n",
              "      <th>function</th>\n",
              "    </tr>\n",
              "  </thead>\n",
              "  <tbody>\n",
              "    <tr>\n",
              "      <th>0</th>\n",
              "      <td>Part-time Pizza Delivery Drivers - Wallasey</td>\n",
              "      <td>GB, WRL, Wallasey</td>\n",
              "      <td></td>\n",
              "      <td>NaN</td>\n",
              "      <td>Take Out Brands is a food franchise business w...</td>\n",
              "      <td>Papa Johnâs is one of the worldâs biggest ...</td>\n",
              "      <td>You must be 19 years old or above â and will...</td>\n",
              "      <td>Pay rates will be Â£6.31 / hour (21 and over)Â...</td>\n",
              "      <td>0</td>\n",
              "      <td>1</td>\n",
              "      <td>1</td>\n",
              "      <td>Part-time</td>\n",
              "      <td>Not Applicable</td>\n",
              "      <td>NaN</td>\n",
              "      <td>Retail</td>\n",
              "      <td>NaN</td>\n",
              "    </tr>\n",
              "    <tr>\n",
              "      <th>1</th>\n",
              "      <td>Director of Contact Center Operations</td>\n",
              "      <td>US, AZ, Tempe</td>\n",
              "      <td>Operations</td>\n",
              "      <td>NaN</td>\n",
              "      <td>J-Curve Technologies,Â a privately held Arizon...</td>\n",
              "      <td>J-Curve Technologies is currently in search of...</td>\n",
              "      <td>Experience and Education: Minimum of 5-8 years...</td>\n",
              "      <td>Full time employees enjoy a comprehensive bene...</td>\n",
              "      <td>0</td>\n",
              "      <td>1</td>\n",
              "      <td>1</td>\n",
              "      <td>Full-time</td>\n",
              "      <td>Not Applicable</td>\n",
              "      <td>NaN</td>\n",
              "      <td>NaN</td>\n",
              "      <td>Management</td>\n",
              "    </tr>\n",
              "    <tr>\n",
              "      <th>2</th>\n",
              "      <td>Technical Solution Consultant</td>\n",
              "      <td>US, IL, Chicago</td>\n",
              "      <td>NaN</td>\n",
              "      <td>80000-105000</td>\n",
              "      <td>Retailers around the world are constantly work...</td>\n",
              "      <td>Job Title: Technical Solution ConsultantDepart...</td>\n",
              "      <td>NaN</td>\n",
              "      <td>NaN</td>\n",
              "      <td>0</td>\n",
              "      <td>0</td>\n",
              "      <td>0</td>\n",
              "      <td>Full-time</td>\n",
              "      <td>Mid-Senior level</td>\n",
              "      <td>Bachelor's Degree</td>\n",
              "      <td>Information Technology and Services</td>\n",
              "      <td>Information Technology</td>\n",
              "    </tr>\n",
              "    <tr>\n",
              "      <th>3</th>\n",
              "      <td>Vacancies At The Cafe Royal Hotel London</td>\n",
              "      <td>GB, EAW, london</td>\n",
              "      <td>Hospitality</td>\n",
              "      <td>NaN</td>\n",
              "      <td>NaN</td>\n",
              "      <td>AVAILABLE POSITIONS:Catering staffs, managers,...</td>\n",
              "      <td>Word Perfect;Typing;Public Speaking;Scheduling...</td>\n",
              "      <td>The Hotel Management would be responsible to c...</td>\n",
              "      <td>0</td>\n",
              "      <td>0</td>\n",
              "      <td>0</td>\n",
              "      <td>NaN</td>\n",
              "      <td>NaN</td>\n",
              "      <td>NaN</td>\n",
              "      <td>NaN</td>\n",
              "      <td>NaN</td>\n",
              "    </tr>\n",
              "    <tr>\n",
              "      <th>4</th>\n",
              "      <td>Car Dealer Sales Manager/Customer Service</td>\n",
              "      <td>GR, I, Athens</td>\n",
              "      <td>NaN</td>\n",
              "      <td>NaN</td>\n",
              "      <td>Ilias Sotiropoulos first went into business as...</td>\n",
              "      <td>Full time Sales Manager/Customer Service for a...</td>\n",
              "      <td>Max 35 years old.Living close to the workplace...</td>\n",
              "      <td>NaN</td>\n",
              "      <td>0</td>\n",
              "      <td>1</td>\n",
              "      <td>0</td>\n",
              "      <td>Full-time</td>\n",
              "      <td>Mid-Senior level</td>\n",
              "      <td>Unspecified</td>\n",
              "      <td>Retail</td>\n",
              "      <td>Sales</td>\n",
              "    </tr>\n",
              "  </tbody>\n",
              "</table>\n",
              "</div>"
            ],
            "text/plain": [
              "                                          title  ...                function\n",
              "0  Part-time Pizza Delivery Drivers - Wallasey   ...                     NaN\n",
              "1         Director of Contact Center Operations  ...              Management\n",
              "2                 Technical Solution Consultant  ...  Information Technology\n",
              "3      Vacancies At The Cafe Royal Hotel London  ...                     NaN\n",
              "4     Car Dealer Sales Manager/Customer Service  ...                   Sales\n",
              "\n",
              "[5 rows x 16 columns]"
            ]
          },
          "metadata": {
            "tags": []
          },
          "execution_count": 5
        }
      ]
    },
    {
      "cell_type": "code",
      "metadata": {
        "colab": {
          "base_uri": "https://localhost:8080/"
        },
        "id": "Gypt2lwYM_AR",
        "outputId": "6ca518c0-03bb-4b41-f4ac-3182af8f3172"
      },
      "source": [
        "\r\n",
        "# priniting the details about the test dataset\r\n",
        "\r\n",
        "print(\"#\"*30)\r\n",
        "print(\"\\nEDA on Test Set\\n\")\r\n",
        "print(\"#\"*30)\r\n",
        "\r\n",
        "\r\n",
        "print(\"\\nFeatures/Columns : \\n\",df_test.columns)\r\n",
        "print(\"\\n\\nNumber of Features/Columns : \",len(df_test.columns))\r\n",
        "print(\"\\nNumber of Rows : \",len(df_test))\r\n",
        "print(\"\\n\\nData Types :\\n\", df_test.dtypes)\r\n",
        "print(\"\\n Contains NaN/Empty cells : \", df_test.isnull().values.any())\r\n",
        "print(\"\\n Total empty cells by column :\\n\", df_test.isnull().sum())\r\n",
        "print(\"\\n Perecentage of missing values in test datframe is: \\n\", str(100*(df_test.isnull().sum().sum()/(df_test.shape[0]* df_test.shape[1])))+'%')"
      ],
      "execution_count": 6,
      "outputs": [
        {
          "output_type": "stream",
          "text": [
            "##############################\n",
            "\n",
            "EDA on Test Set\n",
            "\n",
            "##############################\n",
            "\n",
            "Features/Columns : \n",
            " Index(['title', 'location', 'department', 'salary_range', 'company_profile',\n",
            "       'description', 'requirements', 'benefits', 'telecommuting',\n",
            "       'has_company_logo', 'has_questions', 'employment_type',\n",
            "       'required_experience', 'required_education', 'industry', 'function'],\n",
            "      dtype='object')\n",
            "\n",
            "\n",
            "Number of Features/Columns :  16\n",
            "\n",
            "Number of Rows :  3576\n",
            "\n",
            "\n",
            "Data Types :\n",
            " title                  object\n",
            "location               object\n",
            "department             object\n",
            "salary_range           object\n",
            "company_profile        object\n",
            "description            object\n",
            "requirements           object\n",
            "benefits               object\n",
            "telecommuting           int64\n",
            "has_company_logo        int64\n",
            "has_questions           int64\n",
            "employment_type        object\n",
            "required_experience    object\n",
            "required_education     object\n",
            "industry               object\n",
            "function               object\n",
            "dtype: object\n",
            "\n",
            " Contains NaN/Empty cells :  True\n",
            "\n",
            " Total empty cells by column :\n",
            " title                     0\n",
            "location                 71\n",
            "department             2365\n",
            "salary_range           3033\n",
            "company_profile         655\n",
            "description               0\n",
            "requirements            546\n",
            "benefits               1452\n",
            "telecommuting             0\n",
            "has_company_logo          0\n",
            "has_questions             0\n",
            "employment_type         709\n",
            "required_experience    1420\n",
            "required_education     1638\n",
            "industry               1003\n",
            "function               1295\n",
            "dtype: int64\n",
            "\n",
            " Perecentage of missing values in test datframe is: \n",
            " 24.795511744966444%\n"
          ],
          "name": "stdout"
        }
      ]
    },
    {
      "cell_type": "code",
      "metadata": {
        "colab": {
          "base_uri": "https://localhost:8080/"
        },
        "id": "-XR6qsITPNXU",
        "outputId": "45dae2d4-7254-4001-87a3-fa50998b5fc6"
      },
      "source": [
        "# Retrrieve information from train dataframe\r\n",
        "df_train.info()"
      ],
      "execution_count": 7,
      "outputs": [
        {
          "output_type": "stream",
          "text": [
            "<class 'pandas.core.frame.DataFrame'>\n",
            "RangeIndex: 14304 entries, 0 to 14303\n",
            "Data columns (total 17 columns):\n",
            " #   Column               Non-Null Count  Dtype \n",
            "---  ------               --------------  ----- \n",
            " 0   title                14304 non-null  object\n",
            " 1   location             14029 non-null  object\n",
            " 2   department           5122 non-null   object\n",
            " 3   salary_range         2325 non-null   object\n",
            " 4   company_profile      11651 non-null  object\n",
            " 5   description          14303 non-null  object\n",
            " 6   requirements         12155 non-null  object\n",
            " 7   benefits             8546 non-null   object\n",
            " 8   telecommuting        14304 non-null  int64 \n",
            " 9   has_company_logo     14304 non-null  int64 \n",
            " 10  has_questions        14304 non-null  int64 \n",
            " 11  employment_type      11542 non-null  object\n",
            " 12  required_experience  8674 non-null   object\n",
            " 13  required_education   7837 non-null   object\n",
            " 14  industry             10404 non-null  object\n",
            " 15  function             9144 non-null   object\n",
            " 16  fraudulent           14304 non-null  int64 \n",
            "dtypes: int64(4), object(13)\n",
            "memory usage: 1.9+ MB\n"
          ],
          "name": "stdout"
        }
      ]
    },
    {
      "cell_type": "code",
      "metadata": {
        "colab": {
          "base_uri": "https://localhost:8080/",
          "height": 284
        },
        "id": "5aDzww7UPkdy",
        "outputId": "0964f291-2e00-41ea-df47-886307ccf015"
      },
      "source": [
        "# Retrieve statistics of train dataframe\r\n",
        "df_train.describe()"
      ],
      "execution_count": 8,
      "outputs": [
        {
          "output_type": "execute_result",
          "data": {
            "text/html": [
              "<div>\n",
              "<style scoped>\n",
              "    .dataframe tbody tr th:only-of-type {\n",
              "        vertical-align: middle;\n",
              "    }\n",
              "\n",
              "    .dataframe tbody tr th {\n",
              "        vertical-align: top;\n",
              "    }\n",
              "\n",
              "    .dataframe thead th {\n",
              "        text-align: right;\n",
              "    }\n",
              "</style>\n",
              "<table border=\"1\" class=\"dataframe\">\n",
              "  <thead>\n",
              "    <tr style=\"text-align: right;\">\n",
              "      <th></th>\n",
              "      <th>telecommuting</th>\n",
              "      <th>has_company_logo</th>\n",
              "      <th>has_questions</th>\n",
              "      <th>fraudulent</th>\n",
              "    </tr>\n",
              "  </thead>\n",
              "  <tbody>\n",
              "    <tr>\n",
              "      <th>count</th>\n",
              "      <td>14304.000000</td>\n",
              "      <td>14304.000000</td>\n",
              "      <td>14304.000000</td>\n",
              "      <td>14304.000000</td>\n",
              "    </tr>\n",
              "    <tr>\n",
              "      <th>mean</th>\n",
              "      <td>0.043554</td>\n",
              "      <td>0.794393</td>\n",
              "      <td>0.492799</td>\n",
              "      <td>0.049567</td>\n",
              "    </tr>\n",
              "    <tr>\n",
              "      <th>std</th>\n",
              "      <td>0.204108</td>\n",
              "      <td>0.404158</td>\n",
              "      <td>0.499966</td>\n",
              "      <td>0.217055</td>\n",
              "    </tr>\n",
              "    <tr>\n",
              "      <th>min</th>\n",
              "      <td>0.000000</td>\n",
              "      <td>0.000000</td>\n",
              "      <td>0.000000</td>\n",
              "      <td>0.000000</td>\n",
              "    </tr>\n",
              "    <tr>\n",
              "      <th>25%</th>\n",
              "      <td>0.000000</td>\n",
              "      <td>1.000000</td>\n",
              "      <td>0.000000</td>\n",
              "      <td>0.000000</td>\n",
              "    </tr>\n",
              "    <tr>\n",
              "      <th>50%</th>\n",
              "      <td>0.000000</td>\n",
              "      <td>1.000000</td>\n",
              "      <td>0.000000</td>\n",
              "      <td>0.000000</td>\n",
              "    </tr>\n",
              "    <tr>\n",
              "      <th>75%</th>\n",
              "      <td>0.000000</td>\n",
              "      <td>1.000000</td>\n",
              "      <td>1.000000</td>\n",
              "      <td>0.000000</td>\n",
              "    </tr>\n",
              "    <tr>\n",
              "      <th>max</th>\n",
              "      <td>1.000000</td>\n",
              "      <td>1.000000</td>\n",
              "      <td>1.000000</td>\n",
              "      <td>1.000000</td>\n",
              "    </tr>\n",
              "  </tbody>\n",
              "</table>\n",
              "</div>"
            ],
            "text/plain": [
              "       telecommuting  has_company_logo  has_questions    fraudulent\n",
              "count   14304.000000      14304.000000   14304.000000  14304.000000\n",
              "mean        0.043554          0.794393       0.492799      0.049567\n",
              "std         0.204108          0.404158       0.499966      0.217055\n",
              "min         0.000000          0.000000       0.000000      0.000000\n",
              "25%         0.000000          1.000000       0.000000      0.000000\n",
              "50%         0.000000          1.000000       0.000000      0.000000\n",
              "75%         0.000000          1.000000       1.000000      0.000000\n",
              "max         1.000000          1.000000       1.000000      1.000000"
            ]
          },
          "metadata": {
            "tags": []
          },
          "execution_count": 8
        }
      ]
    },
    {
      "cell_type": "markdown",
      "metadata": {
        "id": "ZVnqZTF-RaXv"
      },
      "source": [
        "## EDA"
      ]
    },
    {
      "cell_type": "code",
      "metadata": {
        "colab": {
          "base_uri": "https://localhost:8080/",
          "height": 513
        },
        "id": "IvI3gbVmbjuF",
        "outputId": "40487b2a-e19e-498a-ff44-19fb968862cd"
      },
      "source": [
        "# Let's visualize the distribution of data\r\n",
        "count_classes = pd.value_counts(df_train['fraudulent'], sort = True)\r\n",
        "count_classes.plot(kind = 'bar', rot = 0)\r\n",
        "plt.title(\"Fraudulent Job Distribution\")\r\n",
        "plt.xticks(range(2))\r\n",
        "plt.xlabel(\"Fraudulent\")\r\n",
        "plt.ylabel('Frequency')\r\n",
        "plt.show()"
      ],
      "execution_count": 9,
      "outputs": [
        {
          "output_type": "display_data",
          "data": {
            "image/png": "[encoded data removed]",
            "text/plain": [
              "<Figure size 720x576 with 1 Axes>"
            ]
          },
          "metadata": {
            "tags": [],
            "needs_background": "light"
          }
        }
      ]
    },
    {
      "cell_type": "code",
      "metadata": {
        "colab": {
          "base_uri": "https://localhost:8080/"
        },
        "id": "lSnrXBE_b4O0",
        "outputId": "2e8ad5e6-f1f0-4db8-f9b4-c6da763bade6"
      },
      "source": [
        "# Investigate the counts of differebt classes\r\n",
        "df_train['fraudulent'].value_counts()"
      ],
      "execution_count": 10,
      "outputs": [
        {
          "output_type": "execute_result",
          "data": {
            "text/plain": [
              "0    13595\n",
              "1      709\n",
              "Name: fraudulent, dtype: int64"
            ]
          },
          "metadata": {
            "tags": []
          },
          "execution_count": 10
        }
      ]
    },
    {
      "cell_type": "markdown",
      "metadata": {
        "id": "EYKYWBNVbykm"
      },
      "source": [
        "#### The distribution above shows that the dataset is imbalanced"
      ]
    },
    {
      "cell_type": "code",
      "metadata": {
        "id": "1ECBJnCDRdIN",
        "colab": {
          "base_uri": "https://localhost:8080/",
          "height": 195
        },
        "outputId": "4ca25580-5b8e-421c-8188-b3441f26549e"
      },
      "source": [
        "# Extract numerical and categorical columns from train dataframe\r\n",
        "numerical_cols = [cname for cname in df_train.columns if\r\n",
        "                df_train[cname].dtype in ['int64', 'float64']]\r\n",
        "\r\n",
        "# Extract categorical features from dataframe\r\n",
        "category_cols = [col for col in df_train.columns if df_train[col].dtype == \"object\"]\r\n",
        "category_features = category_cols.copy()\r\n",
        "category_cols.append('fraudulent')\r\n",
        "\r\n",
        "# Create individual dataframes\r\n",
        "num_train= df_train[numerical_cols].copy()\r\n",
        "cat_train = df_train[category_cols].copy()\r\n",
        "\r\n",
        "num_train.head()"
      ],
      "execution_count": 11,
      "outputs": [
        {
          "output_type": "execute_result",
          "data": {
            "text/html": [
              "<div>\n",
              "<style scoped>\n",
              "    .dataframe tbody tr th:only-of-type {\n",
              "        vertical-align: middle;\n",
              "    }\n",
              "\n",
              "    .dataframe tbody tr th {\n",
              "        vertical-align: top;\n",
              "    }\n",
              "\n",
              "    .dataframe thead th {\n",
              "        text-align: right;\n",
              "    }\n",
              "</style>\n",
              "<table border=\"1\" class=\"dataframe\">\n",
              "  <thead>\n",
              "    <tr style=\"text-align: right;\">\n",
              "      <th></th>\n",
              "      <th>telecommuting</th>\n",
              "      <th>has_company_logo</th>\n",
              "      <th>has_questions</th>\n",
              "      <th>fraudulent</th>\n",
              "    </tr>\n",
              "  </thead>\n",
              "  <tbody>\n",
              "    <tr>\n",
              "      <th>0</th>\n",
              "      <td>0</td>\n",
              "      <td>1</td>\n",
              "      <td>1</td>\n",
              "      <td>0</td>\n",
              "    </tr>\n",
              "    <tr>\n",
              "      <th>1</th>\n",
              "      <td>0</td>\n",
              "      <td>1</td>\n",
              "      <td>1</td>\n",
              "      <td>0</td>\n",
              "    </tr>\n",
              "    <tr>\n",
              "      <th>2</th>\n",
              "      <td>0</td>\n",
              "      <td>1</td>\n",
              "      <td>1</td>\n",
              "      <td>0</td>\n",
              "    </tr>\n",
              "    <tr>\n",
              "      <th>3</th>\n",
              "      <td>0</td>\n",
              "      <td>0</td>\n",
              "      <td>0</td>\n",
              "      <td>1</td>\n",
              "    </tr>\n",
              "    <tr>\n",
              "      <th>4</th>\n",
              "      <td>0</td>\n",
              "      <td>1</td>\n",
              "      <td>0</td>\n",
              "      <td>0</td>\n",
              "    </tr>\n",
              "  </tbody>\n",
              "</table>\n",
              "</div>"
            ],
            "text/plain": [
              "   telecommuting  has_company_logo  has_questions  fraudulent\n",
              "0              0                 1              1           0\n",
              "1              0                 1              1           0\n",
              "2              0                 1              1           0\n",
              "3              0                 0              0           1\n",
              "4              0                 1              0           0"
            ]
          },
          "metadata": {
            "tags": []
          },
          "execution_count": 11
        }
      ]
    },
    {
      "cell_type": "markdown",
      "metadata": {
        "id": "l9wxm2d6Z642"
      },
      "source": [
        "### Exploring numerical attributes and target column"
      ]
    },
    {
      "cell_type": "code",
      "metadata": {
        "colab": {
          "base_uri": "https://localhost:8080/"
        },
        "id": "8WI0yQGjaBUb",
        "outputId": "a8fad03f-1b17-4040-ebf3-ae8b4fe127f1"
      },
      "source": [
        "# Check for missing values in train dataframe\r\n",
        "num_train.isnull().sum()"
      ],
      "execution_count": 12,
      "outputs": [
        {
          "output_type": "execute_result",
          "data": {
            "text/plain": [
              "telecommuting       0\n",
              "has_company_logo    0\n",
              "has_questions       0\n",
              "fraudulent          0\n",
              "dtype: int64"
            ]
          },
          "metadata": {
            "tags": []
          },
          "execution_count": 12
        }
      ]
    },
    {
      "cell_type": "code",
      "metadata": {
        "colab": {
          "base_uri": "https://localhost:8080/",
          "height": 284
        },
        "id": "I8igT3MyapR8",
        "outputId": "9f300b81-b49e-4a9a-f615-6294217e34ad"
      },
      "source": [
        "# Investigae basic statistics\r\n",
        "df_train.describe()"
      ],
      "execution_count": 13,
      "outputs": [
        {
          "output_type": "execute_result",
          "data": {
            "text/html": [
              "<div>\n",
              "<style scoped>\n",
              "    .dataframe tbody tr th:only-of-type {\n",
              "        vertical-align: middle;\n",
              "    }\n",
              "\n",
              "    .dataframe tbody tr th {\n",
              "        vertical-align: top;\n",
              "    }\n",
              "\n",
              "    .dataframe thead th {\n",
              "        text-align: right;\n",
              "    }\n",
              "</style>\n",
              "<table border=\"1\" class=\"dataframe\">\n",
              "  <thead>\n",
              "    <tr style=\"text-align: right;\">\n",
              "      <th></th>\n",
              "      <th>telecommuting</th>\n",
              "      <th>has_company_logo</th>\n",
              "      <th>has_questions</th>\n",
              "      <th>fraudulent</th>\n",
              "    </tr>\n",
              "  </thead>\n",
              "  <tbody>\n",
              "    <tr>\n",
              "      <th>count</th>\n",
              "      <td>14304.000000</td>\n",
              "      <td>14304.000000</td>\n",
              "      <td>14304.000000</td>\n",
              "      <td>14304.000000</td>\n",
              "    </tr>\n",
              "    <tr>\n",
              "      <th>mean</th>\n",
              "      <td>0.043554</td>\n",
              "      <td>0.794393</td>\n",
              "      <td>0.492799</td>\n",
              "      <td>0.049567</td>\n",
              "    </tr>\n",
              "    <tr>\n",
              "      <th>std</th>\n",
              "      <td>0.204108</td>\n",
              "      <td>0.404158</td>\n",
              "      <td>0.499966</td>\n",
              "      <td>0.217055</td>\n",
              "    </tr>\n",
              "    <tr>\n",
              "      <th>min</th>\n",
              "      <td>0.000000</td>\n",
              "      <td>0.000000</td>\n",
              "      <td>0.000000</td>\n",
              "      <td>0.000000</td>\n",
              "    </tr>\n",
              "    <tr>\n",
              "      <th>25%</th>\n",
              "      <td>0.000000</td>\n",
              "      <td>1.000000</td>\n",
              "      <td>0.000000</td>\n",
              "      <td>0.000000</td>\n",
              "    </tr>\n",
              "    <tr>\n",
              "      <th>50%</th>\n",
              "      <td>0.000000</td>\n",
              "      <td>1.000000</td>\n",
              "      <td>0.000000</td>\n",
              "      <td>0.000000</td>\n",
              "    </tr>\n",
              "    <tr>\n",
              "      <th>75%</th>\n",
              "      <td>0.000000</td>\n",
              "      <td>1.000000</td>\n",
              "      <td>1.000000</td>\n",
              "      <td>0.000000</td>\n",
              "    </tr>\n",
              "    <tr>\n",
              "      <th>max</th>\n",
              "      <td>1.000000</td>\n",
              "      <td>1.000000</td>\n",
              "      <td>1.000000</td>\n",
              "      <td>1.000000</td>\n",
              "    </tr>\n",
              "  </tbody>\n",
              "</table>\n",
              "</div>"
            ],
            "text/plain": [
              "       telecommuting  has_company_logo  has_questions    fraudulent\n",
              "count   14304.000000      14304.000000   14304.000000  14304.000000\n",
              "mean        0.043554          0.794393       0.492799      0.049567\n",
              "std         0.204108          0.404158       0.499966      0.217055\n",
              "min         0.000000          0.000000       0.000000      0.000000\n",
              "25%         0.000000          1.000000       0.000000      0.000000\n",
              "50%         0.000000          1.000000       0.000000      0.000000\n",
              "75%         0.000000          1.000000       1.000000      0.000000\n",
              "max         1.000000          1.000000       1.000000      1.000000"
            ]
          },
          "metadata": {
            "tags": []
          },
          "execution_count": 13
        }
      ]
    },
    {
      "cell_type": "code",
      "metadata": {
        "colab": {
          "base_uri": "https://localhost:8080/",
          "height": 136
        },
        "id": "E88S0TXXXRGH",
        "outputId": "e20408ce-9ad0-4227-8927-7bcc05de2e78"
      },
      "source": [
        "# Check how the varaibles classify jobs as fraud or not fraud ( results show that company logo and has questions are useful indicators)\r\n",
        "target_column = 'fraudulent'\r\n",
        "\r\n",
        "# For classification problem\r\n",
        "num_train.groupby(target_column).mean() # Not a complete picture"
      ],
      "execution_count": 14,
      "outputs": [
        {
          "output_type": "execute_result",
          "data": {
            "text/html": [
              "<div>\n",
              "<style scoped>\n",
              "    .dataframe tbody tr th:only-of-type {\n",
              "        vertical-align: middle;\n",
              "    }\n",
              "\n",
              "    .dataframe tbody tr th {\n",
              "        vertical-align: top;\n",
              "    }\n",
              "\n",
              "    .dataframe thead th {\n",
              "        text-align: right;\n",
              "    }\n",
              "</style>\n",
              "<table border=\"1\" class=\"dataframe\">\n",
              "  <thead>\n",
              "    <tr style=\"text-align: right;\">\n",
              "      <th></th>\n",
              "      <th>telecommuting</th>\n",
              "      <th>has_company_logo</th>\n",
              "      <th>has_questions</th>\n",
              "    </tr>\n",
              "    <tr>\n",
              "      <th>fraudulent</th>\n",
              "      <th></th>\n",
              "      <th></th>\n",
              "      <th></th>\n",
              "    </tr>\n",
              "  </thead>\n",
              "  <tbody>\n",
              "    <tr>\n",
              "      <th>0</th>\n",
              "      <td>0.041854</td>\n",
              "      <td>0.818610</td>\n",
              "      <td>0.503126</td>\n",
              "    </tr>\n",
              "    <tr>\n",
              "      <th>1</th>\n",
              "      <td>0.076164</td>\n",
              "      <td>0.330042</td>\n",
              "      <td>0.294781</td>\n",
              "    </tr>\n",
              "  </tbody>\n",
              "</table>\n",
              "</div>"
            ],
            "text/plain": [
              "            telecommuting  has_company_logo  has_questions\n",
              "fraudulent                                                \n",
              "0                0.041854          0.818610       0.503126\n",
              "1                0.076164          0.330042       0.294781"
            ]
          },
          "metadata": {
            "tags": []
          },
          "execution_count": 14
        }
      ]
    },
    {
      "cell_type": "code",
      "metadata": {
        "colab": {
          "base_uri": "https://localhost:8080/",
          "height": 912
        },
        "id": "gUIawEniiUsU",
        "outputId": "edc75bd5-ee59-4189-ce6f-56393f449b73"
      },
      "source": [
        "# let's see how data is distributed for every column\r\n",
        "plt.figure(figsize=(20,25), facecolor='white')\r\n",
        "plotnumber = 1\r\n",
        "\r\n",
        "for column in num_train:\r\n",
        "    if plotnumber<=9 :     # as there are 9 columns in the data\r\n",
        "        ax = plt.subplot(3,3,plotnumber)\r\n",
        "        sns.distplot(num_train[column])\r\n",
        "        plt.xlabel(column,fontsize=20)\r\n",
        "    plotnumber+=1\r\n",
        "plt.show()"
      ],
      "execution_count": 15,
      "outputs": [
        {
          "output_type": "display_data",
          "data": {
            "image/png": "[encoded data removed]",
            "text/plain": [
              "<Figure size 1440x1800 with 4 Axes>"
            ]
          },
          "metadata": {
            "tags": []
          }
        }
      ]
    },
    {
      "cell_type": "code",
      "metadata": {
        "colab": {
          "base_uri": "https://localhost:8080/",
          "height": 1000
        },
        "id": "DzH1WJcLX9OY",
        "outputId": "bb3ad00c-a6df-4fb2-bb9f-ca8f1e73b91f"
      },
      "source": [
        "# Explore dataset\r\n",
        "for i in num_train.columns[:-1]:\r\n",
        "    Fraud = list(num_train[num_train['fraudulent'] == 1][i].dropna())\r\n",
        "    Not_Fraud = list(num_train[num_train['fraudulent']  == 0][i].dropna())\r\n",
        "    xmin = min(min(Fraud), min(Not_Fraud))\r\n",
        "    xmax = max(max(Fraud), max(Not_Fraud))\r\n",
        "    width = (xmax - xmin) / 40\r\n",
        "    sns.distplot(Fraud, color='r', kde=False, bins=np.arange(xmin, xmax, width))\r\n",
        "    sns.distplot(Not_Fraud, color='g', kde=False, bins=np.arange(xmin, xmax, width))\r\n",
        "    plt.legend(['Fraud', 'Not_Frud'])\r\n",
        "    plt.title('Overlaid histogram for {}'.format(i))\r\n",
        "    plt.show()"
      ],
      "execution_count": null,
      "outputs": [
        {
          "output_type": "display_data",
          "data": {
            "image/png": "[encoded data removed]",
            "text/plain": [
              "<Figure size 720x576 with 1 Axes>"
            ]
          },
          "metadata": {
            "tags": [],
            "needs_background": "light"
          }
        },
        {
          "output_type": "display_data",
          "data": {
            "image/png": "[encoded data removed]",
            "text/plain": [
              "<Figure size 720x576 with 1 Axes>"
            ]
          },
          "metadata": {
            "tags": [],
            "needs_background": "light"
          }
        },
        {
          "output_type": "display_data",
          "data": {
            "image/png": "[encoded data removed]",
            "text/plain": [
              "<Figure size 720x576 with 1 Axes>"
            ]
          },
          "metadata": {
            "tags": [],
            "needs_background": "light"
          }
        }
      ]
    },
    {
      "cell_type": "code",
      "metadata": {
        "colab": {
          "base_uri": "https://localhost:8080/",
          "height": 1000
        },
        "id": "MLwTMKiXd4xu",
        "outputId": "727cd20c-a221-48c8-9cf2-4cd0d9188c5a"
      },
      "source": [
        "# For the ordinal features\r\n",
        "for i, col in enumerate(['telecommuting', 'has_company_logo', 'has_questions']):\r\n",
        "    plt.figure(i)\r\n",
        "    sns.catplot(x=col, y='fraudulent', data=num_train, kind='point', aspect=2,)\r\n",
        "    plt.show()"
      ],
      "execution_count": null,
      "outputs": [
        {
          "output_type": "display_data",
          "data": {
            "text/plain": [
              "<Figure size 720x576 with 0 Axes>"
            ]
          },
          "metadata": {
            "tags": []
          }
        },
        {
          "output_type": "display_data",
          "data": {
            "image/png": "[encoded data removed]",
            "text/plain": [
              "<Figure size 720x360 with 1 Axes>"
            ]
          },
          "metadata": {
            "tags": [],
            "needs_background": "light"
          }
        },
        {
          "output_type": "display_data",
          "data": {
            "text/plain": [
              "<Figure size 720x576 with 0 Axes>"
            ]
          },
          "metadata": {
            "tags": []
          }
        },
        {
          "output_type": "display_data",
          "data": {
            "image/png": "[encoded data removed]",
            "text/plain": [
              "<Figure size 720x360 with 1 Axes>"
            ]
          },
          "metadata": {
            "tags": [],
            "needs_background": "light"
          }
        },
        {
          "output_type": "display_data",
          "data": {
            "text/plain": [
              "<Figure size 720x576 with 0 Axes>"
            ]
          },
          "metadata": {
            "tags": []
          }
        },
        {
          "output_type": "display_data",
          "data": {
            "image/png": "[encoded data removed]",
            "text/plain": [
              "<Figure size 720x360 with 1 Axes>"
            ]
          },
          "metadata": {
            "tags": [],
            "needs_background": "light"
          }
        }
      ]
    },
    {
      "cell_type": "code",
      "metadata": {
        "id": "ouP8VJ1rhIRD"
      },
      "source": [
        "# diagnostic plot to confirm skewness/outliers\r\n",
        "def diagnostic_plots(df,variable):\r\n",
        "  # functin to plot a histogram and Q-Q plot \r\n",
        "  \r\n",
        "  plt.figure(figsize = (15,6))\r\n",
        "  plt.subplot(1,2,1)\r\n",
        "  df[variable].hist()\r\n",
        "  \r\n",
        "  plt.subplot(1,2,2)\r\n",
        "  stats.probplot(df[variable], dist = \"norm\", plot = plt)\r\n",
        "  \r\n",
        "  #diagnostic_plots(df,'Age') # how to use function\r\n",
        "  \r\n",
        "  plt.show()"
      ],
      "execution_count": null,
      "outputs": []
    },
    {
      "cell_type": "code",
      "metadata": {
        "colab": {
          "base_uri": "https://localhost:8080/",
          "height": 1000
        },
        "id": "z-oAK7sahTmZ",
        "outputId": "83521743-6e95-4c3c-e5ad-bf5dd4c4250c"
      },
      "source": [
        "# Confirm skewness with Q-Q plot for all numerical columns\r\n",
        "\r\n",
        "for i,cols in enumerate(num_train.columns):\r\n",
        "    plt.figure(i)\r\n",
        "    diagnostic_plots(num_train, cols)\r\n",
        "    plt.show()"
      ],
      "execution_count": null,
      "outputs": [
        {
          "output_type": "display_data",
          "data": {
            "text/plain": [
              "<Figure size 720x576 with 0 Axes>"
            ]
          },
          "metadata": {
            "tags": []
          }
        },
        {
          "output_type": "display_data",
          "data": {
            "image/png": "[encoded data removed]",
            "text/plain": [
              "<Figure size 1080x432 with 2 Axes>"
            ]
          },
          "metadata": {
            "tags": [],
            "needs_background": "light"
          }
        },
        {
          "output_type": "display_data",
          "data": {
            "text/plain": [
              "<Figure size 720x576 with 0 Axes>"
            ]
          },
          "metadata": {
            "tags": []
          }
        },
        {
          "output_type": "display_data",
          "data": {
            "image/png": "[encoded data removed]",
            "text/plain": [
              "<Figure size 1080x432 with 2 Axes>"
            ]
          },
          "metadata": {
            "tags": [],
            "needs_background": "light"
          }
        },
        {
          "output_type": "display_data",
          "data": {
            "text/plain": [
              "<Figure size 720x576 with 0 Axes>"
            ]
          },
          "metadata": {
            "tags": []
          }
        },
        {
          "output_type": "display_data",
          "data": {
            "image/png": "[encoded data removed]",
            "text/plain": [
              "<Figure size 1080x432 with 2 Axes>"
            ]
          },
          "metadata": {
            "tags": [],
            "needs_background": "light"
          }
        },
        {
          "output_type": "display_data",
          "data": {
            "text/plain": [
              "<Figure size 720x576 with 0 Axes>"
            ]
          },
          "metadata": {
            "tags": []
          }
        },
        {
          "output_type": "display_data",
          "data": {
            "image/png": "[encoded data removed]",
            "text/plain": [
              "<Figure size 1080x432 with 2 Axes>"
            ]
          },
          "metadata": {
            "tags": [],
            "needs_background": "light"
          }
        }
      ]
    },
    {
      "cell_type": "code",
      "metadata": {
        "colab": {
          "base_uri": "https://localhost:8080/",
          "height": 724
        },
        "id": "Y3Hj_Tg7hmqE",
        "outputId": "690052ef-711e-4696-8d55-18df1e7cef4c"
      },
      "source": [
        "# Visual exploration of numerical colums\r\n",
        "plt.figure(figsize= (18,40))\r\n",
        "for i,col in enumerate(num_train.columns,1):\r\n",
        "    plt.subplot(8,4,i)\r\n",
        "    sns.kdeplot(num_train[col],color='g',shade=True)\r\n",
        "    plt.subplot(8,4,i+len(num_train.columns))\r\n",
        "    num_train[col].plot.box()\r\n",
        "plt.tight_layout() \r\n",
        "plt.show()\r\n",
        "num_data = num_train[num_train.columns]\r\n",
        "pd.DataFrame(data=[num_data.skew(),num_data.kurtosis()],index=['skewness','kurtosis'])"
      ],
      "execution_count": null,
      "outputs": [
        {
          "output_type": "display_data",
          "data": {
            "image/png": "[encoded data removed]",
            "text/plain": [
              "<Figure size 1296x2880 with 8 Axes>"
            ]
          },
          "metadata": {
            "tags": [],
            "needs_background": "light"
          }
        },
        {
          "output_type": "execute_result",
          "data": {
            "text/html": [
              "<div>\n",
              "<style scoped>\n",
              "    .dataframe tbody tr th:only-of-type {\n",
              "        vertical-align: middle;\n",
              "    }\n",
              "\n",
              "    .dataframe tbody tr th {\n",
              "        vertical-align: top;\n",
              "    }\n",
              "\n",
              "    .dataframe thead th {\n",
              "        text-align: right;\n",
              "    }\n",
              "</style>\n",
              "<table border=\"1\" class=\"dataframe\">\n",
              "  <thead>\n",
              "    <tr style=\"text-align: right;\">\n",
              "      <th></th>\n",
              "      <th>telecommuting</th>\n",
              "      <th>has_company_logo</th>\n",
              "      <th>has_questions</th>\n",
              "      <th>fraudulent</th>\n",
              "    </tr>\n",
              "  </thead>\n",
              "  <tbody>\n",
              "    <tr>\n",
              "      <th>skewness</th>\n",
              "      <td>4.473210</td>\n",
              "      <td>-1.457024</td>\n",
              "      <td>0.028809</td>\n",
              "      <td>4.150983</td>\n",
              "    </tr>\n",
              "    <tr>\n",
              "      <th>kurtosis</th>\n",
              "      <td>18.012124</td>\n",
              "      <td>0.122937</td>\n",
              "      <td>-1.999450</td>\n",
              "      <td>15.232789</td>\n",
              "    </tr>\n",
              "  </tbody>\n",
              "</table>\n",
              "</div>"
            ],
            "text/plain": [
              "          telecommuting  has_company_logo  has_questions  fraudulent\n",
              "skewness       4.473210         -1.457024       0.028809    4.150983\n",
              "kurtosis      18.012124          0.122937      -1.999450   15.232789"
            ]
          },
          "metadata": {
            "tags": []
          },
          "execution_count": 399
        }
      ]
    },
    {
      "cell_type": "code",
      "metadata": {
        "colab": {
          "base_uri": "https://localhost:8080/",
          "height": 195
        },
        "id": "ZKY09e4ljZZn",
        "outputId": "c385786a-53de-4649-835b-2e621da6fc30"
      },
      "source": [
        "# Print first five rows from test set dataframe for numerical columns\r\n",
        "test_num_cols = numerical_cols[:-1]\r\n",
        "\r\n",
        "num_test = df_test[test_num_cols].copy()\r\n",
        "num_test.head()"
      ],
      "execution_count": null,
      "outputs": [
        {
          "output_type": "execute_result",
          "data": {
            "text/html": [
              "<div>\n",
              "<style scoped>\n",
              "    .dataframe tbody tr th:only-of-type {\n",
              "        vertical-align: middle;\n",
              "    }\n",
              "\n",
              "    .dataframe tbody tr th {\n",
              "        vertical-align: top;\n",
              "    }\n",
              "\n",
              "    .dataframe thead th {\n",
              "        text-align: right;\n",
              "    }\n",
              "</style>\n",
              "<table border=\"1\" class=\"dataframe\">\n",
              "  <thead>\n",
              "    <tr style=\"text-align: right;\">\n",
              "      <th></th>\n",
              "      <th>telecommuting</th>\n",
              "      <th>has_company_logo</th>\n",
              "      <th>has_questions</th>\n",
              "    </tr>\n",
              "  </thead>\n",
              "  <tbody>\n",
              "    <tr>\n",
              "      <th>0</th>\n",
              "      <td>0</td>\n",
              "      <td>1</td>\n",
              "      <td>1</td>\n",
              "    </tr>\n",
              "    <tr>\n",
              "      <th>1</th>\n",
              "      <td>0</td>\n",
              "      <td>1</td>\n",
              "      <td>1</td>\n",
              "    </tr>\n",
              "    <tr>\n",
              "      <th>2</th>\n",
              "      <td>0</td>\n",
              "      <td>0</td>\n",
              "      <td>0</td>\n",
              "    </tr>\n",
              "    <tr>\n",
              "      <th>3</th>\n",
              "      <td>0</td>\n",
              "      <td>0</td>\n",
              "      <td>0</td>\n",
              "    </tr>\n",
              "    <tr>\n",
              "      <th>4</th>\n",
              "      <td>0</td>\n",
              "      <td>1</td>\n",
              "      <td>0</td>\n",
              "    </tr>\n",
              "  </tbody>\n",
              "</table>\n",
              "</div>"
            ],
            "text/plain": [
              "   telecommuting  has_company_logo  has_questions\n",
              "0              0                 1              1\n",
              "1              0                 1              1\n",
              "2              0                 0              0\n",
              "3              0                 0              0\n",
              "4              0                 1              0"
            ]
          },
          "metadata": {
            "tags": []
          },
          "execution_count": 400
        }
      ]
    },
    {
      "cell_type": "markdown",
      "metadata": {
        "id": "5ndHujt1jQbJ"
      },
      "source": [
        "### Explore Categorical data"
      ]
    },
    {
      "cell_type": "code",
      "metadata": {
        "id": "u5D6HDG2jVFJ"
      },
      "source": [
        "# Examine dataset for categorical columns including target column\r\n",
        "cat_train.head()\r\n",
        "cat_test = df_test[category_features].copy()"
      ],
      "execution_count": null,
      "outputs": []
    },
    {
      "cell_type": "code",
      "metadata": {
        "colab": {
          "base_uri": "https://localhost:8080/"
        },
        "id": "CSt_vGTulV4_",
        "outputId": "84f5af9e-7746-41b1-f5f5-a98609e516a4"
      },
      "source": [
        "# Checking for missing values\r\n",
        "cat_train.isnull().sum()"
      ],
      "execution_count": null,
      "outputs": [
        {
          "output_type": "execute_result",
          "data": {
            "text/plain": [
              "title                      0\n",
              "location                 275\n",
              "department              9182\n",
              "salary_range           11979\n",
              "company_profile         2653\n",
              "description                1\n",
              "requirements            2149\n",
              "benefits                5758\n",
              "employment_type         2762\n",
              "required_experience     5630\n",
              "required_education      6467\n",
              "industry                3900\n",
              "function                5160\n",
              "fraudulent                 0\n",
              "dtype: int64"
            ]
          },
          "metadata": {
            "tags": []
          },
          "execution_count": 402
        }
      ]
    },
    {
      "cell_type": "code",
      "metadata": {
        "colab": {
          "base_uri": "https://localhost:8080/"
        },
        "id": "3kiVgI9Ct309",
        "outputId": "de0bad63-12ee-48ae-fb54-9752f2bd3ab2"
      },
      "source": [
        "# Let us see the cardanilatity of each column for the categorical columns in train and test set\r\n",
        "# Unique value sin each columns\r\n",
        "for cols in category_features:\r\n",
        "    print(\"Unique values in\", cols,  \"column in training data:\", cat_train[cols].nunique())\r\n",
        "    print(\"Unique values in\", cols,  \"column in test data:\", cat_test[cols].nunique())\r\n",
        "    print(\"*\"*80)"
      ],
      "execution_count": null,
      "outputs": [
        {
          "output_type": "stream",
          "text": [
            "Unique values in title column in training data: 9269\n",
            "Unique values in title column in test data: 2772\n",
            "********************************************************************************\n",
            "Unique values in location column in training data: 2750\n",
            "Unique values in location column in test data: 1195\n",
            "********************************************************************************\n",
            "Unique values in department column in training data: 1172\n",
            "Unique values in department column in test data: 449\n",
            "********************************************************************************\n",
            "Unique values in salary_range column in training data: 765\n",
            "Unique values in salary_range column in test data: 311\n",
            "********************************************************************************\n",
            "Unique values in company_profile column in training data: 1597\n",
            "Unique values in company_profile column in test data: 899\n",
            "********************************************************************************\n",
            "Unique values in description column in training data: 12046\n",
            "Unique values in description column in test data: 3242\n",
            "********************************************************************************\n",
            "Unique values in requirements column in training data: 9756\n",
            "Unique values in requirements column in test data: 2652\n",
            "********************************************************************************\n",
            "Unique values in benefits column in training data: 5190\n",
            "Unique values in benefits column in test data: 1599\n",
            "********************************************************************************\n",
            "Unique values in employment_type column in training data: 5\n",
            "Unique values in employment_type column in test data: 5\n",
            "********************************************************************************\n",
            "Unique values in required_experience column in training data: 7\n",
            "Unique values in required_experience column in test data: 7\n",
            "********************************************************************************\n",
            "Unique values in required_education column in training data: 13\n",
            "Unique values in required_education column in test data: 13\n",
            "********************************************************************************\n",
            "Unique values in industry column in training data: 128\n",
            "Unique values in industry column in test data: 113\n",
            "********************************************************************************\n",
            "Unique values in function column in training data: 37\n",
            "Unique values in function column in test data: 37\n",
            "********************************************************************************\n"
          ],
          "name": "stdout"
        }
      ]
    },
    {
      "cell_type": "code",
      "metadata": {
        "colab": {
          "base_uri": "https://localhost:8080/"
        },
        "id": "5eY-JNB3uzvH",
        "outputId": "fbc338ec-82fe-48a5-8383-82d081538f5d"
      },
      "source": [
        "# Explore employment_type values\r\n",
        "cat_train.employment_type.value_counts()"
      ],
      "execution_count": null,
      "outputs": [
        {
          "output_type": "execute_result",
          "data": {
            "text/plain": [
              "Full-time    9317\n",
              "Contract     1216\n",
              "Part-time     630\n",
              "Temporary     191\n",
              "Other         188\n",
              "Name: employment_type, dtype: int64"
            ]
          },
          "metadata": {
            "tags": []
          },
          "execution_count": 404
        }
      ]
    },
    {
      "cell_type": "code",
      "metadata": {
        "colab": {
          "base_uri": "https://localhost:8080/",
          "height": 513
        },
        "id": "3BQzdYM_vmyn",
        "outputId": "c29e9fdb-9fbc-473c-e6d7-0898e219c5be"
      },
      "source": [
        "# Let's visualize the distribution of employment_type column\r\n",
        "count_classes = pd.value_counts(cat_train['employment_type'], sort = True)\r\n",
        "count_classes.plot(kind = 'bar', rot = 0)\r\n",
        "plt.title(\"Employment Type Distribution\")\r\n",
        "plt.xticks(range(5))\r\n",
        "plt.xlabel(\"Employment Type\")\r\n",
        "plt.ylabel('Frequency')\r\n",
        "plt.show()"
      ],
      "execution_count": null,
      "outputs": [
        {
          "output_type": "display_data",
          "data": {
            "image/png": "[encoded data removed]",
            "text/plain": [
              "<Figure size 720x576 with 1 Axes>"
            ]
          },
          "metadata": {
            "tags": [],
            "needs_background": "light"
          }
        }
      ]
    },
    {
      "cell_type": "code",
      "metadata": {
        "colab": {
          "base_uri": "https://localhost:8080/"
        },
        "id": "z3NhUzC2vBSd",
        "outputId": "db246797-c518-4f0a-ccbd-8f18f1ee27e8"
      },
      "source": [
        "# Explore required_experience values\r\n",
        "cat_train.required_experience.value_counts()"
      ],
      "execution_count": null,
      "outputs": [
        {
          "output_type": "execute_result",
          "data": {
            "text/plain": [
              "Mid-Senior level    3029\n",
              "Entry level         2175\n",
              "Associate           1844\n",
              "Not Applicable       880\n",
              "Director             318\n",
              "Internship           312\n",
              "Executive            116\n",
              "Name: required_experience, dtype: int64"
            ]
          },
          "metadata": {
            "tags": []
          },
          "execution_count": 406
        }
      ]
    },
    {
      "cell_type": "code",
      "metadata": {
        "colab": {
          "base_uri": "https://localhost:8080/",
          "height": 513
        },
        "id": "pX4QHvw0wLkH",
        "outputId": "e226e427-881c-4800-8aea-4454eb0a2e8a"
      },
      "source": [
        "# Let's visualize the distribution of required experience column\r\n",
        "count_classes = pd.value_counts(cat_train['required_experience'], sort = True)\r\n",
        "count_classes.plot(kind = 'bar', rot = 0)\r\n",
        "plt.title(\"Required Experience Distribution\")\r\n",
        "plt.xticks(range(7))\r\n",
        "plt.xlabel(\"Required Experience\")\r\n",
        "plt.ylabel('Frequency')\r\n",
        "plt.show()"
      ],
      "execution_count": null,
      "outputs": [
        {
          "output_type": "display_data",
          "data": {
            "image/png": "[encoded data removed]",
            "text/plain": [
              "<Figure size 720x576 with 1 Axes>"
            ]
          },
          "metadata": {
            "tags": [],
            "needs_background": "light"
          }
        }
      ]
    },
    {
      "cell_type": "code",
      "metadata": {
        "colab": {
          "base_uri": "https://localhost:8080/"
        },
        "id": "72pzMk7evYCp",
        "outputId": "63a861fe-21dd-4ea6-9f09-45667182f2a9"
      },
      "source": [
        "# Explore required_education values\r\n",
        "cat_train.required_education.value_counts()"
      ],
      "execution_count": null,
      "outputs": [
        {
          "output_type": "execute_result",
          "data": {
            "text/plain": [
              "Bachelor's Degree                    4096\n",
              "High School or equivalent            1689\n",
              "Unspecified                          1127\n",
              "Master's Degree                       339\n",
              "Associate Degree                      212\n",
              "Certification                         131\n",
              "Some College Coursework Completed      81\n",
              "Professional                           68\n",
              "Vocational                             38\n",
              "Some High School Coursework            23\n",
              "Doctorate                              22\n",
              "Vocational - HS Diploma                 6\n",
              "Vocational - Degree                     5\n",
              "Name: required_education, dtype: int64"
            ]
          },
          "metadata": {
            "tags": []
          },
          "execution_count": 408
        }
      ]
    },
    {
      "cell_type": "code",
      "metadata": {
        "colab": {
          "base_uri": "https://localhost:8080/",
          "height": 431
        },
        "id": "QwdpsP2Qwg44",
        "outputId": "9bb0f841-4186-401a-920a-ad0342f5cb82"
      },
      "source": [
        "# Let's visualize the distribution of required education column\r\n",
        "count_classes = pd.value_counts(cat_train['required_education'], sort = True)\r\n",
        "plt.figure(figsize=(28,10))\r\n",
        "count_classes.plot(kind = 'bar', rot = 0)\r\n",
        "plt.title(\"Required Education Distribution\")\r\n",
        "plt.xticks(range(13))\r\n",
        "plt.xlabel(\"Required Education\")\r\n",
        "plt.ylabel('Frequency')\r\n",
        "plt.show()"
      ],
      "execution_count": null,
      "outputs": [
        {
          "output_type": "display_data",
          "data": {
            "image/png": "[encoded data removed]",
            "text/plain": [
              "<Figure size 2016x720 with 1 Axes>"
            ]
          },
          "metadata": {
            "tags": [],
            "needs_background": "light"
          }
        }
      ]
    },
    {
      "cell_type": "code",
      "metadata": {
        "colab": {
          "base_uri": "https://localhost:8080/",
          "height": 153
        },
        "id": "L0MXPhnPmSR7",
        "outputId": "203c28ef-b209-4578-9789-1418bfe9e5de"
      },
      "source": [
        "# Explore how the location column impacts Fraud column\r\n",
        "print(\"The percentage of missing values in LOCATION column is  :\", ((cat_train['location'].isnull().sum().sum()/ cat_train.shape[0])*100) ,'%')\r\n",
        "cat_train.groupby(cat_train['location'].isnull()).mean()"
      ],
      "execution_count": null,
      "outputs": [
        {
          "output_type": "stream",
          "text": [
            "The percentage of missing values in LOCATION column is  : 1.922539149888143 %\n"
          ],
          "name": "stdout"
        },
        {
          "output_type": "execute_result",
          "data": {
            "text/html": [
              "<div>\n",
              "<style scoped>\n",
              "    .dataframe tbody tr th:only-of-type {\n",
              "        vertical-align: middle;\n",
              "    }\n",
              "\n",
              "    .dataframe tbody tr th {\n",
              "        vertical-align: top;\n",
              "    }\n",
              "\n",
              "    .dataframe thead th {\n",
              "        text-align: right;\n",
              "    }\n",
              "</style>\n",
              "<table border=\"1\" class=\"dataframe\">\n",
              "  <thead>\n",
              "    <tr style=\"text-align: right;\">\n",
              "      <th></th>\n",
              "      <th>fraudulent</th>\n",
              "    </tr>\n",
              "    <tr>\n",
              "      <th>location</th>\n",
              "      <th></th>\n",
              "    </tr>\n",
              "  </thead>\n",
              "  <tbody>\n",
              "    <tr>\n",
              "      <th>False</th>\n",
              "      <td>0.049540</td>\n",
              "    </tr>\n",
              "    <tr>\n",
              "      <th>True</th>\n",
              "      <td>0.050909</td>\n",
              "    </tr>\n",
              "  </tbody>\n",
              "</table>\n",
              "</div>"
            ],
            "text/plain": [
              "          fraudulent\n",
              "location            \n",
              "False       0.049540\n",
              "True        0.050909"
            ]
          },
          "metadata": {
            "tags": []
          },
          "execution_count": 410
        }
      ]
    },
    {
      "cell_type": "code",
      "metadata": {
        "colab": {
          "base_uri": "https://localhost:8080/",
          "height": 153
        },
        "id": "vSRqxvPCmtxn",
        "outputId": "882bee47-624c-4845-ff77-f6d0b63a2cfe"
      },
      "source": [
        "# Explore how the department column impacts Fraud column\r\n",
        "print(\"The percentage of missing values in DEPARTMENT column is  :\", ((cat_train['department'].isnull().sum().sum()/ cat_train.shape[0])*100) ,'%')\r\n",
        "cat_train.groupby(cat_train['department'].isnull()).mean()"
      ],
      "execution_count": null,
      "outputs": [
        {
          "output_type": "stream",
          "text": [
            "The percentage of missing values in DEPARTMENT column is  : 64.19183445190157 %\n"
          ],
          "name": "stdout"
        },
        {
          "output_type": "execute_result",
          "data": {
            "text/html": [
              "<div>\n",
              "<style scoped>\n",
              "    .dataframe tbody tr th:only-of-type {\n",
              "        vertical-align: middle;\n",
              "    }\n",
              "\n",
              "    .dataframe tbody tr th {\n",
              "        vertical-align: top;\n",
              "    }\n",
              "\n",
              "    .dataframe thead th {\n",
              "        text-align: right;\n",
              "    }\n",
              "</style>\n",
              "<table border=\"1\" class=\"dataframe\">\n",
              "  <thead>\n",
              "    <tr style=\"text-align: right;\">\n",
              "      <th></th>\n",
              "      <th>fraudulent</th>\n",
              "    </tr>\n",
              "    <tr>\n",
              "      <th>department</th>\n",
              "      <th></th>\n",
              "    </tr>\n",
              "  </thead>\n",
              "  <tbody>\n",
              "    <tr>\n",
              "      <th>False</th>\n",
              "      <td>0.053690</td>\n",
              "    </tr>\n",
              "    <tr>\n",
              "      <th>True</th>\n",
              "      <td>0.047266</td>\n",
              "    </tr>\n",
              "  </tbody>\n",
              "</table>\n",
              "</div>"
            ],
            "text/plain": [
              "            fraudulent\n",
              "department            \n",
              "False         0.053690\n",
              "True          0.047266"
            ]
          },
          "metadata": {
            "tags": []
          },
          "execution_count": 411
        }
      ]
    },
    {
      "cell_type": "code",
      "metadata": {
        "colab": {
          "base_uri": "https://localhost:8080/",
          "height": 153
        },
        "id": "xYJVaybTm0nZ",
        "outputId": "ad0aba4a-2898-4fff-d3f4-db2c06f11702"
      },
      "source": [
        "# Explore how the salary_range column impacts Fraud column\r\n",
        "print(\"The percentage of missing values in SALARY RANGE column is  :\", ((cat_train['salary_range'].isnull().sum().sum()/ cat_train.shape[0])*100) ,'%')\r\n",
        "cat_train.groupby(cat_train['salary_range'].isnull()).mean()\r\n"
      ],
      "execution_count": null,
      "outputs": [
        {
          "output_type": "stream",
          "text": [
            "The percentage of missing values in SALARY RANGE column is  : 83.74580536912751 %\n"
          ],
          "name": "stdout"
        },
        {
          "output_type": "execute_result",
          "data": {
            "text/html": [
              "<div>\n",
              "<style scoped>\n",
              "    .dataframe tbody tr th:only-of-type {\n",
              "        vertical-align: middle;\n",
              "    }\n",
              "\n",
              "    .dataframe tbody tr th {\n",
              "        vertical-align: top;\n",
              "    }\n",
              "\n",
              "    .dataframe thead th {\n",
              "        text-align: right;\n",
              "    }\n",
              "</style>\n",
              "<table border=\"1\" class=\"dataframe\">\n",
              "  <thead>\n",
              "    <tr style=\"text-align: right;\">\n",
              "      <th></th>\n",
              "      <th>fraudulent</th>\n",
              "    </tr>\n",
              "    <tr>\n",
              "      <th>salary_range</th>\n",
              "      <th></th>\n",
              "    </tr>\n",
              "  </thead>\n",
              "  <tbody>\n",
              "    <tr>\n",
              "      <th>False</th>\n",
              "      <td>0.076129</td>\n",
              "    </tr>\n",
              "    <tr>\n",
              "      <th>True</th>\n",
              "      <td>0.044411</td>\n",
              "    </tr>\n",
              "  </tbody>\n",
              "</table>\n",
              "</div>"
            ],
            "text/plain": [
              "              fraudulent\n",
              "salary_range            \n",
              "False           0.076129\n",
              "True            0.044411"
            ]
          },
          "metadata": {
            "tags": []
          },
          "execution_count": 412
        }
      ]
    },
    {
      "cell_type": "code",
      "metadata": {
        "colab": {
          "base_uri": "https://localhost:8080/",
          "height": 153
        },
        "id": "39ZLoDS0nS5G",
        "outputId": "f99e7ae2-11a4-46ea-a68b-554bbaef75b4"
      },
      "source": [
        "# Explore how the company_profile column impacts Fraud column\r\n",
        "print(\"The percentage of missing values in COMPANY PROFILE column is  :\", ((cat_train['company_profile'].isnull().sum().sum()/ cat_train.shape[0])*100) ,'%')\r\n",
        "cat_train.groupby(cat_train['company_profile'].isnull()).mean()\r\n"
      ],
      "execution_count": null,
      "outputs": [
        {
          "output_type": "stream",
          "text": [
            "The percentage of missing values in COMPANY PROFILE column is  : 18.547259507829978 %\n"
          ],
          "name": "stdout"
        },
        {
          "output_type": "execute_result",
          "data": {
            "text/html": [
              "<div>\n",
              "<style scoped>\n",
              "    .dataframe tbody tr th:only-of-type {\n",
              "        vertical-align: middle;\n",
              "    }\n",
              "\n",
              "    .dataframe tbody tr th {\n",
              "        vertical-align: top;\n",
              "    }\n",
              "\n",
              "    .dataframe thead th {\n",
              "        text-align: right;\n",
              "    }\n",
              "</style>\n",
              "<table border=\"1\" class=\"dataframe\">\n",
              "  <thead>\n",
              "    <tr style=\"text-align: right;\">\n",
              "      <th></th>\n",
              "      <th>fraudulent</th>\n",
              "    </tr>\n",
              "    <tr>\n",
              "      <th>company_profile</th>\n",
              "      <th></th>\n",
              "    </tr>\n",
              "  </thead>\n",
              "  <tbody>\n",
              "    <tr>\n",
              "      <th>False</th>\n",
              "      <td>0.019827</td>\n",
              "    </tr>\n",
              "    <tr>\n",
              "      <th>True</th>\n",
              "      <td>0.180173</td>\n",
              "    </tr>\n",
              "  </tbody>\n",
              "</table>\n",
              "</div>"
            ],
            "text/plain": [
              "                 fraudulent\n",
              "company_profile            \n",
              "False              0.019827\n",
              "True               0.180173"
            ]
          },
          "metadata": {
            "tags": []
          },
          "execution_count": 413
        }
      ]
    },
    {
      "cell_type": "code",
      "metadata": {
        "colab": {
          "base_uri": "https://localhost:8080/",
          "height": 153
        },
        "id": "_rj4QOZnndgq",
        "outputId": "add1d949-f3c4-4e7a-f2af-8fa9840a511b"
      },
      "source": [
        "# Explore how the requirements column impacts Fraud column\r\n",
        "print(\"The percentage of missing values in REQUIREMENTS column is  :\", ((cat_train['requirements'].isnull().sum().sum()/ cat_train.shape[0])*100) ,'%')\r\n",
        "cat_train.groupby(cat_train['requirements'].isnull()).mean()\r\n"
      ],
      "execution_count": null,
      "outputs": [
        {
          "output_type": "stream",
          "text": [
            "The percentage of missing values in REQUIREMENTS column is  : 15.02376957494407 %\n"
          ],
          "name": "stdout"
        },
        {
          "output_type": "execute_result",
          "data": {
            "text/html": [
              "<div>\n",
              "<style scoped>\n",
              "    .dataframe tbody tr th:only-of-type {\n",
              "        vertical-align: middle;\n",
              "    }\n",
              "\n",
              "    .dataframe tbody tr th {\n",
              "        vertical-align: top;\n",
              "    }\n",
              "\n",
              "    .dataframe thead th {\n",
              "        text-align: right;\n",
              "    }\n",
              "</style>\n",
              "<table border=\"1\" class=\"dataframe\">\n",
              "  <thead>\n",
              "    <tr style=\"text-align: right;\">\n",
              "      <th></th>\n",
              "      <th>fraudulent</th>\n",
              "    </tr>\n",
              "    <tr>\n",
              "      <th>requirements</th>\n",
              "      <th></th>\n",
              "    </tr>\n",
              "  </thead>\n",
              "  <tbody>\n",
              "    <tr>\n",
              "      <th>False</th>\n",
              "      <td>0.048293</td>\n",
              "    </tr>\n",
              "    <tr>\n",
              "      <th>True</th>\n",
              "      <td>0.056771</td>\n",
              "    </tr>\n",
              "  </tbody>\n",
              "</table>\n",
              "</div>"
            ],
            "text/plain": [
              "              fraudulent\n",
              "requirements            \n",
              "False           0.048293\n",
              "True            0.056771"
            ]
          },
          "metadata": {
            "tags": []
          },
          "execution_count": 414
        }
      ]
    },
    {
      "cell_type": "code",
      "metadata": {
        "colab": {
          "base_uri": "https://localhost:8080/",
          "height": 153
        },
        "id": "ZnTYn613n6Eb",
        "outputId": "4ea067c0-651d-44c0-df68-19255c7fd048"
      },
      "source": [
        "# Explore how the benefits column impacts Fraud column\r\n",
        "print(\"The percentage of missing values in BENEFITS column is  :\", ((cat_train['benefits'].isnull().sum().sum()/ cat_train.shape[0])*100) ,'%')\r\n",
        "cat_train.groupby(cat_train['benefits'].isnull()).mean()"
      ],
      "execution_count": null,
      "outputs": [
        {
          "output_type": "stream",
          "text": [
            "The percentage of missing values in BENEFITS column is  : 40.25447427293065 %\n"
          ],
          "name": "stdout"
        },
        {
          "output_type": "execute_result",
          "data": {
            "text/html": [
              "<div>\n",
              "<style scoped>\n",
              "    .dataframe tbody tr th:only-of-type {\n",
              "        vertical-align: middle;\n",
              "    }\n",
              "\n",
              "    .dataframe tbody tr th {\n",
              "        vertical-align: top;\n",
              "    }\n",
              "\n",
              "    .dataframe thead th {\n",
              "        text-align: right;\n",
              "    }\n",
              "</style>\n",
              "<table border=\"1\" class=\"dataframe\">\n",
              "  <thead>\n",
              "    <tr style=\"text-align: right;\">\n",
              "      <th></th>\n",
              "      <th>fraudulent</th>\n",
              "    </tr>\n",
              "    <tr>\n",
              "      <th>benefits</th>\n",
              "      <th></th>\n",
              "    </tr>\n",
              "  </thead>\n",
              "  <tbody>\n",
              "    <tr>\n",
              "      <th>False</th>\n",
              "      <td>0.047976</td>\n",
              "    </tr>\n",
              "    <tr>\n",
              "      <th>True</th>\n",
              "      <td>0.051928</td>\n",
              "    </tr>\n",
              "  </tbody>\n",
              "</table>\n",
              "</div>"
            ],
            "text/plain": [
              "          fraudulent\n",
              "benefits            \n",
              "False       0.047976\n",
              "True        0.051928"
            ]
          },
          "metadata": {
            "tags": []
          },
          "execution_count": 415
        }
      ]
    },
    {
      "cell_type": "code",
      "metadata": {
        "colab": {
          "base_uri": "https://localhost:8080/",
          "height": 153
        },
        "id": "4FLL_xREoKl1",
        "outputId": "32f0adda-4ffd-4eba-816b-41cfe7dd3e11"
      },
      "source": [
        "# Explore how the employment_type column impacts Fraud column\r\n",
        "print(\"The percentage of missing values in EMPLOYMENT TYPE column is  :\", ((cat_train['employment_type'].isnull().sum().sum()/ cat_train.shape[0])*100) ,'%')\r\n",
        "cat_train.groupby(cat_train['employment_type'].isnull()).mean()"
      ],
      "execution_count": null,
      "outputs": [
        {
          "output_type": "stream",
          "text": [
            "The percentage of missing values in EMPLOYMENT TYPE column is  : 19.309284116331096 %\n"
          ],
          "name": "stdout"
        },
        {
          "output_type": "execute_result",
          "data": {
            "text/html": [
              "<div>\n",
              "<style scoped>\n",
              "    .dataframe tbody tr th:only-of-type {\n",
              "        vertical-align: middle;\n",
              "    }\n",
              "\n",
              "    .dataframe tbody tr th {\n",
              "        vertical-align: top;\n",
              "    }\n",
              "\n",
              "    .dataframe thead th {\n",
              "        text-align: right;\n",
              "    }\n",
              "</style>\n",
              "<table border=\"1\" class=\"dataframe\">\n",
              "  <thead>\n",
              "    <tr style=\"text-align: right;\">\n",
              "      <th></th>\n",
              "      <th>fraudulent</th>\n",
              "    </tr>\n",
              "    <tr>\n",
              "      <th>employment_type</th>\n",
              "      <th></th>\n",
              "    </tr>\n",
              "  </thead>\n",
              "  <tbody>\n",
              "    <tr>\n",
              "      <th>False</th>\n",
              "      <td>0.044360</td>\n",
              "    </tr>\n",
              "    <tr>\n",
              "      <th>True</th>\n",
              "      <td>0.071325</td>\n",
              "    </tr>\n",
              "  </tbody>\n",
              "</table>\n",
              "</div>"
            ],
            "text/plain": [
              "                 fraudulent\n",
              "employment_type            \n",
              "False              0.044360\n",
              "True               0.071325"
            ]
          },
          "metadata": {
            "tags": []
          },
          "execution_count": 416
        }
      ]
    },
    {
      "cell_type": "code",
      "metadata": {
        "colab": {
          "base_uri": "https://localhost:8080/",
          "height": 153
        },
        "id": "UMC5fKsSocDr",
        "outputId": "2eed00ad-ee3d-481a-aca3-39ce76d162a2"
      },
      "source": [
        "# Explore how the required_experience column impacts Fraud column\r\n",
        "print(\"The percentage of missing values in REQUIRED EXPERIENCE column is  :\", ((cat_train['required_experience'].isnull().sum().sum()/ cat_train.shape[0])*100) ,'%')\r\n",
        "cat_train.groupby(cat_train['required_experience'].isnull()).mean()"
      ],
      "execution_count": null,
      "outputs": [
        {
          "output_type": "stream",
          "text": [
            "The percentage of missing values in REQUIRED EXPERIENCE column is  : 39.3596196868009 %\n"
          ],
          "name": "stdout"
        },
        {
          "output_type": "execute_result",
          "data": {
            "text/html": [
              "<div>\n",
              "<style scoped>\n",
              "    .dataframe tbody tr th:only-of-type {\n",
              "        vertical-align: middle;\n",
              "    }\n",
              "\n",
              "    .dataframe tbody tr th {\n",
              "        vertical-align: top;\n",
              "    }\n",
              "\n",
              "    .dataframe thead th {\n",
              "        text-align: right;\n",
              "    }\n",
              "</style>\n",
              "<table border=\"1\" class=\"dataframe\">\n",
              "  <thead>\n",
              "    <tr style=\"text-align: right;\">\n",
              "      <th></th>\n",
              "      <th>fraudulent</th>\n",
              "    </tr>\n",
              "    <tr>\n",
              "      <th>required_experience</th>\n",
              "      <th></th>\n",
              "    </tr>\n",
              "  </thead>\n",
              "  <tbody>\n",
              "    <tr>\n",
              "      <th>False</th>\n",
              "      <td>0.040696</td>\n",
              "    </tr>\n",
              "    <tr>\n",
              "      <th>True</th>\n",
              "      <td>0.063233</td>\n",
              "    </tr>\n",
              "  </tbody>\n",
              "</table>\n",
              "</div>"
            ],
            "text/plain": [
              "                     fraudulent\n",
              "required_experience            \n",
              "False                  0.040696\n",
              "True                   0.063233"
            ]
          },
          "metadata": {
            "tags": []
          },
          "execution_count": 417
        }
      ]
    },
    {
      "cell_type": "code",
      "metadata": {
        "colab": {
          "base_uri": "https://localhost:8080/",
          "height": 153
        },
        "id": "i5In2OKeolng",
        "outputId": "1b507c58-7409-45dd-ae2a-7366a57ec6cd"
      },
      "source": [
        "# Explore how the required_education column impacts Fraud column\r\n",
        "print(\"The percentage of missing values in REQUIRED EDUCATION column is  :\", ((cat_train['required_education'].isnull().sum().sum()/ cat_train.shape[0])*100) ,'%')\r\n",
        "cat_train.groupby(cat_train['required_education'].isnull()).mean()"
      ],
      "execution_count": null,
      "outputs": [
        {
          "output_type": "stream",
          "text": [
            "The percentage of missing values in REQUIRED EDUCATION column is  : 45.21112975391499 %\n"
          ],
          "name": "stdout"
        },
        {
          "output_type": "execute_result",
          "data": {
            "text/html": [
              "<div>\n",
              "<style scoped>\n",
              "    .dataframe tbody tr th:only-of-type {\n",
              "        vertical-align: middle;\n",
              "    }\n",
              "\n",
              "    .dataframe tbody tr th {\n",
              "        vertical-align: top;\n",
              "    }\n",
              "\n",
              "    .dataframe thead th {\n",
              "        text-align: right;\n",
              "    }\n",
              "</style>\n",
              "<table border=\"1\" class=\"dataframe\">\n",
              "  <thead>\n",
              "    <tr style=\"text-align: right;\">\n",
              "      <th></th>\n",
              "      <th>fraudulent</th>\n",
              "    </tr>\n",
              "    <tr>\n",
              "      <th>required_education</th>\n",
              "      <th></th>\n",
              "    </tr>\n",
              "  </thead>\n",
              "  <tbody>\n",
              "    <tr>\n",
              "      <th>False</th>\n",
              "      <td>0.043001</td>\n",
              "    </tr>\n",
              "    <tr>\n",
              "      <th>True</th>\n",
              "      <td>0.057523</td>\n",
              "    </tr>\n",
              "  </tbody>\n",
              "</table>\n",
              "</div>"
            ],
            "text/plain": [
              "                    fraudulent\n",
              "required_education            \n",
              "False                 0.043001\n",
              "True                  0.057523"
            ]
          },
          "metadata": {
            "tags": []
          },
          "execution_count": 418
        }
      ]
    },
    {
      "cell_type": "code",
      "metadata": {
        "colab": {
          "base_uri": "https://localhost:8080/",
          "height": 153
        },
        "id": "bfEvtkNtomdk",
        "outputId": "3e9ececa-13e6-4a87-dc8c-1c3235b5864a"
      },
      "source": [
        "# Explore how the description  column impacts Fraud column\r\n",
        "print(\"The percentage of missing values in DESCRIPTION column is  :\", ((cat_train['description'].isnull().sum().sum()/ cat_train.shape[0])*100) ,'%')\r\n",
        "cat_train.groupby(cat_train['description'].isnull()).mean()"
      ],
      "execution_count": null,
      "outputs": [
        {
          "output_type": "stream",
          "text": [
            "The percentage of missing values in DESCRIPTION column is  : 0.006991051454138702 %\n"
          ],
          "name": "stdout"
        },
        {
          "output_type": "execute_result",
          "data": {
            "text/html": [
              "<div>\n",
              "<style scoped>\n",
              "    .dataframe tbody tr th:only-of-type {\n",
              "        vertical-align: middle;\n",
              "    }\n",
              "\n",
              "    .dataframe tbody tr th {\n",
              "        vertical-align: top;\n",
              "    }\n",
              "\n",
              "    .dataframe thead th {\n",
              "        text-align: right;\n",
              "    }\n",
              "</style>\n",
              "<table border=\"1\" class=\"dataframe\">\n",
              "  <thead>\n",
              "    <tr style=\"text-align: right;\">\n",
              "      <th></th>\n",
              "      <th>fraudulent</th>\n",
              "    </tr>\n",
              "    <tr>\n",
              "      <th>description</th>\n",
              "      <th></th>\n",
              "    </tr>\n",
              "  </thead>\n",
              "  <tbody>\n",
              "    <tr>\n",
              "      <th>False</th>\n",
              "      <td>0.0495</td>\n",
              "    </tr>\n",
              "    <tr>\n",
              "      <th>True</th>\n",
              "      <td>1.0000</td>\n",
              "    </tr>\n",
              "  </tbody>\n",
              "</table>\n",
              "</div>"
            ],
            "text/plain": [
              "             fraudulent\n",
              "description            \n",
              "False            0.0495\n",
              "True             1.0000"
            ]
          },
          "metadata": {
            "tags": []
          },
          "execution_count": 419
        }
      ]
    },
    {
      "cell_type": "code",
      "metadata": {
        "colab": {
          "base_uri": "https://localhost:8080/",
          "height": 153
        },
        "id": "7qx6t2MponQ4",
        "outputId": "933d1868-d013-45b8-a008-fa237c391475"
      },
      "source": [
        "# Explore how the industry column impacts Fraud column\r\n",
        "print(\"The percentage of missing values in INDUSTRY column is  :\", ((cat_train['industry'].isnull().sum().sum()/ cat_train.shape[0])*100) ,'%')\r\n",
        "cat_train.groupby(cat_train['industry'].isnull()).mean()"
      ],
      "execution_count": null,
      "outputs": [
        {
          "output_type": "stream",
          "text": [
            "The percentage of missing values in INDUSTRY column is  : 27.265100671140942 %\n"
          ],
          "name": "stdout"
        },
        {
          "output_type": "execute_result",
          "data": {
            "text/html": [
              "<div>\n",
              "<style scoped>\n",
              "    .dataframe tbody tr th:only-of-type {\n",
              "        vertical-align: middle;\n",
              "    }\n",
              "\n",
              "    .dataframe tbody tr th {\n",
              "        vertical-align: top;\n",
              "    }\n",
              "\n",
              "    .dataframe thead th {\n",
              "        text-align: right;\n",
              "    }\n",
              "</style>\n",
              "<table border=\"1\" class=\"dataframe\">\n",
              "  <thead>\n",
              "    <tr style=\"text-align: right;\">\n",
              "      <th></th>\n",
              "      <th>fraudulent</th>\n",
              "    </tr>\n",
              "    <tr>\n",
              "      <th>industry</th>\n",
              "      <th></th>\n",
              "    </tr>\n",
              "  </thead>\n",
              "  <tbody>\n",
              "    <tr>\n",
              "      <th>False</th>\n",
              "      <td>0.046809</td>\n",
              "    </tr>\n",
              "    <tr>\n",
              "      <th>True</th>\n",
              "      <td>0.056923</td>\n",
              "    </tr>\n",
              "  </tbody>\n",
              "</table>\n",
              "</div>"
            ],
            "text/plain": [
              "          fraudulent\n",
              "industry            \n",
              "False       0.046809\n",
              "True        0.056923"
            ]
          },
          "metadata": {
            "tags": []
          },
          "execution_count": 420
        }
      ]
    },
    {
      "cell_type": "code",
      "metadata": {
        "colab": {
          "base_uri": "https://localhost:8080/",
          "height": 153
        },
        "id": "IxIeLuBLooCy",
        "outputId": "f19c43dc-202c-4986-b10a-da3d160b65ef"
      },
      "source": [
        "# Explore how the function column impacts Fraud column\r\n",
        "print(\"The percentage of missing values in FUNCTION column is  :\", ((cat_train['function'].isnull().sum().sum()/ cat_train.shape[0])*100) ,'%')\r\n",
        "cat_train.groupby(cat_train['function'].isnull()).mean()"
      ],
      "execution_count": null,
      "outputs": [
        {
          "output_type": "stream",
          "text": [
            "The percentage of missing values in FUNCTION column is  : 36.07382550335571 %\n"
          ],
          "name": "stdout"
        },
        {
          "output_type": "execute_result",
          "data": {
            "text/html": [
              "<div>\n",
              "<style scoped>\n",
              "    .dataframe tbody tr th:only-of-type {\n",
              "        vertical-align: middle;\n",
              "    }\n",
              "\n",
              "    .dataframe tbody tr th {\n",
              "        vertical-align: top;\n",
              "    }\n",
              "\n",
              "    .dataframe thead th {\n",
              "        text-align: right;\n",
              "    }\n",
              "</style>\n",
              "<table border=\"1\" class=\"dataframe\">\n",
              "  <thead>\n",
              "    <tr style=\"text-align: right;\">\n",
              "      <th></th>\n",
              "      <th>fraudulent</th>\n",
              "    </tr>\n",
              "    <tr>\n",
              "      <th>function</th>\n",
              "      <th></th>\n",
              "    </tr>\n",
              "  </thead>\n",
              "  <tbody>\n",
              "    <tr>\n",
              "      <th>False</th>\n",
              "      <td>0.047791</td>\n",
              "    </tr>\n",
              "    <tr>\n",
              "      <th>True</th>\n",
              "      <td>0.052713</td>\n",
              "    </tr>\n",
              "  </tbody>\n",
              "</table>\n",
              "</div>"
            ],
            "text/plain": [
              "          fraudulent\n",
              "function            \n",
              "False       0.047791\n",
              "True        0.052713"
            ]
          },
          "metadata": {
            "tags": []
          },
          "execution_count": 421
        }
      ]
    },
    {
      "cell_type": "markdown",
      "metadata": {
        "id": "yMt5Y19Tprkz"
      },
      "source": [
        "#### From the explorarory analysis it is as if the missing values in the columns are random. For the base model we will encode the columns b"
      ]
    },
    {
      "cell_type": "code",
      "metadata": {
        "colab": {
          "base_uri": "https://localhost:8080/",
          "height": 951
        },
        "id": "MapeGZBotJVe",
        "outputId": "ba22a64a-8a6e-4f6e-c836-ac41e444f098"
      },
      "source": [
        "### We create indicators to address missing values for train set\r\n",
        "for cols in category_features: \r\n",
        "  cat_train[cols+'_ind'] = np.where(cat_train[cols].isnull(), 0, 1)\r\n",
        "\r\n",
        "\r\n",
        "cat_train.head(10)"
      ],
      "execution_count": null,
      "outputs": [
        {
          "output_type": "execute_result",
          "data": {
            "text/html": [
              "<div>\n",
              "<style scoped>\n",
              "    .dataframe tbody tr th:only-of-type {\n",
              "        vertical-align: middle;\n",
              "    }\n",
              "\n",
              "    .dataframe tbody tr th {\n",
              "        vertical-align: top;\n",
              "    }\n",
              "\n",
              "    .dataframe thead th {\n",
              "        text-align: right;\n",
              "    }\n",
              "</style>\n",
              "<table border=\"1\" class=\"dataframe\">\n",
              "  <thead>\n",
              "    <tr style=\"text-align: right;\">\n",
              "      <th></th>\n",
              "      <th>title</th>\n",
              "      <th>location</th>\n",
              "      <th>department</th>\n",
              "      <th>salary_range</th>\n",
              "      <th>company_profile</th>\n",
              "      <th>description</th>\n",
              "      <th>requirements</th>\n",
              "      <th>benefits</th>\n",
              "      <th>employment_type</th>\n",
              "      <th>required_experience</th>\n",
              "      <th>required_education</th>\n",
              "      <th>industry</th>\n",
              "      <th>function</th>\n",
              "      <th>fraudulent</th>\n",
              "      <th>title_ind</th>\n",
              "      <th>location_ind</th>\n",
              "      <th>department_ind</th>\n",
              "      <th>salary_range_ind</th>\n",
              "      <th>company_profile_ind</th>\n",
              "      <th>description_ind</th>\n",
              "      <th>requirements_ind</th>\n",
              "      <th>benefits_ind</th>\n",
              "      <th>employment_type_ind</th>\n",
              "      <th>required_experience_ind</th>\n",
              "      <th>required_education_ind</th>\n",
              "      <th>industry_ind</th>\n",
              "      <th>function_ind</th>\n",
              "    </tr>\n",
              "  </thead>\n",
              "  <tbody>\n",
              "    <tr>\n",
              "      <th>0</th>\n",
              "      <td>Sales Professional - Buiding Products</td>\n",
              "      <td>CA, BC, Langley</td>\n",
              "      <td>Langley</td>\n",
              "      <td>60000-90000</td>\n",
              "      <td>Great Customer Service from Start to FinishWha...</td>\n",
              "      <td>Centra Windows an established, employee-owned ...</td>\n",
              "      <td>NaN</td>\n",
              "      <td>NaN</td>\n",
              "      <td>Full-time</td>\n",
              "      <td>Mid-Senior level</td>\n",
              "      <td>NaN</td>\n",
              "      <td>Building Materials</td>\n",
              "      <td>Sales</td>\n",
              "      <td>0</td>\n",
              "      <td>1</td>\n",
              "      <td>1</td>\n",
              "      <td>1</td>\n",
              "      <td>1</td>\n",
              "      <td>1</td>\n",
              "      <td>1</td>\n",
              "      <td>0</td>\n",
              "      <td>0</td>\n",
              "      <td>1</td>\n",
              "      <td>1</td>\n",
              "      <td>0</td>\n",
              "      <td>1</td>\n",
              "      <td>1</td>\n",
              "    </tr>\n",
              "    <tr>\n",
              "      <th>1</th>\n",
              "      <td>Senior Software Engineer</td>\n",
              "      <td>GB, , London</td>\n",
              "      <td>Engineering</td>\n",
              "      <td>NaN</td>\n",
              "      <td>We believe cities are complicated. And your mo...</td>\n",
              "      <td>Londoners, New Yorkers, Parisians, and Berline...</td>\n",
              "      <td>We're looking for someone with several years' ...</td>\n",
              "      <td>NaN</td>\n",
              "      <td>Full-time</td>\n",
              "      <td>NaN</td>\n",
              "      <td>NaN</td>\n",
              "      <td>Computer Software</td>\n",
              "      <td>Engineering</td>\n",
              "      <td>0</td>\n",
              "      <td>1</td>\n",
              "      <td>1</td>\n",
              "      <td>1</td>\n",
              "      <td>0</td>\n",
              "      <td>1</td>\n",
              "      <td>1</td>\n",
              "      <td>1</td>\n",
              "      <td>0</td>\n",
              "      <td>1</td>\n",
              "      <td>0</td>\n",
              "      <td>0</td>\n",
              "      <td>1</td>\n",
              "      <td>1</td>\n",
              "    </tr>\n",
              "    <tr>\n",
              "      <th>2</th>\n",
              "      <td>Director of Operations (SCM &amp; Manufacturing)</td>\n",
              "      <td>US, WA, Bellingham</td>\n",
              "      <td>Operations</td>\n",
              "      <td>50000-70000</td>\n",
              "      <td>POS-X is a rapidly growing point-of-sale hardw...</td>\n",
              "      <td>POS-X is a rapidly growing point-of-sale hardw...</td>\n",
              "      <td>Extensive Mathematical and/or Financial Backgr...</td>\n",
              "      <td>$50 - $70k DOE and Performance + Medical, 401k...</td>\n",
              "      <td>Full-time</td>\n",
              "      <td>Director</td>\n",
              "      <td>Bachelor's Degree</td>\n",
              "      <td>Computer Hardware</td>\n",
              "      <td>Supply Chain</td>\n",
              "      <td>0</td>\n",
              "      <td>1</td>\n",
              "      <td>1</td>\n",
              "      <td>1</td>\n",
              "      <td>1</td>\n",
              "      <td>1</td>\n",
              "      <td>1</td>\n",
              "      <td>1</td>\n",
              "      <td>1</td>\n",
              "      <td>1</td>\n",
              "      <td>1</td>\n",
              "      <td>1</td>\n",
              "      <td>1</td>\n",
              "      <td>1</td>\n",
              "    </tr>\n",
              "    <tr>\n",
              "      <th>3</th>\n",
              "      <td>Data Center Migration App Lead for FULL-TIME O...</td>\n",
              "      <td>US, PA, Harrisburg</td>\n",
              "      <td>NaN</td>\n",
              "      <td>0-0</td>\n",
              "      <td>NaN</td>\n",
              "      <td>Data Center Migration Application Lead / Archi...</td>\n",
              "      <td>NaN</td>\n",
              "      <td>NaN</td>\n",
              "      <td>Full-time</td>\n",
              "      <td>Director</td>\n",
              "      <td>Bachelor's Degree</td>\n",
              "      <td>Information Technology and Services</td>\n",
              "      <td>Information Technology</td>\n",
              "      <td>1</td>\n",
              "      <td>1</td>\n",
              "      <td>1</td>\n",
              "      <td>0</td>\n",
              "      <td>1</td>\n",
              "      <td>0</td>\n",
              "      <td>1</td>\n",
              "      <td>0</td>\n",
              "      <td>0</td>\n",
              "      <td>1</td>\n",
              "      <td>1</td>\n",
              "      <td>1</td>\n",
              "      <td>1</td>\n",
              "      <td>1</td>\n",
              "    </tr>\n",
              "    <tr>\n",
              "      <th>4</th>\n",
              "      <td>Data Entry Assistant - Intern</td>\n",
              "      <td>HK, , Hong Kong</td>\n",
              "      <td>Marketing</td>\n",
              "      <td>8000-14000</td>\n",
              "      <td>At Hayes-Corp, we create the fun stuff.Â  With...</td>\n",
              "      <td>Hayes Corp is looking for a patient, meticulou...</td>\n",
              "      <td>Degree in any discipline.Familiar with Microso...</td>\n",
              "      <td>Opportunity to grow with the company, as data ...</td>\n",
              "      <td>Other</td>\n",
              "      <td>Entry level</td>\n",
              "      <td>Bachelor's Degree</td>\n",
              "      <td>Internet</td>\n",
              "      <td>Marketing</td>\n",
              "      <td>0</td>\n",
              "      <td>1</td>\n",
              "      <td>1</td>\n",
              "      <td>1</td>\n",
              "      <td>1</td>\n",
              "      <td>1</td>\n",
              "      <td>1</td>\n",
              "      <td>1</td>\n",
              "      <td>1</td>\n",
              "      <td>1</td>\n",
              "      <td>1</td>\n",
              "      <td>1</td>\n",
              "      <td>1</td>\n",
              "      <td>1</td>\n",
              "    </tr>\n",
              "    <tr>\n",
              "      <th>5</th>\n",
              "      <td>Scribe</td>\n",
              "      <td>US, ,</td>\n",
              "      <td>NaN</td>\n",
              "      <td>NaN</td>\n",
              "      <td>NaN</td>\n",
              "      <td>Works closely with an Emergency Medicine Physi...</td>\n",
              "      <td>iScribeMD is looking for enthusiastic individu...</td>\n",
              "      <td>NaN</td>\n",
              "      <td>Part-time</td>\n",
              "      <td>NaN</td>\n",
              "      <td>NaN</td>\n",
              "      <td>NaN</td>\n",
              "      <td>NaN</td>\n",
              "      <td>0</td>\n",
              "      <td>1</td>\n",
              "      <td>1</td>\n",
              "      <td>0</td>\n",
              "      <td>0</td>\n",
              "      <td>0</td>\n",
              "      <td>1</td>\n",
              "      <td>1</td>\n",
              "      <td>0</td>\n",
              "      <td>1</td>\n",
              "      <td>0</td>\n",
              "      <td>0</td>\n",
              "      <td>0</td>\n",
              "      <td>0</td>\n",
              "    </tr>\n",
              "    <tr>\n",
              "      <th>6</th>\n",
              "      <td>English Teacher Abroad</td>\n",
              "      <td>US, NY, Stony Brook</td>\n",
              "      <td>NaN</td>\n",
              "      <td>NaN</td>\n",
              "      <td>We help teachers get safe &amp;amp; secure jobs ab...</td>\n",
              "      <td>Play with kids, get paid for itÂ Love travel? ...</td>\n",
              "      <td>University degree required.Â TEFL / TESOL / CE...</td>\n",
              "      <td>See job description</td>\n",
              "      <td>Contract</td>\n",
              "      <td>NaN</td>\n",
              "      <td>Bachelor's Degree</td>\n",
              "      <td>Education Management</td>\n",
              "      <td>NaN</td>\n",
              "      <td>0</td>\n",
              "      <td>1</td>\n",
              "      <td>1</td>\n",
              "      <td>0</td>\n",
              "      <td>0</td>\n",
              "      <td>1</td>\n",
              "      <td>1</td>\n",
              "      <td>1</td>\n",
              "      <td>1</td>\n",
              "      <td>1</td>\n",
              "      <td>0</td>\n",
              "      <td>1</td>\n",
              "      <td>1</td>\n",
              "      <td>0</td>\n",
              "    </tr>\n",
              "    <tr>\n",
              "      <th>7</th>\n",
              "      <td>SAP Data Migration</td>\n",
              "      <td>US, CA, Torrance</td>\n",
              "      <td>NaN</td>\n",
              "      <td>NaN</td>\n",
              "      <td>i28 Technologies has demonstrated expertise in...</td>\n",
              "      <td>HelloHope youâre doing goodâ¦!!! JPlease fi...</td>\n",
              "      <td>NaN</td>\n",
              "      <td>NaN</td>\n",
              "      <td>NaN</td>\n",
              "      <td>NaN</td>\n",
              "      <td>NaN</td>\n",
              "      <td>NaN</td>\n",
              "      <td>NaN</td>\n",
              "      <td>0</td>\n",
              "      <td>1</td>\n",
              "      <td>1</td>\n",
              "      <td>0</td>\n",
              "      <td>0</td>\n",
              "      <td>1</td>\n",
              "      <td>1</td>\n",
              "      <td>0</td>\n",
              "      <td>0</td>\n",
              "      <td>0</td>\n",
              "      <td>0</td>\n",
              "      <td>0</td>\n",
              "      <td>0</td>\n",
              "      <td>0</td>\n",
              "    </tr>\n",
              "    <tr>\n",
              "      <th>8</th>\n",
              "      <td>Inside Sales Representative</td>\n",
              "      <td>CA, ON, London</td>\n",
              "      <td>NaN</td>\n",
              "      <td>NaN</td>\n",
              "      <td>HRdownloads was founded in 2008, and since tha...</td>\n",
              "      <td>Inside Sales Representatives Needed for Outsta...</td>\n",
              "      <td>The RequirementsBachelorâs degree, diploma o...</td>\n",
              "      <td>NaN</td>\n",
              "      <td>Full-time</td>\n",
              "      <td>NaN</td>\n",
              "      <td>NaN</td>\n",
              "      <td>Human Resources</td>\n",
              "      <td>Sales</td>\n",
              "      <td>0</td>\n",
              "      <td>1</td>\n",
              "      <td>1</td>\n",
              "      <td>0</td>\n",
              "      <td>0</td>\n",
              "      <td>1</td>\n",
              "      <td>1</td>\n",
              "      <td>1</td>\n",
              "      <td>0</td>\n",
              "      <td>1</td>\n",
              "      <td>0</td>\n",
              "      <td>0</td>\n",
              "      <td>1</td>\n",
              "      <td>1</td>\n",
              "    </tr>\n",
              "    <tr>\n",
              "      <th>9</th>\n",
              "      <td>English Teacher Abroad</td>\n",
              "      <td>US, MO, University City</td>\n",
              "      <td>NaN</td>\n",
              "      <td>NaN</td>\n",
              "      <td>We help teachers get safe &amp;amp; secure jobs ab...</td>\n",
              "      <td>Play with kids, get paid for itÂ Love travel? ...</td>\n",
              "      <td>University degree required.Â TEFL / TESOL / CE...</td>\n",
              "      <td>See job description</td>\n",
              "      <td>Contract</td>\n",
              "      <td>NaN</td>\n",
              "      <td>Bachelor's Degree</td>\n",
              "      <td>Education Management</td>\n",
              "      <td>NaN</td>\n",
              "      <td>0</td>\n",
              "      <td>1</td>\n",
              "      <td>1</td>\n",
              "      <td>0</td>\n",
              "      <td>0</td>\n",
              "      <td>1</td>\n",
              "      <td>1</td>\n",
              "      <td>1</td>\n",
              "      <td>1</td>\n",
              "      <td>1</td>\n",
              "      <td>0</td>\n",
              "      <td>1</td>\n",
              "      <td>1</td>\n",
              "      <td>0</td>\n",
              "    </tr>\n",
              "  </tbody>\n",
              "</table>\n",
              "</div>"
            ],
            "text/plain": [
              "                                               title  ... function_ind\n",
              "0              Sales Professional - Buiding Products  ...            1\n",
              "1                           Senior Software Engineer  ...            1\n",
              "2       Director of Operations (SCM & Manufacturing)  ...            1\n",
              "3  Data Center Migration App Lead for FULL-TIME O...  ...            1\n",
              "4                      Data Entry Assistant - Intern  ...            1\n",
              "5                                             Scribe  ...            0\n",
              "6                             English Teacher Abroad  ...            0\n",
              "7                                 SAP Data Migration  ...            0\n",
              "8                       Inside Sales Representative   ...            1\n",
              "9                             English Teacher Abroad  ...            0\n",
              "\n",
              "[10 rows x 27 columns]"
            ]
          },
          "metadata": {
            "tags": []
          },
          "execution_count": 422
        }
      ]
    },
    {
      "cell_type": "code",
      "metadata": {
        "colab": {
          "base_uri": "https://localhost:8080/",
          "height": 484
        },
        "id": "r3Cf5aaDx2PJ",
        "outputId": "aecafde1-56bd-44e3-8ef9-efb5bd73acc8"
      },
      "source": [
        "### We create indicators to address missing values for test set\r\n",
        "for cols in cat_test.columns: \r\n",
        "  cat_test[cols+'_ind'] = np.where(cat_test[cols].isnull(), 0, 1)\r\n",
        "\r\n",
        "\r\n",
        "cat_test.head()"
      ],
      "execution_count": null,
      "outputs": [
        {
          "output_type": "execute_result",
          "data": {
            "text/html": [
              "<div>\n",
              "<style scoped>\n",
              "    .dataframe tbody tr th:only-of-type {\n",
              "        vertical-align: middle;\n",
              "    }\n",
              "\n",
              "    .dataframe tbody tr th {\n",
              "        vertical-align: top;\n",
              "    }\n",
              "\n",
              "    .dataframe thead th {\n",
              "        text-align: right;\n",
              "    }\n",
              "</style>\n",
              "<table border=\"1\" class=\"dataframe\">\n",
              "  <thead>\n",
              "    <tr style=\"text-align: right;\">\n",
              "      <th></th>\n",
              "      <th>title</th>\n",
              "      <th>location</th>\n",
              "      <th>department</th>\n",
              "      <th>salary_range</th>\n",
              "      <th>company_profile</th>\n",
              "      <th>description</th>\n",
              "      <th>requirements</th>\n",
              "      <th>benefits</th>\n",
              "      <th>employment_type</th>\n",
              "      <th>required_experience</th>\n",
              "      <th>required_education</th>\n",
              "      <th>industry</th>\n",
              "      <th>function</th>\n",
              "      <th>title_ind</th>\n",
              "      <th>location_ind</th>\n",
              "      <th>department_ind</th>\n",
              "      <th>salary_range_ind</th>\n",
              "      <th>company_profile_ind</th>\n",
              "      <th>description_ind</th>\n",
              "      <th>requirements_ind</th>\n",
              "      <th>benefits_ind</th>\n",
              "      <th>employment_type_ind</th>\n",
              "      <th>required_experience_ind</th>\n",
              "      <th>required_education_ind</th>\n",
              "      <th>industry_ind</th>\n",
              "      <th>function_ind</th>\n",
              "    </tr>\n",
              "  </thead>\n",
              "  <tbody>\n",
              "    <tr>\n",
              "      <th>0</th>\n",
              "      <td>Part-time Pizza Delivery Drivers - Wallasey</td>\n",
              "      <td>GB, WRL, Wallasey</td>\n",
              "      <td></td>\n",
              "      <td>NaN</td>\n",
              "      <td>Take Out Brands is a food franchise business w...</td>\n",
              "      <td>Papa Johnâs is one of the worldâs biggest ...</td>\n",
              "      <td>You must be 19 years old or above â and will...</td>\n",
              "      <td>Pay rates will be Â£6.31 / hour (21 and over)Â...</td>\n",
              "      <td>Part-time</td>\n",
              "      <td>Not Applicable</td>\n",
              "      <td>NaN</td>\n",
              "      <td>Retail</td>\n",
              "      <td>NaN</td>\n",
              "      <td>1</td>\n",
              "      <td>1</td>\n",
              "      <td>1</td>\n",
              "      <td>0</td>\n",
              "      <td>1</td>\n",
              "      <td>1</td>\n",
              "      <td>1</td>\n",
              "      <td>1</td>\n",
              "      <td>1</td>\n",
              "      <td>1</td>\n",
              "      <td>0</td>\n",
              "      <td>1</td>\n",
              "      <td>0</td>\n",
              "    </tr>\n",
              "    <tr>\n",
              "      <th>1</th>\n",
              "      <td>Director of Contact Center Operations</td>\n",
              "      <td>US, AZ, Tempe</td>\n",
              "      <td>Operations</td>\n",
              "      <td>NaN</td>\n",
              "      <td>J-Curve Technologies,Â a privately held Arizon...</td>\n",
              "      <td>J-Curve Technologies is currently in search of...</td>\n",
              "      <td>Experience and Education: Minimum of 5-8 years...</td>\n",
              "      <td>Full time employees enjoy a comprehensive bene...</td>\n",
              "      <td>Full-time</td>\n",
              "      <td>Not Applicable</td>\n",
              "      <td>NaN</td>\n",
              "      <td>NaN</td>\n",
              "      <td>Management</td>\n",
              "      <td>1</td>\n",
              "      <td>1</td>\n",
              "      <td>1</td>\n",
              "      <td>0</td>\n",
              "      <td>1</td>\n",
              "      <td>1</td>\n",
              "      <td>1</td>\n",
              "      <td>1</td>\n",
              "      <td>1</td>\n",
              "      <td>1</td>\n",
              "      <td>0</td>\n",
              "      <td>0</td>\n",
              "      <td>1</td>\n",
              "    </tr>\n",
              "    <tr>\n",
              "      <th>2</th>\n",
              "      <td>Technical Solution Consultant</td>\n",
              "      <td>US, IL, Chicago</td>\n",
              "      <td>NaN</td>\n",
              "      <td>80000-105000</td>\n",
              "      <td>Retailers around the world are constantly work...</td>\n",
              "      <td>Job Title: Technical Solution ConsultantDepart...</td>\n",
              "      <td>NaN</td>\n",
              "      <td>NaN</td>\n",
              "      <td>Full-time</td>\n",
              "      <td>Mid-Senior level</td>\n",
              "      <td>Bachelor's Degree</td>\n",
              "      <td>Information Technology and Services</td>\n",
              "      <td>Information Technology</td>\n",
              "      <td>1</td>\n",
              "      <td>1</td>\n",
              "      <td>0</td>\n",
              "      <td>1</td>\n",
              "      <td>1</td>\n",
              "      <td>1</td>\n",
              "      <td>0</td>\n",
              "      <td>0</td>\n",
              "      <td>1</td>\n",
              "      <td>1</td>\n",
              "      <td>1</td>\n",
              "      <td>1</td>\n",
              "      <td>1</td>\n",
              "    </tr>\n",
              "    <tr>\n",
              "      <th>3</th>\n",
              "      <td>Vacancies At The Cafe Royal Hotel London</td>\n",
              "      <td>GB, EAW, london</td>\n",
              "      <td>Hospitality</td>\n",
              "      <td>NaN</td>\n",
              "      <td>NaN</td>\n",
              "      <td>AVAILABLE POSITIONS:Catering staffs, managers,...</td>\n",
              "      <td>Word Perfect;Typing;Public Speaking;Scheduling...</td>\n",
              "      <td>The Hotel Management would be responsible to c...</td>\n",
              "      <td>NaN</td>\n",
              "      <td>NaN</td>\n",
              "      <td>NaN</td>\n",
              "      <td>NaN</td>\n",
              "      <td>NaN</td>\n",
              "      <td>1</td>\n",
              "      <td>1</td>\n",
              "      <td>1</td>\n",
              "      <td>0</td>\n",
              "      <td>0</td>\n",
              "      <td>1</td>\n",
              "      <td>1</td>\n",
              "      <td>1</td>\n",
              "      <td>0</td>\n",
              "      <td>0</td>\n",
              "      <td>0</td>\n",
              "      <td>0</td>\n",
              "      <td>0</td>\n",
              "    </tr>\n",
              "    <tr>\n",
              "      <th>4</th>\n",
              "      <td>Car Dealer Sales Manager/Customer Service</td>\n",
              "      <td>GR, I, Athens</td>\n",
              "      <td>NaN</td>\n",
              "      <td>NaN</td>\n",
              "      <td>Ilias Sotiropoulos first went into business as...</td>\n",
              "      <td>Full time Sales Manager/Customer Service for a...</td>\n",
              "      <td>Max 35 years old.Living close to the workplace...</td>\n",
              "      <td>NaN</td>\n",
              "      <td>Full-time</td>\n",
              "      <td>Mid-Senior level</td>\n",
              "      <td>Unspecified</td>\n",
              "      <td>Retail</td>\n",
              "      <td>Sales</td>\n",
              "      <td>1</td>\n",
              "      <td>1</td>\n",
              "      <td>0</td>\n",
              "      <td>0</td>\n",
              "      <td>1</td>\n",
              "      <td>1</td>\n",
              "      <td>1</td>\n",
              "      <td>0</td>\n",
              "      <td>1</td>\n",
              "      <td>1</td>\n",
              "      <td>1</td>\n",
              "      <td>1</td>\n",
              "      <td>1</td>\n",
              "    </tr>\n",
              "  </tbody>\n",
              "</table>\n",
              "</div>"
            ],
            "text/plain": [
              "                                          title  ... function_ind\n",
              "0  Part-time Pizza Delivery Drivers - Wallasey   ...            0\n",
              "1         Director of Contact Center Operations  ...            1\n",
              "2                 Technical Solution Consultant  ...            1\n",
              "3      Vacancies At The Cafe Royal Hotel London  ...            0\n",
              "4     Car Dealer Sales Manager/Customer Service  ...            1\n",
              "\n",
              "[5 rows x 26 columns]"
            ]
          },
          "metadata": {
            "tags": []
          },
          "execution_count": 423
        }
      ]
    },
    {
      "cell_type": "code",
      "metadata": {
        "colab": {
          "base_uri": "https://localhost:8080/",
          "height": 215
        },
        "id": "qog_gGTxyiwQ",
        "outputId": "c8b36353-242e-499f-e559-a8ae8b02df3f"
      },
      "source": [
        "# Drop all original categrocial features\r\n",
        "cat_train.drop(category_features, axis = 1, inplace= True)\r\n",
        "#cat_train.drop('fraudulent', axis = 1, inplace= True)\r\n",
        "\r\n",
        "# Test set\r\n",
        "cat_test.drop(category_features, axis = 1, inplace= True)\r\n",
        "\r\n",
        "cat_train.head()"
      ],
      "execution_count": null,
      "outputs": [
        {
          "output_type": "execute_result",
          "data": {
            "text/html": [
              "<div>\n",
              "<style scoped>\n",
              "    .dataframe tbody tr th:only-of-type {\n",
              "        vertical-align: middle;\n",
              "    }\n",
              "\n",
              "    .dataframe tbody tr th {\n",
              "        vertical-align: top;\n",
              "    }\n",
              "\n",
              "    .dataframe thead th {\n",
              "        text-align: right;\n",
              "    }\n",
              "</style>\n",
              "<table border=\"1\" class=\"dataframe\">\n",
              "  <thead>\n",
              "    <tr style=\"text-align: right;\">\n",
              "      <th></th>\n",
              "      <th>fraudulent</th>\n",
              "      <th>title_ind</th>\n",
              "      <th>location_ind</th>\n",
              "      <th>department_ind</th>\n",
              "      <th>salary_range_ind</th>\n",
              "      <th>company_profile_ind</th>\n",
              "      <th>description_ind</th>\n",
              "      <th>requirements_ind</th>\n",
              "      <th>benefits_ind</th>\n",
              "      <th>employment_type_ind</th>\n",
              "      <th>required_experience_ind</th>\n",
              "      <th>required_education_ind</th>\n",
              "      <th>industry_ind</th>\n",
              "      <th>function_ind</th>\n",
              "    </tr>\n",
              "  </thead>\n",
              "  <tbody>\n",
              "    <tr>\n",
              "      <th>0</th>\n",
              "      <td>0</td>\n",
              "      <td>1</td>\n",
              "      <td>1</td>\n",
              "      <td>1</td>\n",
              "      <td>1</td>\n",
              "      <td>1</td>\n",
              "      <td>1</td>\n",
              "      <td>0</td>\n",
              "      <td>0</td>\n",
              "      <td>1</td>\n",
              "      <td>1</td>\n",
              "      <td>0</td>\n",
              "      <td>1</td>\n",
              "      <td>1</td>\n",
              "    </tr>\n",
              "    <tr>\n",
              "      <th>1</th>\n",
              "      <td>0</td>\n",
              "      <td>1</td>\n",
              "      <td>1</td>\n",
              "      <td>1</td>\n",
              "      <td>0</td>\n",
              "      <td>1</td>\n",
              "      <td>1</td>\n",
              "      <td>1</td>\n",
              "      <td>0</td>\n",
              "      <td>1</td>\n",
              "      <td>0</td>\n",
              "      <td>0</td>\n",
              "      <td>1</td>\n",
              "      <td>1</td>\n",
              "    </tr>\n",
              "    <tr>\n",
              "      <th>2</th>\n",
              "      <td>0</td>\n",
              "      <td>1</td>\n",
              "      <td>1</td>\n",
              "      <td>1</td>\n",
              "      <td>1</td>\n",
              "      <td>1</td>\n",
              "      <td>1</td>\n",
              "      <td>1</td>\n",
              "      <td>1</td>\n",
              "      <td>1</td>\n",
              "      <td>1</td>\n",
              "      <td>1</td>\n",
              "      <td>1</td>\n",
              "      <td>1</td>\n",
              "    </tr>\n",
              "    <tr>\n",
              "      <th>3</th>\n",
              "      <td>1</td>\n",
              "      <td>1</td>\n",
              "      <td>1</td>\n",
              "      <td>0</td>\n",
              "      <td>1</td>\n",
              "      <td>0</td>\n",
              "      <td>1</td>\n",
              "      <td>0</td>\n",
              "      <td>0</td>\n",
              "      <td>1</td>\n",
              "      <td>1</td>\n",
              "      <td>1</td>\n",
              "      <td>1</td>\n",
              "      <td>1</td>\n",
              "    </tr>\n",
              "    <tr>\n",
              "      <th>4</th>\n",
              "      <td>0</td>\n",
              "      <td>1</td>\n",
              "      <td>1</td>\n",
              "      <td>1</td>\n",
              "      <td>1</td>\n",
              "      <td>1</td>\n",
              "      <td>1</td>\n",
              "      <td>1</td>\n",
              "      <td>1</td>\n",
              "      <td>1</td>\n",
              "      <td>1</td>\n",
              "      <td>1</td>\n",
              "      <td>1</td>\n",
              "      <td>1</td>\n",
              "    </tr>\n",
              "  </tbody>\n",
              "</table>\n",
              "</div>"
            ],
            "text/plain": [
              "   fraudulent  title_ind  ...  industry_ind  function_ind\n",
              "0           0          1  ...             1             1\n",
              "1           0          1  ...             1             1\n",
              "2           0          1  ...             1             1\n",
              "3           1          1  ...             1             1\n",
              "4           0          1  ...             1             1\n",
              "\n",
              "[5 rows x 14 columns]"
            ]
          },
          "metadata": {
            "tags": []
          },
          "execution_count": 424
        }
      ]
    },
    {
      "cell_type": "code",
      "metadata": {
        "id": "whiXgvvHJDm6",
        "colab": {
          "base_uri": "https://localhost:8080/",
          "height": 1000
        },
        "outputId": "be730f45-cd4b-4345-8bc7-6b61546570a6"
      },
      "source": [
        "for i, col in enumerate(cat_train.columns[1:]):\r\n",
        "    plt.figure(i)\r\n",
        "    sns.catplot(x=col, y='fraudulent', data=cat_train, kind='point', aspect=2, )"
      ],
      "execution_count": null,
      "outputs": [
        {
          "output_type": "display_data",
          "data": {
            "text/plain": [
              "<Figure size 720x576 with 0 Axes>"
            ]
          },
          "metadata": {
            "tags": []
          }
        },
        {
          "output_type": "display_data",
          "data": {
            "image/png": "[encoded data removed]",
            "text/plain": [
              "<Figure size 720x360 with 1 Axes>"
            ]
          },
          "metadata": {
            "tags": [],
            "needs_background": "light"
          }
        },
        {
          "output_type": "display_data",
          "data": {
            "image/png": "[encoded data removed]",
            "text/plain": [
              "<Figure size 720x360 with 1 Axes>"
            ]
          },
          "metadata": {
            "tags": [],
            "needs_background": "light"
          }
        },
        {
          "output_type": "display_data",
          "data": {
            "image/png": "[encoded data removed]",
            "text/plain": [
              "<Figure size 720x360 with 1 Axes>"
            ]
          },
          "metadata": {
            "tags": [],
            "needs_background": "light"
          }
        },
        {
          "output_type": "display_data",
          "data": {
            "image/png": "[encoded data removed]",
            "text/plain": [
              "<Figure size 720x360 with 1 Axes>"
            ]
          },
          "metadata": {
            "tags": [],
            "needs_background": "light"
          }
        },
        {
          "output_type": "display_data",
          "data": {
            "image/png": "[encoded data removed]",
            "text/plain": [
              "<Figure size 720x360 with 1 Axes>"
            ]
          },
          "metadata": {
            "tags": [],
            "needs_background": "light"
          }
        },
        {
          "output_type": "display_data",
          "data": {
            "image/png": "[encoded data removed]",
            "text/plain": [
              "<Figure size 720x360 with 1 Axes>"
            ]
          },
          "metadata": {
            "tags": [],
            "needs_background": "light"
          }
        },
        {
          "output_type": "display_data",
          "data": {
            "image/png": "[encoded data removed]",
            "text/plain": [
              "<Figure size 720x360 with 1 Axes>"
            ]
          },
          "metadata": {
            "tags": [],
            "needs_background": "light"
          }
        },
        {
          "output_type": "display_data",
          "data": {
            "image/png": "[encoded data removed]",
            "text/plain": [
              "<Figure size 720x360 with 1 Axes>"
            ]
          },
          "metadata": {
            "tags": [],
            "needs_background": "light"
          }
        },
        {
          "output_type": "display_data",
          "data": {
            "image/png": "[encoded data removed]",
            "text/plain": [
              "<Figure size 720x360 with 1 Axes>"
            ]
          },
          "metadata": {
            "tags": [],
            "needs_background": "light"
          }
        },
        {
          "output_type": "display_data",
          "data": {
            "image/png": "[encoded data removed]",
            "text/plain": [
              "<Figure size 720x360 with 1 Axes>"
            ]
          },
          "metadata": {
            "tags": [],
            "needs_background": "light"
          }
        },
        {
          "output_type": "display_data",
          "data": {
            "image/png": "[encoded data removed]",
            "text/plain": [
              "<Figure size 720x360 with 1 Axes>"
            ]
          },
          "metadata": {
            "tags": [],
            "needs_background": "light"
          }
        },
        {
          "output_type": "display_data",
          "data": {
            "image/png": "[encoded data removed]",
            "text/plain": [
              "<Figure size 720x360 with 1 Axes>"
            ]
          },
          "metadata": {
            "tags": [],
            "needs_background": "light"
          }
        },
        {
          "output_type": "display_data",
          "data": {
            "image/png": "[encoded data removed]",
            "text/plain": [
              "<Figure size 720x360 with 1 Axes>"
            ]
          },
          "metadata": {
            "tags": [],
            "needs_background": "light"
          }
        }
      ]
    },
    {
      "cell_type": "code",
      "metadata": {
        "id": "PkNO9XxmJ5Jg",
        "colab": {
          "base_uri": "https://localhost:8080/",
          "height": 215
        },
        "outputId": "b58e7a3c-226c-4e09-dcd5-c826ade90594"
      },
      "source": [
        "# Drop columns with low impact on fraud and fraud column\r\n",
        "cat_train.drop(['location_ind','title_ind', 'fraudulent'], axis = 1, inplace= True)\r\n",
        "\r\n",
        "cat_eda_features = cat_train.columns\r\n",
        "cat_test = cat_test[cat_eda_features].copy()\r\n",
        "\r\n",
        "cat_train.head()"
      ],
      "execution_count": null,
      "outputs": [
        {
          "output_type": "execute_result",
          "data": {
            "text/html": [
              "<div>\n",
              "<style scoped>\n",
              "    .dataframe tbody tr th:only-of-type {\n",
              "        vertical-align: middle;\n",
              "    }\n",
              "\n",
              "    .dataframe tbody tr th {\n",
              "        vertical-align: top;\n",
              "    }\n",
              "\n",
              "    .dataframe thead th {\n",
              "        text-align: right;\n",
              "    }\n",
              "</style>\n",
              "<table border=\"1\" class=\"dataframe\">\n",
              "  <thead>\n",
              "    <tr style=\"text-align: right;\">\n",
              "      <th></th>\n",
              "      <th>department_ind</th>\n",
              "      <th>salary_range_ind</th>\n",
              "      <th>company_profile_ind</th>\n",
              "      <th>description_ind</th>\n",
              "      <th>requirements_ind</th>\n",
              "      <th>benefits_ind</th>\n",
              "      <th>employment_type_ind</th>\n",
              "      <th>required_experience_ind</th>\n",
              "      <th>required_education_ind</th>\n",
              "      <th>industry_ind</th>\n",
              "      <th>function_ind</th>\n",
              "    </tr>\n",
              "  </thead>\n",
              "  <tbody>\n",
              "    <tr>\n",
              "      <th>0</th>\n",
              "      <td>1</td>\n",
              "      <td>1</td>\n",
              "      <td>1</td>\n",
              "      <td>1</td>\n",
              "      <td>0</td>\n",
              "      <td>0</td>\n",
              "      <td>1</td>\n",
              "      <td>1</td>\n",
              "      <td>0</td>\n",
              "      <td>1</td>\n",
              "      <td>1</td>\n",
              "    </tr>\n",
              "    <tr>\n",
              "      <th>1</th>\n",
              "      <td>1</td>\n",
              "      <td>0</td>\n",
              "      <td>1</td>\n",
              "      <td>1</td>\n",
              "      <td>1</td>\n",
              "      <td>0</td>\n",
              "      <td>1</td>\n",
              "      <td>0</td>\n",
              "      <td>0</td>\n",
              "      <td>1</td>\n",
              "      <td>1</td>\n",
              "    </tr>\n",
              "    <tr>\n",
              "      <th>2</th>\n",
              "      <td>1</td>\n",
              "      <td>1</td>\n",
              "      <td>1</td>\n",
              "      <td>1</td>\n",
              "      <td>1</td>\n",
              "      <td>1</td>\n",
              "      <td>1</td>\n",
              "      <td>1</td>\n",
              "      <td>1</td>\n",
              "      <td>1</td>\n",
              "      <td>1</td>\n",
              "    </tr>\n",
              "    <tr>\n",
              "      <th>3</th>\n",
              "      <td>0</td>\n",
              "      <td>1</td>\n",
              "      <td>0</td>\n",
              "      <td>1</td>\n",
              "      <td>0</td>\n",
              "      <td>0</td>\n",
              "      <td>1</td>\n",
              "      <td>1</td>\n",
              "      <td>1</td>\n",
              "      <td>1</td>\n",
              "      <td>1</td>\n",
              "    </tr>\n",
              "    <tr>\n",
              "      <th>4</th>\n",
              "      <td>1</td>\n",
              "      <td>1</td>\n",
              "      <td>1</td>\n",
              "      <td>1</td>\n",
              "      <td>1</td>\n",
              "      <td>1</td>\n",
              "      <td>1</td>\n",
              "      <td>1</td>\n",
              "      <td>1</td>\n",
              "      <td>1</td>\n",
              "      <td>1</td>\n",
              "    </tr>\n",
              "  </tbody>\n",
              "</table>\n",
              "</div>"
            ],
            "text/plain": [
              "   department_ind  salary_range_ind  ...  industry_ind  function_ind\n",
              "0               1                 1  ...             1             1\n",
              "1               1                 0  ...             1             1\n",
              "2               1                 1  ...             1             1\n",
              "3               0                 1  ...             1             1\n",
              "4               1                 1  ...             1             1\n",
              "\n",
              "[5 rows x 11 columns]"
            ]
          },
          "metadata": {
            "tags": []
          },
          "execution_count": 426
        }
      ]
    },
    {
      "cell_type": "code",
      "metadata": {
        "id": "mvZQmplXLXUD",
        "colab": {
          "base_uri": "https://localhost:8080/",
          "height": 215
        },
        "outputId": "05b76b5a-de7e-4003-f75f-4bc54509af7c"
      },
      "source": [
        "# Combine numerical and categorical columns for train dataset\r\n",
        "dataset_train = num_train.join(cat_train)\r\n",
        "\r\n",
        "dataset_train.head()"
      ],
      "execution_count": null,
      "outputs": [
        {
          "output_type": "execute_result",
          "data": {
            "text/html": [
              "<div>\n",
              "<style scoped>\n",
              "    .dataframe tbody tr th:only-of-type {\n",
              "        vertical-align: middle;\n",
              "    }\n",
              "\n",
              "    .dataframe tbody tr th {\n",
              "        vertical-align: top;\n",
              "    }\n",
              "\n",
              "    .dataframe thead th {\n",
              "        text-align: right;\n",
              "    }\n",
              "</style>\n",
              "<table border=\"1\" class=\"dataframe\">\n",
              "  <thead>\n",
              "    <tr style=\"text-align: right;\">\n",
              "      <th></th>\n",
              "      <th>telecommuting</th>\n",
              "      <th>has_company_logo</th>\n",
              "      <th>has_questions</th>\n",
              "      <th>fraudulent</th>\n",
              "      <th>department_ind</th>\n",
              "      <th>salary_range_ind</th>\n",
              "      <th>company_profile_ind</th>\n",
              "      <th>description_ind</th>\n",
              "      <th>requirements_ind</th>\n",
              "      <th>benefits_ind</th>\n",
              "      <th>employment_type_ind</th>\n",
              "      <th>required_experience_ind</th>\n",
              "      <th>required_education_ind</th>\n",
              "      <th>industry_ind</th>\n",
              "      <th>function_ind</th>\n",
              "    </tr>\n",
              "  </thead>\n",
              "  <tbody>\n",
              "    <tr>\n",
              "      <th>0</th>\n",
              "      <td>0</td>\n",
              "      <td>1</td>\n",
              "      <td>1</td>\n",
              "      <td>0</td>\n",
              "      <td>1</td>\n",
              "      <td>1</td>\n",
              "      <td>1</td>\n",
              "      <td>1</td>\n",
              "      <td>0</td>\n",
              "      <td>0</td>\n",
              "      <td>1</td>\n",
              "      <td>1</td>\n",
              "      <td>0</td>\n",
              "      <td>1</td>\n",
              "      <td>1</td>\n",
              "    </tr>\n",
              "    <tr>\n",
              "      <th>1</th>\n",
              "      <td>0</td>\n",
              "      <td>1</td>\n",
              "      <td>1</td>\n",
              "      <td>0</td>\n",
              "      <td>1</td>\n",
              "      <td>0</td>\n",
              "      <td>1</td>\n",
              "      <td>1</td>\n",
              "      <td>1</td>\n",
              "      <td>0</td>\n",
              "      <td>1</td>\n",
              "      <td>0</td>\n",
              "      <td>0</td>\n",
              "      <td>1</td>\n",
              "      <td>1</td>\n",
              "    </tr>\n",
              "    <tr>\n",
              "      <th>2</th>\n",
              "      <td>0</td>\n",
              "      <td>1</td>\n",
              "      <td>1</td>\n",
              "      <td>0</td>\n",
              "      <td>1</td>\n",
              "      <td>1</td>\n",
              "      <td>1</td>\n",
              "      <td>1</td>\n",
              "      <td>1</td>\n",
              "      <td>1</td>\n",
              "      <td>1</td>\n",
              "      <td>1</td>\n",
              "      <td>1</td>\n",
              "      <td>1</td>\n",
              "      <td>1</td>\n",
              "    </tr>\n",
              "    <tr>\n",
              "      <th>3</th>\n",
              "      <td>0</td>\n",
              "      <td>0</td>\n",
              "      <td>0</td>\n",
              "      <td>1</td>\n",
              "      <td>0</td>\n",
              "      <td>1</td>\n",
              "      <td>0</td>\n",
              "      <td>1</td>\n",
              "      <td>0</td>\n",
              "      <td>0</td>\n",
              "      <td>1</td>\n",
              "      <td>1</td>\n",
              "      <td>1</td>\n",
              "      <td>1</td>\n",
              "      <td>1</td>\n",
              "    </tr>\n",
              "    <tr>\n",
              "      <th>4</th>\n",
              "      <td>0</td>\n",
              "      <td>1</td>\n",
              "      <td>0</td>\n",
              "      <td>0</td>\n",
              "      <td>1</td>\n",
              "      <td>1</td>\n",
              "      <td>1</td>\n",
              "      <td>1</td>\n",
              "      <td>1</td>\n",
              "      <td>1</td>\n",
              "      <td>1</td>\n",
              "      <td>1</td>\n",
              "      <td>1</td>\n",
              "      <td>1</td>\n",
              "      <td>1</td>\n",
              "    </tr>\n",
              "  </tbody>\n",
              "</table>\n",
              "</div>"
            ],
            "text/plain": [
              "   telecommuting  has_company_logo  ...  industry_ind  function_ind\n",
              "0              0                 1  ...             1             1\n",
              "1              0                 1  ...             1             1\n",
              "2              0                 1  ...             1             1\n",
              "3              0                 0  ...             1             1\n",
              "4              0                 1  ...             1             1\n",
              "\n",
              "[5 rows x 15 columns]"
            ]
          },
          "metadata": {
            "tags": []
          },
          "execution_count": 434
        }
      ]
    },
    {
      "cell_type": "code",
      "metadata": {
        "id": "jN4kMqu2Nc2V",
        "colab": {
          "base_uri": "https://localhost:8080/",
          "height": 215
        },
        "outputId": "5c754d3b-2fdc-4fe2-d45e-e00a5aa8444b"
      },
      "source": [
        "# Combine numerical and categorical columns for test dataset\r\n",
        "dataset_test = num_test.join(cat_test)\r\n",
        "dataset_test.head()"
      ],
      "execution_count": null,
      "outputs": [
        {
          "output_type": "execute_result",
          "data": {
            "text/html": [
              "<div>\n",
              "<style scoped>\n",
              "    .dataframe tbody tr th:only-of-type {\n",
              "        vertical-align: middle;\n",
              "    }\n",
              "\n",
              "    .dataframe tbody tr th {\n",
              "        vertical-align: top;\n",
              "    }\n",
              "\n",
              "    .dataframe thead th {\n",
              "        text-align: right;\n",
              "    }\n",
              "</style>\n",
              "<table border=\"1\" class=\"dataframe\">\n",
              "  <thead>\n",
              "    <tr style=\"text-align: right;\">\n",
              "      <th></th>\n",
              "      <th>telecommuting</th>\n",
              "      <th>has_company_logo</th>\n",
              "      <th>has_questions</th>\n",
              "      <th>department_ind</th>\n",
              "      <th>salary_range_ind</th>\n",
              "      <th>company_profile_ind</th>\n",
              "      <th>description_ind</th>\n",
              "      <th>requirements_ind</th>\n",
              "      <th>benefits_ind</th>\n",
              "      <th>employment_type_ind</th>\n",
              "      <th>required_experience_ind</th>\n",
              "      <th>required_education_ind</th>\n",
              "      <th>industry_ind</th>\n",
              "      <th>function_ind</th>\n",
              "    </tr>\n",
              "  </thead>\n",
              "  <tbody>\n",
              "    <tr>\n",
              "      <th>0</th>\n",
              "      <td>0</td>\n",
              "      <td>1</td>\n",
              "      <td>1</td>\n",
              "      <td>1</td>\n",
              "      <td>0</td>\n",
              "      <td>1</td>\n",
              "      <td>1</td>\n",
              "      <td>1</td>\n",
              "      <td>1</td>\n",
              "      <td>1</td>\n",
              "      <td>1</td>\n",
              "      <td>0</td>\n",
              "      <td>1</td>\n",
              "      <td>0</td>\n",
              "    </tr>\n",
              "    <tr>\n",
              "      <th>1</th>\n",
              "      <td>0</td>\n",
              "      <td>1</td>\n",
              "      <td>1</td>\n",
              "      <td>1</td>\n",
              "      <td>0</td>\n",
              "      <td>1</td>\n",
              "      <td>1</td>\n",
              "      <td>1</td>\n",
              "      <td>1</td>\n",
              "      <td>1</td>\n",
              "      <td>1</td>\n",
              "      <td>0</td>\n",
              "      <td>0</td>\n",
              "      <td>1</td>\n",
              "    </tr>\n",
              "    <tr>\n",
              "      <th>2</th>\n",
              "      <td>0</td>\n",
              "      <td>0</td>\n",
              "      <td>0</td>\n",
              "      <td>0</td>\n",
              "      <td>1</td>\n",
              "      <td>1</td>\n",
              "      <td>1</td>\n",
              "      <td>0</td>\n",
              "      <td>0</td>\n",
              "      <td>1</td>\n",
              "      <td>1</td>\n",
              "      <td>1</td>\n",
              "      <td>1</td>\n",
              "      <td>1</td>\n",
              "    </tr>\n",
              "    <tr>\n",
              "      <th>3</th>\n",
              "      <td>0</td>\n",
              "      <td>0</td>\n",
              "      <td>0</td>\n",
              "      <td>1</td>\n",
              "      <td>0</td>\n",
              "      <td>0</td>\n",
              "      <td>1</td>\n",
              "      <td>1</td>\n",
              "      <td>1</td>\n",
              "      <td>0</td>\n",
              "      <td>0</td>\n",
              "      <td>0</td>\n",
              "      <td>0</td>\n",
              "      <td>0</td>\n",
              "    </tr>\n",
              "    <tr>\n",
              "      <th>4</th>\n",
              "      <td>0</td>\n",
              "      <td>1</td>\n",
              "      <td>0</td>\n",
              "      <td>0</td>\n",
              "      <td>0</td>\n",
              "      <td>1</td>\n",
              "      <td>1</td>\n",
              "      <td>1</td>\n",
              "      <td>0</td>\n",
              "      <td>1</td>\n",
              "      <td>1</td>\n",
              "      <td>1</td>\n",
              "      <td>1</td>\n",
              "      <td>1</td>\n",
              "    </tr>\n",
              "  </tbody>\n",
              "</table>\n",
              "</div>"
            ],
            "text/plain": [
              "   telecommuting  has_company_logo  ...  industry_ind  function_ind\n",
              "0              0                 1  ...             1             0\n",
              "1              0                 1  ...             0             1\n",
              "2              0                 0  ...             1             1\n",
              "3              0                 0  ...             0             0\n",
              "4              0                 1  ...             1             1\n",
              "\n",
              "[5 rows x 14 columns]"
            ]
          },
          "metadata": {
            "tags": []
          },
          "execution_count": 435
        }
      ]
    },
    {
      "cell_type": "code",
      "metadata": {
        "id": "u5PhQDzqN391"
      },
      "source": [
        "# Save clean train and test dataframe\r\n",
        "dataset_train.to_csv('df_train.csv', index= False)\r\n",
        "dataset_test.to_csv('df_test.csv', index= False)"
      ],
      "execution_count": null,
      "outputs": []
    }
  ]
}