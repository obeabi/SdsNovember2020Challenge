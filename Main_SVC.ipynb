{
  "nbformat": 4,
  "nbformat_minor": 0,
  "metadata": {
    "colab": {
      "name": "Main_SVC.ipynb",
      "provenance": [],
      "toc_visible": true,
      "authorship_tag": "ABX9TyMx8psqe4bHHLHrNzBoplDZ",
      "include_colab_link": true
    },
    "kernelspec": {
      "name": "python3",
      "display_name": "Python 3"
    }
  },
  "cells": [
    {
      "cell_type": "markdown",
      "metadata": {
        "id": "view-in-github",
        "colab_type": "text"
      },
      "source": [
        "<a href=\"https://colab.research.google.com/github/obeabi/SdsNovember2020Challenge/blob/main/Main_SVC.ipynb\" target=\"_parent\"><img src=\"https://colab.research.google.com/assets/colab-badge.svg\" alt=\"Open In Colab\"/></a>"
      ]
    },
    {
      "cell_type": "markdown",
      "metadata": {
        "id": "Rr3ZLSgXPUn0"
      },
      "source": [
        "# Written by Abiola Obembe\r\n",
        "# SDS October Challenge #3 - Fraudulent Job Adverts\r\n",
        "## 2021-01-22\r\n",
        "\r\n",
        "### Using Support Vector Classifier ALGORTHIM"
      ]
    },
    {
      "cell_type": "markdown",
      "metadata": {
        "id": "LtcBcsk5PgoA"
      },
      "source": [
        "## Problem Statement\r\n",
        "Welcome Data Scientist to the 3rd SDS Club Monthly Challenge! In this month’s challenge you are helping your friend search for a job. Your friend has found thousands of job ads online and is trying to pick some to apply to. Your friends has heard that there are a lot of fraudulent job ads that are actually scams. Your mission is to help your friend by predicting whether a job is fraudulent based on the data provided."
      ]
    },
    {
      "cell_type": "code",
      "metadata": {
        "colab": {
          "base_uri": "https://localhost:8080/"
        },
        "id": "C5gZ6cLTPxyu",
        "outputId": "fe1efe18-81f6-430c-d1b9-924d84a30e69"
      },
      "source": [
        "# Importing the libraries\r\n",
        "import numpy as np\r\n",
        "import matplotlib.pyplot as plt\r\n",
        "import pandas as pd\r\n",
        "import seaborn as sns\r\n",
        "!pip install imbalanced-learn\r\n",
        "from sklearn.model_selection import GridSearchCV\r\n",
        "\r\n",
        "\r\n",
        "%matplotlib inline\r\n",
        "plt.rcParams['figure.figsize'] = (5.0, 4.0) # set default size of plots\r\n",
        "plt.rcParams['image.interpolation'] = 'nearest'\r\n",
        "plt.rcParams['image.cmap'] = 'gray'\r\n",
        "\r\n",
        "print('Libraries installed successfully!')\r\n",
        "\r\n",
        "np.random.seed(0)"
      ],
      "execution_count": 41,
      "outputs": [
        {
          "output_type": "stream",
          "text": [
            "Requirement already satisfied: imbalanced-learn in /usr/local/lib/python3.6/dist-packages (0.4.3)\n",
            "Requirement already satisfied: scipy>=0.13.3 in /usr/local/lib/python3.6/dist-packages (from imbalanced-learn) (1.4.1)\n",
            "Requirement already satisfied: scikit-learn>=0.20 in /usr/local/lib/python3.6/dist-packages (from imbalanced-learn) (0.22.2.post1)\n",
            "Requirement already satisfied: numpy>=1.8.2 in /usr/local/lib/python3.6/dist-packages (from imbalanced-learn) (1.19.5)\n",
            "Requirement already satisfied: joblib>=0.11 in /usr/local/lib/python3.6/dist-packages (from scikit-learn>=0.20->imbalanced-learn) (1.0.0)\n",
            "Libraries installed successfully!\n"
          ],
          "name": "stdout"
        }
      ]
    },
    {
      "cell_type": "code",
      "metadata": {
        "colab": {
          "base_uri": "https://localhost:8080/",
          "height": 215
        },
        "id": "ulTHtazpQAN5",
        "outputId": "b55b81ca-f3e4-48a8-ca6b-037bd441d913"
      },
      "source": [
        "# Importing the dataset and check the shape and total number of missing values\r\n",
        "\r\n",
        "df_train = pd.read_csv('df_train.csv')\r\n",
        "df_test = pd.read_csv('df_test.csv')\r\n",
        "\r\n",
        "df_train.head()"
      ],
      "execution_count": 2,
      "outputs": [
        {
          "output_type": "execute_result",
          "data": {
            "text/html": [
              "<div>\n",
              "<style scoped>\n",
              "    .dataframe tbody tr th:only-of-type {\n",
              "        vertical-align: middle;\n",
              "    }\n",
              "\n",
              "    .dataframe tbody tr th {\n",
              "        vertical-align: top;\n",
              "    }\n",
              "\n",
              "    .dataframe thead th {\n",
              "        text-align: right;\n",
              "    }\n",
              "</style>\n",
              "<table border=\"1\" class=\"dataframe\">\n",
              "  <thead>\n",
              "    <tr style=\"text-align: right;\">\n",
              "      <th></th>\n",
              "      <th>telecommuting</th>\n",
              "      <th>has_company_logo</th>\n",
              "      <th>has_questions</th>\n",
              "      <th>fraudulent</th>\n",
              "      <th>department_ind</th>\n",
              "      <th>salary_range_ind</th>\n",
              "      <th>company_profile_ind</th>\n",
              "      <th>description_ind</th>\n",
              "      <th>requirements_ind</th>\n",
              "      <th>benefits_ind</th>\n",
              "      <th>employment_type_ind</th>\n",
              "      <th>required_experience_ind</th>\n",
              "      <th>required_education_ind</th>\n",
              "      <th>industry_ind</th>\n",
              "      <th>function_ind</th>\n",
              "    </tr>\n",
              "  </thead>\n",
              "  <tbody>\n",
              "    <tr>\n",
              "      <th>0</th>\n",
              "      <td>0</td>\n",
              "      <td>1</td>\n",
              "      <td>1</td>\n",
              "      <td>0</td>\n",
              "      <td>1</td>\n",
              "      <td>1</td>\n",
              "      <td>1</td>\n",
              "      <td>1</td>\n",
              "      <td>0</td>\n",
              "      <td>0</td>\n",
              "      <td>1</td>\n",
              "      <td>1</td>\n",
              "      <td>0</td>\n",
              "      <td>1</td>\n",
              "      <td>1</td>\n",
              "    </tr>\n",
              "    <tr>\n",
              "      <th>1</th>\n",
              "      <td>0</td>\n",
              "      <td>1</td>\n",
              "      <td>1</td>\n",
              "      <td>0</td>\n",
              "      <td>1</td>\n",
              "      <td>0</td>\n",
              "      <td>1</td>\n",
              "      <td>1</td>\n",
              "      <td>1</td>\n",
              "      <td>0</td>\n",
              "      <td>1</td>\n",
              "      <td>0</td>\n",
              "      <td>0</td>\n",
              "      <td>1</td>\n",
              "      <td>1</td>\n",
              "    </tr>\n",
              "    <tr>\n",
              "      <th>2</th>\n",
              "      <td>0</td>\n",
              "      <td>1</td>\n",
              "      <td>1</td>\n",
              "      <td>0</td>\n",
              "      <td>1</td>\n",
              "      <td>1</td>\n",
              "      <td>1</td>\n",
              "      <td>1</td>\n",
              "      <td>1</td>\n",
              "      <td>1</td>\n",
              "      <td>1</td>\n",
              "      <td>1</td>\n",
              "      <td>1</td>\n",
              "      <td>1</td>\n",
              "      <td>1</td>\n",
              "    </tr>\n",
              "    <tr>\n",
              "      <th>3</th>\n",
              "      <td>0</td>\n",
              "      <td>0</td>\n",
              "      <td>0</td>\n",
              "      <td>1</td>\n",
              "      <td>0</td>\n",
              "      <td>1</td>\n",
              "      <td>0</td>\n",
              "      <td>1</td>\n",
              "      <td>0</td>\n",
              "      <td>0</td>\n",
              "      <td>1</td>\n",
              "      <td>1</td>\n",
              "      <td>1</td>\n",
              "      <td>1</td>\n",
              "      <td>1</td>\n",
              "    </tr>\n",
              "    <tr>\n",
              "      <th>4</th>\n",
              "      <td>0</td>\n",
              "      <td>1</td>\n",
              "      <td>0</td>\n",
              "      <td>0</td>\n",
              "      <td>1</td>\n",
              "      <td>1</td>\n",
              "      <td>1</td>\n",
              "      <td>1</td>\n",
              "      <td>1</td>\n",
              "      <td>1</td>\n",
              "      <td>1</td>\n",
              "      <td>1</td>\n",
              "      <td>1</td>\n",
              "      <td>1</td>\n",
              "      <td>1</td>\n",
              "    </tr>\n",
              "  </tbody>\n",
              "</table>\n",
              "</div>"
            ],
            "text/plain": [
              "   telecommuting  has_company_logo  ...  industry_ind  function_ind\n",
              "0              0                 1  ...             1             1\n",
              "1              0                 1  ...             1             1\n",
              "2              0                 1  ...             1             1\n",
              "3              0                 0  ...             1             1\n",
              "4              0                 1  ...             1             1\n",
              "\n",
              "[5 rows x 15 columns]"
            ]
          },
          "metadata": {
            "tags": []
          },
          "execution_count": 2
        }
      ]
    },
    {
      "cell_type": "code",
      "metadata": {
        "colab": {
          "base_uri": "https://localhost:8080/"
        },
        "id": "e9Y13MDLQRrD",
        "outputId": "3a1264b1-bba4-4201-b00c-db70b870558b"
      },
      "source": [
        "# print column names\r\n",
        "print(df_train.columns)\r\n",
        "print(df_train.shape)"
      ],
      "execution_count": 5,
      "outputs": [
        {
          "output_type": "stream",
          "text": [
            "Index(['telecommuting', 'has_company_logo', 'has_questions', 'fraudulent',\n",
            "       'department_ind', 'salary_range_ind', 'company_profile_ind',\n",
            "       'description_ind', 'requirements_ind', 'benefits_ind',\n",
            "       'employment_type_ind', 'required_experience_ind',\n",
            "       'required_education_ind', 'industry_ind', 'function_ind'],\n",
            "      dtype='object')\n",
            "(14304, 15)\n"
          ],
          "name": "stdout"
        }
      ]
    },
    {
      "cell_type": "code",
      "metadata": {
        "colab": {
          "base_uri": "https://localhost:8080/",
          "height": 295
        },
        "id": "1T7FGhwJQtqD",
        "outputId": "a2bd6817-6bbf-41a4-939b-3ded398823e6"
      },
      "source": [
        "# Let's visualize the distribution of data\r\n",
        "count_classes = pd.value_counts(df_train['fraudulent'], sort = True)\r\n",
        "count_classes.plot(kind = 'bar', rot = 0)\r\n",
        "plt.title(\"Fraudulent Job Distribution\")\r\n",
        "plt.xticks(range(2))\r\n",
        "plt.xlabel(\"Fraudulent\")\r\n",
        "plt.ylabel('Frequency')\r\n",
        "plt.show()"
      ],
      "execution_count": 6,
      "outputs": [
        {
          "output_type": "display_data",
          "data": {
            "image/png": "[encoded data removed]",
            "text/plain": [
              "<Figure size 432x288 with 1 Axes>"
            ]
          },
          "metadata": {
            "tags": [],
            "needs_background": "light"
          }
        }
      ]
    },
    {
      "cell_type": "code",
      "metadata": {
        "colab": {
          "base_uri": "https://localhost:8080/"
        },
        "id": "dSATW7jJQUYu",
        "outputId": "8d8ef9ee-da10-4fdb-9ee5-2e1a1a5aa48e"
      },
      "source": [
        "# gET THE CANCELLED AND NOT CANCEELED FLIFGTS\r\n",
        "Fraud = df_train[df_train['fraudulent']== 1]\r\n",
        "notFraud = df_train[df_train['fraudulent']== 0]\r\n",
        "\r\n",
        "print(Fraud.shape, notFraud.shape)"
      ],
      "execution_count": 7,
      "outputs": [
        {
          "output_type": "stream",
          "text": [
            "(709, 15) (13595, 15)\n"
          ],
          "name": "stdout"
        }
      ]
    },
    {
      "cell_type": "code",
      "metadata": {
        "colab": {
          "base_uri": "https://localhost:8080/"
        },
        "id": "5Fh99qiWSb7C",
        "outputId": "256f7f63-afbb-4591-c700-92752cf185ce"
      },
      "source": [
        "13595/709"
      ],
      "execution_count": 12,
      "outputs": [
        {
          "output_type": "execute_result",
          "data": {
            "text/plain": [
              "19.174894217207335"
            ]
          },
          "metadata": {
            "tags": []
          },
          "execution_count": 12
        }
      ]
    },
    {
      "cell_type": "code",
      "metadata": {
        "colab": {
          "base_uri": "https://localhost:8080/",
          "height": 215
        },
        "id": "Z8gJdEYsQ_d0",
        "outputId": "0325f63d-dffd-4563-f121-3564f9493396"
      },
      "source": [
        "# Extract features and target from train set dataframe\r\n",
        "y = df_train.fraudulent.values.ravel()\r\n",
        "X = df_train.drop(columns= ['fraudulent'], axis = 1)\r\n",
        "\r\n",
        "X.head()"
      ],
      "execution_count": 9,
      "outputs": [
        {
          "output_type": "execute_result",
          "data": {
            "text/html": [
              "<div>\n",
              "<style scoped>\n",
              "    .dataframe tbody tr th:only-of-type {\n",
              "        vertical-align: middle;\n",
              "    }\n",
              "\n",
              "    .dataframe tbody tr th {\n",
              "        vertical-align: top;\n",
              "    }\n",
              "\n",
              "    .dataframe thead th {\n",
              "        text-align: right;\n",
              "    }\n",
              "</style>\n",
              "<table border=\"1\" class=\"dataframe\">\n",
              "  <thead>\n",
              "    <tr style=\"text-align: right;\">\n",
              "      <th></th>\n",
              "      <th>telecommuting</th>\n",
              "      <th>has_company_logo</th>\n",
              "      <th>has_questions</th>\n",
              "      <th>department_ind</th>\n",
              "      <th>salary_range_ind</th>\n",
              "      <th>company_profile_ind</th>\n",
              "      <th>description_ind</th>\n",
              "      <th>requirements_ind</th>\n",
              "      <th>benefits_ind</th>\n",
              "      <th>employment_type_ind</th>\n",
              "      <th>required_experience_ind</th>\n",
              "      <th>required_education_ind</th>\n",
              "      <th>industry_ind</th>\n",
              "      <th>function_ind</th>\n",
              "    </tr>\n",
              "  </thead>\n",
              "  <tbody>\n",
              "    <tr>\n",
              "      <th>0</th>\n",
              "      <td>0</td>\n",
              "      <td>1</td>\n",
              "      <td>1</td>\n",
              "      <td>1</td>\n",
              "      <td>1</td>\n",
              "      <td>1</td>\n",
              "      <td>1</td>\n",
              "      <td>0</td>\n",
              "      <td>0</td>\n",
              "      <td>1</td>\n",
              "      <td>1</td>\n",
              "      <td>0</td>\n",
              "      <td>1</td>\n",
              "      <td>1</td>\n",
              "    </tr>\n",
              "    <tr>\n",
              "      <th>1</th>\n",
              "      <td>0</td>\n",
              "      <td>1</td>\n",
              "      <td>1</td>\n",
              "      <td>1</td>\n",
              "      <td>0</td>\n",
              "      <td>1</td>\n",
              "      <td>1</td>\n",
              "      <td>1</td>\n",
              "      <td>0</td>\n",
              "      <td>1</td>\n",
              "      <td>0</td>\n",
              "      <td>0</td>\n",
              "      <td>1</td>\n",
              "      <td>1</td>\n",
              "    </tr>\n",
              "    <tr>\n",
              "      <th>2</th>\n",
              "      <td>0</td>\n",
              "      <td>1</td>\n",
              "      <td>1</td>\n",
              "      <td>1</td>\n",
              "      <td>1</td>\n",
              "      <td>1</td>\n",
              "      <td>1</td>\n",
              "      <td>1</td>\n",
              "      <td>1</td>\n",
              "      <td>1</td>\n",
              "      <td>1</td>\n",
              "      <td>1</td>\n",
              "      <td>1</td>\n",
              "      <td>1</td>\n",
              "    </tr>\n",
              "    <tr>\n",
              "      <th>3</th>\n",
              "      <td>0</td>\n",
              "      <td>0</td>\n",
              "      <td>0</td>\n",
              "      <td>0</td>\n",
              "      <td>1</td>\n",
              "      <td>0</td>\n",
              "      <td>1</td>\n",
              "      <td>0</td>\n",
              "      <td>0</td>\n",
              "      <td>1</td>\n",
              "      <td>1</td>\n",
              "      <td>1</td>\n",
              "      <td>1</td>\n",
              "      <td>1</td>\n",
              "    </tr>\n",
              "    <tr>\n",
              "      <th>4</th>\n",
              "      <td>0</td>\n",
              "      <td>1</td>\n",
              "      <td>0</td>\n",
              "      <td>1</td>\n",
              "      <td>1</td>\n",
              "      <td>1</td>\n",
              "      <td>1</td>\n",
              "      <td>1</td>\n",
              "      <td>1</td>\n",
              "      <td>1</td>\n",
              "      <td>1</td>\n",
              "      <td>1</td>\n",
              "      <td>1</td>\n",
              "      <td>1</td>\n",
              "    </tr>\n",
              "  </tbody>\n",
              "</table>\n",
              "</div>"
            ],
            "text/plain": [
              "   telecommuting  has_company_logo  ...  industry_ind  function_ind\n",
              "0              0                 1  ...             1             1\n",
              "1              0                 1  ...             1             1\n",
              "2              0                 1  ...             1             1\n",
              "3              0                 0  ...             1             1\n",
              "4              0                 1  ...             1             1\n",
              "\n",
              "[5 rows x 14 columns]"
            ]
          },
          "metadata": {
            "tags": []
          },
          "execution_count": 9
        }
      ]
    },
    {
      "cell_type": "code",
      "metadata": {
        "colab": {
          "base_uri": "https://localhost:8080/"
        },
        "id": "SsnfakX5Re-u",
        "outputId": "6e32396d-3ebc-4ef3-ccdf-c7c2555448ba"
      },
      "source": [
        "# print first five rows target column\r\n",
        "y[0:5]"
      ],
      "execution_count": 10,
      "outputs": [
        {
          "output_type": "execute_result",
          "data": {
            "text/plain": [
              "array([0, 0, 0, 1, 0])"
            ]
          },
          "metadata": {
            "tags": []
          },
          "execution_count": 10
        }
      ]
    },
    {
      "cell_type": "code",
      "metadata": {
        "colab": {
          "base_uri": "https://localhost:8080/",
          "height": 215
        },
        "id": "zMr0NwwaRmVL",
        "outputId": "c79bc338-6d80-4f51-cb75-c4d21d41afc0"
      },
      "source": [
        "# Split data to train and test set\r\n",
        "from sklearn.model_selection import train_test_split\r\n",
        "X_train, X_valid, y_train, y_valid = train_test_split(X, y, train_size=0.8, test_size=0.2, random_state=0)\r\n",
        "\r\n",
        "# Organize train set\r\n",
        "X_train.head()"
      ],
      "execution_count": 11,
      "outputs": [
        {
          "output_type": "execute_result",
          "data": {
            "text/html": [
              "<div>\n",
              "<style scoped>\n",
              "    .dataframe tbody tr th:only-of-type {\n",
              "        vertical-align: middle;\n",
              "    }\n",
              "\n",
              "    .dataframe tbody tr th {\n",
              "        vertical-align: top;\n",
              "    }\n",
              "\n",
              "    .dataframe thead th {\n",
              "        text-align: right;\n",
              "    }\n",
              "</style>\n",
              "<table border=\"1\" class=\"dataframe\">\n",
              "  <thead>\n",
              "    <tr style=\"text-align: right;\">\n",
              "      <th></th>\n",
              "      <th>telecommuting</th>\n",
              "      <th>has_company_logo</th>\n",
              "      <th>has_questions</th>\n",
              "      <th>department_ind</th>\n",
              "      <th>salary_range_ind</th>\n",
              "      <th>company_profile_ind</th>\n",
              "      <th>description_ind</th>\n",
              "      <th>requirements_ind</th>\n",
              "      <th>benefits_ind</th>\n",
              "      <th>employment_type_ind</th>\n",
              "      <th>required_experience_ind</th>\n",
              "      <th>required_education_ind</th>\n",
              "      <th>industry_ind</th>\n",
              "      <th>function_ind</th>\n",
              "    </tr>\n",
              "  </thead>\n",
              "  <tbody>\n",
              "    <tr>\n",
              "      <th>144</th>\n",
              "      <td>0</td>\n",
              "      <td>1</td>\n",
              "      <td>0</td>\n",
              "      <td>0</td>\n",
              "      <td>0</td>\n",
              "      <td>1</td>\n",
              "      <td>1</td>\n",
              "      <td>1</td>\n",
              "      <td>1</td>\n",
              "      <td>1</td>\n",
              "      <td>1</td>\n",
              "      <td>1</td>\n",
              "      <td>1</td>\n",
              "      <td>1</td>\n",
              "    </tr>\n",
              "    <tr>\n",
              "      <th>2663</th>\n",
              "      <td>0</td>\n",
              "      <td>1</td>\n",
              "      <td>1</td>\n",
              "      <td>0</td>\n",
              "      <td>0</td>\n",
              "      <td>1</td>\n",
              "      <td>1</td>\n",
              "      <td>1</td>\n",
              "      <td>1</td>\n",
              "      <td>1</td>\n",
              "      <td>1</td>\n",
              "      <td>0</td>\n",
              "      <td>1</td>\n",
              "      <td>1</td>\n",
              "    </tr>\n",
              "    <tr>\n",
              "      <th>10005</th>\n",
              "      <td>0</td>\n",
              "      <td>0</td>\n",
              "      <td>1</td>\n",
              "      <td>1</td>\n",
              "      <td>0</td>\n",
              "      <td>0</td>\n",
              "      <td>1</td>\n",
              "      <td>1</td>\n",
              "      <td>0</td>\n",
              "      <td>0</td>\n",
              "      <td>0</td>\n",
              "      <td>0</td>\n",
              "      <td>0</td>\n",
              "      <td>0</td>\n",
              "    </tr>\n",
              "    <tr>\n",
              "      <th>13607</th>\n",
              "      <td>0</td>\n",
              "      <td>1</td>\n",
              "      <td>1</td>\n",
              "      <td>1</td>\n",
              "      <td>0</td>\n",
              "      <td>1</td>\n",
              "      <td>1</td>\n",
              "      <td>1</td>\n",
              "      <td>1</td>\n",
              "      <td>1</td>\n",
              "      <td>1</td>\n",
              "      <td>1</td>\n",
              "      <td>1</td>\n",
              "      <td>1</td>\n",
              "    </tr>\n",
              "    <tr>\n",
              "      <th>4894</th>\n",
              "      <td>0</td>\n",
              "      <td>0</td>\n",
              "      <td>1</td>\n",
              "      <td>0</td>\n",
              "      <td>0</td>\n",
              "      <td>1</td>\n",
              "      <td>1</td>\n",
              "      <td>1</td>\n",
              "      <td>0</td>\n",
              "      <td>1</td>\n",
              "      <td>1</td>\n",
              "      <td>0</td>\n",
              "      <td>1</td>\n",
              "      <td>1</td>\n",
              "    </tr>\n",
              "  </tbody>\n",
              "</table>\n",
              "</div>"
            ],
            "text/plain": [
              "       telecommuting  has_company_logo  ...  industry_ind  function_ind\n",
              "144                0                 1  ...             1             1\n",
              "2663               0                 1  ...             1             1\n",
              "10005              0                 0  ...             0             0\n",
              "13607              0                 1  ...             1             1\n",
              "4894               0                 0  ...             1             1\n",
              "\n",
              "[5 rows x 14 columns]"
            ]
          },
          "metadata": {
            "tags": []
          },
          "execution_count": 11
        }
      ]
    },
    {
      "cell_type": "markdown",
      "metadata": {
        "id": "2-LyhyCDSCdz"
      },
      "source": [
        "### Model 1: Train Model Directly (disregarding imbalanced nature of dataset"
      ]
    },
    {
      "cell_type": "code",
      "metadata": {
        "id": "qujW37JaSK5u"
      },
      "source": [
        "# Train Random Forest Classifier\r\n",
        "class_weight=dict({0:1,1:19})\r\n",
        "\r\n",
        "# Function for results\r\n",
        "def print_results(results):\r\n",
        "    print('BEST PARAMS: {}\\n'.format(results.best_params_))\r\n",
        "\r\n",
        "    means = results.cv_results_['mean_test_score']\r\n",
        "    stds = results.cv_results_['std_test_score']\r\n",
        "    for mean, std, params in zip(means, stds, results.cv_results_['params']):\r\n",
        "        print('{} (+/-{}) for {}'.format(round(mean, 3), round(std * 2, 3), params))"
      ],
      "execution_count": 49,
      "outputs": []
    },
    {
      "cell_type": "code",
      "metadata": {
        "colab": {
          "base_uri": "https://localhost:8080/"
        },
        "id": "mFapdEB-Y1s9",
        "outputId": "76a5de6b-ce0a-4c06-ed13-c6b30ea63cd3"
      },
      "source": [
        "# Train model\r\n",
        "from sklearn.ensemble import RandomForestClassifier\r\n",
        "classifier=RandomForestClassifier( class_weight=class_weight)\r\n",
        "classifier\r\n"
      ],
      "execution_count": 50,
      "outputs": [
        {
          "output_type": "execute_result",
          "data": {
            "text/plain": [
              "RandomForestClassifier(bootstrap=True, ccp_alpha=0.0,\n",
              "                       class_weight={0: 1, 1: 19}, criterion='gini',\n",
              "                       max_depth=None, max_features='auto', max_leaf_nodes=None,\n",
              "                       max_samples=None, min_impurity_decrease=0.0,\n",
              "                       min_impurity_split=None, min_samples_leaf=1,\n",
              "                       min_samples_split=2, min_weight_fraction_leaf=0.0,\n",
              "                       n_estimators=100, n_jobs=None, oob_score=False,\n",
              "                       random_state=None, verbose=0, warm_start=False)"
            ]
          },
          "metadata": {
            "tags": []
          },
          "execution_count": 50
        }
      ]
    },
    {
      "cell_type": "code",
      "metadata": {
        "colab": {
          "base_uri": "https://localhost:8080/"
        },
        "id": "DU9R7UDgZGfQ",
        "outputId": "4adebbb4-c238-40bb-b009-b0a279c47bff"
      },
      "source": [
        "# Perform K-Fold CV and hyperparameter tuning\r\n",
        "parameters = {\r\n",
        "    'n_estimators': [100, 200, 500],\r\n",
        "    'criterion': ['gini', 'entropy']\r\n",
        "}\r\n",
        "\r\n",
        "cv = GridSearchCV(classifier, parameters, cv=5)\r\n",
        "cv.fit(X_train, y_train)\r\n",
        "\r\n",
        "print_results(cv)"
      ],
      "execution_count": 51,
      "outputs": [
        {
          "output_type": "stream",
          "text": [
            "BEST PARAMS: {'criterion': 'entropy', 'n_estimators': 100}\n",
            "\n",
            "0.858 (+/-0.046) for {'criterion': 'gini', 'n_estimators': 100}\n",
            "0.858 (+/-0.046) for {'criterion': 'gini', 'n_estimators': 200}\n",
            "0.857 (+/-0.046) for {'criterion': 'gini', 'n_estimators': 500}\n",
            "0.868 (+/-0.012) for {'criterion': 'entropy', 'n_estimators': 100}\n",
            "0.856 (+/-0.044) for {'criterion': 'entropy', 'n_estimators': 200}\n",
            "0.857 (+/-0.044) for {'criterion': 'entropy', 'n_estimators': 500}\n"
          ],
          "name": "stdout"
        }
      ]
    },
    {
      "cell_type": "code",
      "metadata": {
        "colab": {
          "base_uri": "https://localhost:8080/"
        },
        "id": "aOtwhf9kaVhH",
        "outputId": "5a00f035-6632-434d-85b6-bfcb8cddf6e9"
      },
      "source": [
        "# Save best model\r\n",
        "model_1 = cv.best_estimator_\r\n",
        "model_1"
      ],
      "execution_count": 53,
      "outputs": [
        {
          "output_type": "execute_result",
          "data": {
            "text/plain": [
              "RandomForestClassifier(bootstrap=True, ccp_alpha=0.0,\n",
              "                       class_weight={0: 1, 1: 19}, criterion='entropy',\n",
              "                       max_depth=None, max_features='auto', max_leaf_nodes=None,\n",
              "                       max_samples=None, min_impurity_decrease=0.0,\n",
              "                       min_impurity_split=None, min_samples_leaf=1,\n",
              "                       min_samples_split=2, min_weight_fraction_leaf=0.0,\n",
              "                       n_estimators=100, n_jobs=None, oob_score=False,\n",
              "                       random_state=None, verbose=0, warm_start=False)"
            ]
          },
          "metadata": {
            "tags": []
          },
          "execution_count": 53
        }
      ]
    },
    {
      "cell_type": "code",
      "metadata": {
        "colab": {
          "base_uri": "https://localhost:8080/"
        },
        "id": "iznm7fAFaiaC",
        "outputId": "62265738-dc44-4b7c-8555-fa55936b17c9"
      },
      "source": [
        "# Make prediction and print metrics\r\n",
        "from sklearn.metrics import confusion_matrix, accuracy_score, classification_report,roc_auc_score\r\n",
        "y_pred=model_1.predict(X_valid)\r\n",
        "y_pred_proba = model_1.predict_proba(X_valid)\r\n",
        "print( confusion_matrix(y_valid,y_pred))\r\n",
        "print(\"The accuracy score is :\", accuracy_score(y_valid,y_pred))\r\n",
        "print( classification_report(y_valid,y_pred))\r\n",
        "print(\"The roc_auc_score is :\",roc_auc_score(y_valid, model_1.predict_proba(X_valid)[:, 1]) )"
      ],
      "execution_count": 54,
      "outputs": [
        {
          "output_type": "stream",
          "text": [
            "[[2372  354]\n",
            " [  36   99]]\n",
            "The accuracy score is : 0.8636840265641385\n",
            "              precision    recall  f1-score   support\n",
            "\n",
            "           0       0.99      0.87      0.92      2726\n",
            "           1       0.22      0.73      0.34       135\n",
            "\n",
            "    accuracy                           0.86      2861\n",
            "   macro avg       0.60      0.80      0.63      2861\n",
            "weighted avg       0.95      0.86      0.90      2861\n",
            "\n",
            "The roc_auc_score is : 0.8732317056601723\n"
          ],
          "name": "stdout"
        }
      ]
    },
    {
      "cell_type": "code",
      "metadata": {
        "colab": {
          "base_uri": "https://localhost:8080/"
        },
        "id": "FyoWcHoda1ft",
        "outputId": "b0b0d4c4-bce3-4ce8-b2ec-11c11972662e"
      },
      "source": [
        "print(np.concatenate((y_pred.reshape(len(y_pred),1), y_valid.reshape(len(y_valid),1)),1))"
      ],
      "execution_count": 55,
      "outputs": [
        {
          "output_type": "stream",
          "text": [
            "[[1 0]\n",
            " [0 0]\n",
            " [0 0]\n",
            " ...\n",
            " [0 0]\n",
            " [0 0]\n",
            " [0 0]]\n"
          ],
          "name": "stdout"
        }
      ]
    },
    {
      "cell_type": "markdown",
      "metadata": {
        "id": "Rxr9CL36VCiL"
      },
      "source": [
        "### Model 2: Random Oversampling"
      ]
    },
    {
      "cell_type": "code",
      "metadata": {
        "colab": {
          "base_uri": "https://localhost:8080/"
        },
        "id": "ypAfS4TBVQzZ",
        "outputId": "f45196bb-2935-4ac1-a5d9-fd98d11ded5c"
      },
      "source": [
        "# Random Oversampling method\r\n",
        "from collections import Counter\r\n",
        "from imblearn.over_sampling import RandomOverSampler\r\n",
        "os=RandomOverSampler(0.75)\r\n",
        "X_os,y_os=os.fit_sample(X, y)\r\n",
        "\r\n",
        "print(\"The number of classes before fit {}\".format(Counter(y_train)))\r\n",
        "print(\"The number of classes after fit {}\".format(Counter(y_os)))"
      ],
      "execution_count": 56,
      "outputs": [
        {
          "output_type": "stream",
          "text": [
            "The number of classes before fit Counter({0: 10869, 1: 574})\n",
            "The number of classes after fit Counter({0: 13595, 1: 10196})\n"
          ],
          "name": "stdout"
        },
        {
          "output_type": "stream",
          "text": [
            "/usr/local/lib/python3.6/dist-packages/sklearn/utils/deprecation.py:87: FutureWarning: Function safe_indexing is deprecated; safe_indexing is deprecated in version 0.22 and will be removed in version 0.24.\n",
            "  warnings.warn(msg, category=FutureWarning)\n"
          ],
          "name": "stderr"
        }
      ]
    },
    {
      "cell_type": "code",
      "metadata": {
        "colab": {
          "base_uri": "https://localhost:8080/"
        },
        "id": "IGa7zrZOVyfx",
        "outputId": "6f179d89-67ec-406e-e257-bddd5910bd25"
      },
      "source": [
        "# Break off validation set from training data\r\n",
        "from sklearn.model_selection import train_test_split\r\n",
        "X_train_os, X_valid_os, y_train_os, y_valid_os = train_test_split(X_os, y_os,train_size=0.8, test_size=0.2, random_state=0)\r\n",
        "\r\n",
        "# Train Random Forest Classifier\r\n",
        "from sklearn.ensemble import RandomForestClassifier\r\n",
        "classifier2=RandomForestClassifier()\r\n",
        "# Perform K-Fold CV and hyperparameter tuning\r\n",
        "parameters = {\r\n",
        "    'n_estimators': [100, 200, 500],\r\n",
        "    'criterion': ['gini', 'entropy']\r\n",
        "}\r\n",
        "\r\n",
        "cv2 = GridSearchCV(classifier2, parameters, cv=5)\r\n",
        "cv2.fit(X_train_os, y_train_os)\r\n",
        "\r\n",
        "print_results(cv2)"
      ],
      "execution_count": 57,
      "outputs": [
        {
          "output_type": "stream",
          "text": [
            "BEST PARAMS: {'criterion': 'gini', 'n_estimators': 500}\n",
            "\n",
            "0.847 (+/-0.011) for {'criterion': 'gini', 'n_estimators': 100}\n",
            "0.847 (+/-0.011) for {'criterion': 'gini', 'n_estimators': 200}\n",
            "0.848 (+/-0.011) for {'criterion': 'gini', 'n_estimators': 500}\n",
            "0.847 (+/-0.011) for {'criterion': 'entropy', 'n_estimators': 100}\n",
            "0.847 (+/-0.012) for {'criterion': 'entropy', 'n_estimators': 200}\n",
            "0.848 (+/-0.01) for {'criterion': 'entropy', 'n_estimators': 500}\n"
          ],
          "name": "stdout"
        }
      ]
    },
    {
      "cell_type": "code",
      "metadata": {
        "colab": {
          "base_uri": "https://localhost:8080/"
        },
        "id": "6fn7iGrfcB_U",
        "outputId": "005ee8fc-5bb2-43f3-90fc-d6168eee57ec"
      },
      "source": [
        "# Save best model\r\n",
        "model_2 = cv2.best_estimator_\r\n",
        "model_2"
      ],
      "execution_count": 58,
      "outputs": [
        {
          "output_type": "execute_result",
          "data": {
            "text/plain": [
              "RandomForestClassifier(bootstrap=True, ccp_alpha=0.0, class_weight=None,\n",
              "                       criterion='gini', max_depth=None, max_features='auto',\n",
              "                       max_leaf_nodes=None, max_samples=None,\n",
              "                       min_impurity_decrease=0.0, min_impurity_split=None,\n",
              "                       min_samples_leaf=1, min_samples_split=2,\n",
              "                       min_weight_fraction_leaf=0.0, n_estimators=500,\n",
              "                       n_jobs=None, oob_score=False, random_state=None,\n",
              "                       verbose=0, warm_start=False)"
            ]
          },
          "metadata": {
            "tags": []
          },
          "execution_count": 58
        }
      ]
    },
    {
      "cell_type": "code",
      "metadata": {
        "colab": {
          "base_uri": "https://localhost:8080/"
        },
        "id": "Er3g1LAOV7Gl",
        "outputId": "caa8c30f-d747-4b44-fc91-50c27057c770"
      },
      "source": [
        "# Make prediction and print metrics\r\n",
        "from sklearn.metrics import confusion_matrix, accuracy_score, classification_report,roc_auc_score\r\n",
        "y_pred=model_2.predict(X_valid_os)\r\n",
        "y_pred_proba = model_2.predict_proba(X_valid_os)\r\n",
        "print( confusion_matrix(y_valid_os,y_pred))\r\n",
        "print(\"The accuracy score is :\", accuracy_score(y_valid_os,y_pred))\r\n",
        "print( classification_report(y_valid_os,y_pred))\r\n",
        "print(\"The roc_auc_score is :\",roc_auc_score(y_valid_os, model_2.predict_proba(X_valid_os)[:, 1]) )"
      ],
      "execution_count": 59,
      "outputs": [
        {
          "output_type": "stream",
          "text": [
            "[[2386  343]\n",
            " [ 337 1693]]\n",
            "The accuracy score is : 0.8571128388316873\n",
            "              precision    recall  f1-score   support\n",
            "\n",
            "           0       0.88      0.87      0.88      2729\n",
            "           1       0.83      0.83      0.83      2030\n",
            "\n",
            "    accuracy                           0.86      4759\n",
            "   macro avg       0.85      0.85      0.85      4759\n",
            "weighted avg       0.86      0.86      0.86      4759\n",
            "\n",
            "The roc_auc_score is : 0.9366509502930573\n"
          ],
          "name": "stdout"
        }
      ]
    },
    {
      "cell_type": "code",
      "metadata": {
        "colab": {
          "base_uri": "https://localhost:8080/"
        },
        "id": "EPql_If4WxT6",
        "outputId": "cbaf0a4e-4843-4516-9d18-de6f8fef1edd"
      },
      "source": [
        "print(np.concatenate((y_pred.reshape(len(y_pred),1), y_valid_os.reshape(len(y_valid_os),1)),1))"
      ],
      "execution_count": 60,
      "outputs": [
        {
          "output_type": "stream",
          "text": [
            "[[0 0]\n",
            " [0 0]\n",
            " [0 0]\n",
            " ...\n",
            " [1 1]\n",
            " [1 1]\n",
            " [0 0]]\n"
          ],
          "name": "stdout"
        }
      ]
    },
    {
      "cell_type": "markdown",
      "metadata": {
        "id": "WgcHH0QzW8MO"
      },
      "source": [
        "### Model 3: SMOTEK"
      ]
    },
    {
      "cell_type": "code",
      "metadata": {
        "colab": {
          "base_uri": "https://localhost:8080/"
        },
        "id": "GMGl8KlFXHYX",
        "outputId": "41c6a047-b39e-432c-e2e5-bc9dddfaecd5"
      },
      "source": [
        "# Oversampling method \r\n",
        "# Class to perform over-sampling using SMOTE and cleaning using Tomek links.\r\n",
        "\r\n",
        "from imblearn.combine import SMOTETomek\r\n",
        "smk = SMOTETomek(random_state=0)\r\n",
        "X_sm,y_sm = smk.fit_sample(X,y)\r\n",
        "\r\n",
        "# Inspect resampled dataset\r\n",
        "from collections import Counter\r\n",
        "print('Original dataset shape %s' % Counter(y))\r\n",
        "print('Resampled dataset shape %s' % Counter(y_sm))"
      ],
      "execution_count": 61,
      "outputs": [
        {
          "output_type": "stream",
          "text": [
            "/usr/local/lib/python3.6/dist-packages/sklearn/utils/deprecation.py:87: FutureWarning: Function safe_indexing is deprecated; safe_indexing is deprecated in version 0.22 and will be removed in version 0.24.\n",
            "  warnings.warn(msg, category=FutureWarning)\n"
          ],
          "name": "stderr"
        },
        {
          "output_type": "stream",
          "text": [
            "Original dataset shape Counter({0: 13595, 1: 709})\n",
            "Resampled dataset shape Counter({0: 13595, 1: 13595})\n"
          ],
          "name": "stdout"
        },
        {
          "output_type": "stream",
          "text": [
            "/usr/local/lib/python3.6/dist-packages/sklearn/utils/deprecation.py:87: FutureWarning: Function safe_indexing is deprecated; safe_indexing is deprecated in version 0.22 and will be removed in version 0.24.\n",
            "  warnings.warn(msg, category=FutureWarning)\n"
          ],
          "name": "stderr"
        }
      ]
    },
    {
      "cell_type": "code",
      "metadata": {
        "colab": {
          "base_uri": "https://localhost:8080/"
        },
        "id": "l_jY4QAIXiNk",
        "outputId": "4e71de2b-9eeb-4349-ac51-13e6ec976770"
      },
      "source": [
        "# Break off validation set from training data\r\n",
        "from sklearn.model_selection import train_test_split\r\n",
        "X_train_sm, X_valid_sm, y_train_sm, y_valid_sm = train_test_split(X_sm, y_sm,train_size=0.8, test_size=0.2, random_state=0)\r\n",
        "\r\n",
        "# Train Random Forest Classifier\r\n",
        "from sklearn.ensemble import RandomForestClassifier\r\n",
        "classifier3=RandomForestClassifier()\r\n",
        "# Perform K-Fold CV and hyperparameter tuning\r\n",
        "parameters = {\r\n",
        "    'n_estimators': [100, 200, 500],\r\n",
        "    'criterion': ['gini', 'entropy']\r\n",
        "}\r\n",
        "\r\n",
        "cv3 = GridSearchCV(classifier3, parameters, cv=5)\r\n",
        "cv3.fit(X_train_sm, y_train_sm)\r\n",
        "\r\n",
        "print_results(cv3)"
      ],
      "execution_count": 63,
      "outputs": [
        {
          "output_type": "stream",
          "text": [
            "BEST PARAMS: {'criterion': 'entropy', 'n_estimators': 200}\n",
            "\n",
            "0.849 (+/-0.014) for {'criterion': 'gini', 'n_estimators': 100}\n",
            "0.849 (+/-0.013) for {'criterion': 'gini', 'n_estimators': 200}\n",
            "0.849 (+/-0.014) for {'criterion': 'gini', 'n_estimators': 500}\n",
            "0.849 (+/-0.014) for {'criterion': 'entropy', 'n_estimators': 100}\n",
            "0.849 (+/-0.013) for {'criterion': 'entropy', 'n_estimators': 200}\n",
            "0.848 (+/-0.013) for {'criterion': 'entropy', 'n_estimators': 500}\n"
          ],
          "name": "stdout"
        }
      ]
    },
    {
      "cell_type": "code",
      "metadata": {
        "colab": {
          "base_uri": "https://localhost:8080/"
        },
        "id": "kujiIyzBdCR5",
        "outputId": "9d59c276-ba13-4723-9be5-96dd90fec745"
      },
      "source": [
        "# Save best model\r\n",
        "model_3 = cv3.best_estimator_\r\n",
        "model_3"
      ],
      "execution_count": 64,
      "outputs": [
        {
          "output_type": "execute_result",
          "data": {
            "text/plain": [
              "RandomForestClassifier(bootstrap=True, ccp_alpha=0.0, class_weight=None,\n",
              "                       criterion='entropy', max_depth=None, max_features='auto',\n",
              "                       max_leaf_nodes=None, max_samples=None,\n",
              "                       min_impurity_decrease=0.0, min_impurity_split=None,\n",
              "                       min_samples_leaf=1, min_samples_split=2,\n",
              "                       min_weight_fraction_leaf=0.0, n_estimators=200,\n",
              "                       n_jobs=None, oob_score=False, random_state=None,\n",
              "                       verbose=0, warm_start=False)"
            ]
          },
          "metadata": {
            "tags": []
          },
          "execution_count": 64
        }
      ]
    },
    {
      "cell_type": "code",
      "metadata": {
        "colab": {
          "base_uri": "https://localhost:8080/"
        },
        "id": "4inUHQc6Xo5L",
        "outputId": "9d393242-c911-4335-e91b-8fbd53b6c6e7"
      },
      "source": [
        "# Make prediction and print metrics\r\n",
        "from sklearn.metrics import confusion_matrix, accuracy_score, classification_report,roc_auc_score\r\n",
        "y_pred=model_3.predict(X_valid_sm)\r\n",
        "y_pred_proba = model_3.predict_proba(X_valid_sm)\r\n",
        "print( confusion_matrix(y_valid_sm,y_pred))\r\n",
        "print(\"The accuracy score is :\", accuracy_score(y_valid_sm,y_pred))\r\n",
        "print( classification_report(y_valid_sm,y_pred))\r\n",
        "print(\"The roc_auc_score is :\",roc_auc_score(y_valid_sm, model_3.predict_proba(X_valid_sm)[:, 1]) )"
      ],
      "execution_count": 65,
      "outputs": [
        {
          "output_type": "stream",
          "text": [
            "[[2313  346]\n",
            " [ 451 2328]]\n",
            "The accuracy score is : 0.8534387642515631\n",
            "              precision    recall  f1-score   support\n",
            "\n",
            "           0       0.84      0.87      0.85      2659\n",
            "           1       0.87      0.84      0.85      2779\n",
            "\n",
            "    accuracy                           0.85      5438\n",
            "   macro avg       0.85      0.85      0.85      5438\n",
            "weighted avg       0.85      0.85      0.85      5438\n",
            "\n",
            "The roc_auc_score is : 0.9376843275081568\n"
          ],
          "name": "stdout"
        }
      ]
    },
    {
      "cell_type": "markdown",
      "metadata": {
        "id": "V1Dp2MSVd69k"
      },
      "source": [
        "### Model 4: Under Sampling"
      ]
    },
    {
      "cell_type": "code",
      "metadata": {
        "colab": {
          "base_uri": "https://localhost:8080/"
        },
        "id": "rT2DLhR0d_m2",
        "outputId": "5ca60a94-4f88-42e1-c027-a0ef3bba9fe1"
      },
      "source": [
        "# Undersampling method \r\n",
        "from collections import Counter\r\n",
        "from imblearn.under_sampling import NearMiss\r\n",
        "ns=NearMiss(0.8)\r\n",
        "X_ns,y_ns=ns.fit_sample(X,y)\r\n",
        "print(\"The number of classes before fit {}\".format(Counter(y)))\r\n",
        "print(\"The number of classes after fit {}\".format(Counter(y_ns)))"
      ],
      "execution_count": 66,
      "outputs": [
        {
          "output_type": "stream",
          "text": [
            "/usr/local/lib/python3.6/dist-packages/sklearn/utils/deprecation.py:87: FutureWarning: Function safe_indexing is deprecated; safe_indexing is deprecated in version 0.22 and will be removed in version 0.24.\n",
            "  warnings.warn(msg, category=FutureWarning)\n",
            "/usr/local/lib/python3.6/dist-packages/sklearn/utils/deprecation.py:87: FutureWarning: Function safe_indexing is deprecated; safe_indexing is deprecated in version 0.22 and will be removed in version 0.24.\n",
            "  warnings.warn(msg, category=FutureWarning)\n"
          ],
          "name": "stderr"
        },
        {
          "output_type": "stream",
          "text": [
            "The number of classes before fit Counter({0: 13595, 1: 709})\n",
            "The number of classes after fit Counter({0: 886, 1: 709})\n"
          ],
          "name": "stdout"
        },
        {
          "output_type": "stream",
          "text": [
            "/usr/local/lib/python3.6/dist-packages/sklearn/utils/deprecation.py:87: FutureWarning: Function safe_indexing is deprecated; safe_indexing is deprecated in version 0.22 and will be removed in version 0.24.\n",
            "  warnings.warn(msg, category=FutureWarning)\n"
          ],
          "name": "stderr"
        }
      ]
    },
    {
      "cell_type": "code",
      "metadata": {
        "colab": {
          "base_uri": "https://localhost:8080/"
        },
        "id": "9mXA5LoreV8s",
        "outputId": "935d224a-44d6-477c-b5a8-ee2f7a7cb466"
      },
      "source": [
        "# Break off validation set from training data\r\n",
        "from sklearn.model_selection import train_test_split\r\n",
        "X_train_ns, X_valid_ns, y_train_ns, y_valid_ns = train_test_split(X_ns, y_ns,train_size=0.8, test_size=0.2, random_state=0)\r\n",
        "\r\n",
        "# Train Random Forest Classifier\r\n",
        "from sklearn.ensemble import RandomForestClassifier\r\n",
        "classifier4=RandomForestClassifier()\r\n",
        "\r\n",
        "# Perform K-Fold CV and hyperparameter tuning\r\n",
        "parameters = {\r\n",
        "    'n_estimators': [100, 200, 500],\r\n",
        "    'criterion': ['gini', 'entropy']\r\n",
        "}\r\n",
        "\r\n",
        "cv4 = GridSearchCV(classifier4, parameters, cv=5)\r\n",
        "cv4.fit(X_train_ns, y_train_ns)\r\n",
        "\r\n",
        "print_results(cv4)"
      ],
      "execution_count": 67,
      "outputs": [
        {
          "output_type": "stream",
          "text": [
            "BEST PARAMS: {'criterion': 'gini', 'n_estimators': 200}\n",
            "\n",
            "0.809 (+/-0.047) for {'criterion': 'gini', 'n_estimators': 100}\n",
            "0.814 (+/-0.049) for {'criterion': 'gini', 'n_estimators': 200}\n",
            "0.808 (+/-0.051) for {'criterion': 'gini', 'n_estimators': 500}\n",
            "0.812 (+/-0.051) for {'criterion': 'entropy', 'n_estimators': 100}\n",
            "0.812 (+/-0.051) for {'criterion': 'entropy', 'n_estimators': 200}\n",
            "0.811 (+/-0.051) for {'criterion': 'entropy', 'n_estimators': 500}\n"
          ],
          "name": "stdout"
        }
      ]
    },
    {
      "cell_type": "code",
      "metadata": {
        "colab": {
          "base_uri": "https://localhost:8080/"
        },
        "id": "2cngQNeRer3T",
        "outputId": "634035d6-580e-48da-91d2-189607a2128b"
      },
      "source": [
        "# Save best model\r\n",
        "model_4 = cv4.best_estimator_\r\n",
        "model_4"
      ],
      "execution_count": 68,
      "outputs": [
        {
          "output_type": "execute_result",
          "data": {
            "text/plain": [
              "RandomForestClassifier(bootstrap=True, ccp_alpha=0.0, class_weight=None,\n",
              "                       criterion='gini', max_depth=None, max_features='auto',\n",
              "                       max_leaf_nodes=None, max_samples=None,\n",
              "                       min_impurity_decrease=0.0, min_impurity_split=None,\n",
              "                       min_samples_leaf=1, min_samples_split=2,\n",
              "                       min_weight_fraction_leaf=0.0, n_estimators=200,\n",
              "                       n_jobs=None, oob_score=False, random_state=None,\n",
              "                       verbose=0, warm_start=False)"
            ]
          },
          "metadata": {
            "tags": []
          },
          "execution_count": 68
        }
      ]
    },
    {
      "cell_type": "code",
      "metadata": {
        "colab": {
          "base_uri": "https://localhost:8080/"
        },
        "id": "hyqDBsMuezAf",
        "outputId": "c90d4e43-eaef-4ea2-dd5d-8b2d2cdf0be9"
      },
      "source": [
        "# Make prediction and print metrics\r\n",
        "from sklearn.metrics import confusion_matrix, accuracy_score, classification_report,roc_auc_score\r\n",
        "y_pred=model_4.predict(X_valid_ns)\r\n",
        "y_pred_proba = model_4.predict_proba(X_valid_ns)\r\n",
        "print( confusion_matrix(y_valid_ns,y_pred))\r\n",
        "print(\"The accuracy score is :\", accuracy_score(y_valid_ns,y_pred))\r\n",
        "print( classification_report(y_valid_ns,y_pred))\r\n",
        "print(\"The roc_auc_score is :\",roc_auc_score(y_valid_ns, model_4.predict_proba(X_valid_ns)[:, 1]) )"
      ],
      "execution_count": 69,
      "outputs": [
        {
          "output_type": "stream",
          "text": [
            "[[159  15]\n",
            " [ 50  95]]\n",
            "The accuracy score is : 0.7962382445141066\n",
            "              precision    recall  f1-score   support\n",
            "\n",
            "           0       0.76      0.91      0.83       174\n",
            "           1       0.86      0.66      0.75       145\n",
            "\n",
            "    accuracy                           0.80       319\n",
            "   macro avg       0.81      0.78      0.79       319\n",
            "weighted avg       0.81      0.80      0.79       319\n",
            "\n",
            "The roc_auc_score is : 0.8547364248910028\n"
          ],
          "name": "stdout"
        }
      ]
    },
    {
      "cell_type": "markdown",
      "metadata": {
        "id": "U-jc6I-AfRWT"
      },
      "source": [
        "### Save best Random Forest Model\r\n"
      ]
    },
    {
      "cell_type": "code",
      "metadata": {
        "id": "LiNpKE0ffYRI"
      },
      "source": [
        "# Save model as a pickle file\r\n",
        "import pickle\r\n",
        "filename = 'random_forest.pickle'\r\n",
        "pickle.dump(model_2, open(filename, 'wb'))"
      ],
      "execution_count": 70,
      "outputs": []
    },
    {
      "cell_type": "markdown",
      "metadata": {
        "id": "vJD1-87Ff2tK"
      },
      "source": [
        "## Make prediction on test set with best model"
      ]
    },
    {
      "cell_type": "code",
      "metadata": {
        "colab": {
          "base_uri": "https://localhost:8080/",
          "height": 215
        },
        "id": "m6o0mVaKfxI1",
        "outputId": "bbdf5444-320b-4097-9e18-beca768e0eb0"
      },
      "source": [
        "# Best model was obtained with random over sampling method\r\n",
        "column_names = X.columns\r\n",
        "dataset_test = df_test[column_names]\r\n",
        "\r\n",
        "dataset_test.head()"
      ],
      "execution_count": 76,
      "outputs": [
        {
          "output_type": "execute_result",
          "data": {
            "text/html": [
              "<div>\n",
              "<style scoped>\n",
              "    .dataframe tbody tr th:only-of-type {\n",
              "        vertical-align: middle;\n",
              "    }\n",
              "\n",
              "    .dataframe tbody tr th {\n",
              "        vertical-align: top;\n",
              "    }\n",
              "\n",
              "    .dataframe thead th {\n",
              "        text-align: right;\n",
              "    }\n",
              "</style>\n",
              "<table border=\"1\" class=\"dataframe\">\n",
              "  <thead>\n",
              "    <tr style=\"text-align: right;\">\n",
              "      <th></th>\n",
              "      <th>telecommuting</th>\n",
              "      <th>has_company_logo</th>\n",
              "      <th>has_questions</th>\n",
              "      <th>department_ind</th>\n",
              "      <th>salary_range_ind</th>\n",
              "      <th>company_profile_ind</th>\n",
              "      <th>description_ind</th>\n",
              "      <th>requirements_ind</th>\n",
              "      <th>benefits_ind</th>\n",
              "      <th>employment_type_ind</th>\n",
              "      <th>required_experience_ind</th>\n",
              "      <th>required_education_ind</th>\n",
              "      <th>industry_ind</th>\n",
              "      <th>function_ind</th>\n",
              "    </tr>\n",
              "  </thead>\n",
              "  <tbody>\n",
              "    <tr>\n",
              "      <th>0</th>\n",
              "      <td>0</td>\n",
              "      <td>1</td>\n",
              "      <td>1</td>\n",
              "      <td>1</td>\n",
              "      <td>0</td>\n",
              "      <td>1</td>\n",
              "      <td>1</td>\n",
              "      <td>1</td>\n",
              "      <td>1</td>\n",
              "      <td>1</td>\n",
              "      <td>1</td>\n",
              "      <td>0</td>\n",
              "      <td>1</td>\n",
              "      <td>0</td>\n",
              "    </tr>\n",
              "    <tr>\n",
              "      <th>1</th>\n",
              "      <td>0</td>\n",
              "      <td>1</td>\n",
              "      <td>1</td>\n",
              "      <td>1</td>\n",
              "      <td>0</td>\n",
              "      <td>1</td>\n",
              "      <td>1</td>\n",
              "      <td>1</td>\n",
              "      <td>1</td>\n",
              "      <td>1</td>\n",
              "      <td>1</td>\n",
              "      <td>0</td>\n",
              "      <td>0</td>\n",
              "      <td>1</td>\n",
              "    </tr>\n",
              "    <tr>\n",
              "      <th>2</th>\n",
              "      <td>0</td>\n",
              "      <td>0</td>\n",
              "      <td>0</td>\n",
              "      <td>0</td>\n",
              "      <td>1</td>\n",
              "      <td>1</td>\n",
              "      <td>1</td>\n",
              "      <td>0</td>\n",
              "      <td>0</td>\n",
              "      <td>1</td>\n",
              "      <td>1</td>\n",
              "      <td>1</td>\n",
              "      <td>1</td>\n",
              "      <td>1</td>\n",
              "    </tr>\n",
              "    <tr>\n",
              "      <th>3</th>\n",
              "      <td>0</td>\n",
              "      <td>0</td>\n",
              "      <td>0</td>\n",
              "      <td>1</td>\n",
              "      <td>0</td>\n",
              "      <td>0</td>\n",
              "      <td>1</td>\n",
              "      <td>1</td>\n",
              "      <td>1</td>\n",
              "      <td>0</td>\n",
              "      <td>0</td>\n",
              "      <td>0</td>\n",
              "      <td>0</td>\n",
              "      <td>0</td>\n",
              "    </tr>\n",
              "    <tr>\n",
              "      <th>4</th>\n",
              "      <td>0</td>\n",
              "      <td>1</td>\n",
              "      <td>0</td>\n",
              "      <td>0</td>\n",
              "      <td>0</td>\n",
              "      <td>1</td>\n",
              "      <td>1</td>\n",
              "      <td>1</td>\n",
              "      <td>0</td>\n",
              "      <td>1</td>\n",
              "      <td>1</td>\n",
              "      <td>1</td>\n",
              "      <td>1</td>\n",
              "      <td>1</td>\n",
              "    </tr>\n",
              "  </tbody>\n",
              "</table>\n",
              "</div>"
            ],
            "text/plain": [
              "   telecommuting  has_company_logo  ...  industry_ind  function_ind\n",
              "0              0                 1  ...             1             0\n",
              "1              0                 1  ...             0             1\n",
              "2              0                 0  ...             1             1\n",
              "3              0                 0  ...             0             0\n",
              "4              0                 1  ...             1             1\n",
              "\n",
              "[5 rows x 14 columns]"
            ]
          },
          "metadata": {
            "tags": []
          },
          "execution_count": 76
        }
      ]
    },
    {
      "cell_type": "code",
      "metadata": {
        "colab": {
          "base_uri": "https://localhost:8080/"
        },
        "id": "pVXnV1Z-g2BD",
        "outputId": "e275cd86-a567-4c66-b0b5-d3bd9dc5b2ec"
      },
      "source": [
        "# Make prediction\r\n",
        "X_test = dataset_test.values\r\n",
        "\r\n",
        "loaded_model = pickle.load(open('random_forest.pickle', 'rb'))\r\n",
        "y_hat = loaded_model.predict(X_test)\r\n",
        "y_hat"
      ],
      "execution_count": 77,
      "outputs": [
        {
          "output_type": "execute_result",
          "data": {
            "text/plain": [
              "array([0, 0, 0, ..., 1, 0, 0])"
            ]
          },
          "metadata": {
            "tags": []
          },
          "execution_count": 77
        }
      ]
    },
    {
      "cell_type": "code",
      "metadata": {
        "id": "P723zeDzhH0P"
      },
      "source": [
        " # Save Numpy array to csv with custom header and footer\r\n",
        "np.savetxt('random_forest_20210122.csv', y_hat, delimiter=',', fmt='%d' , header='Result:: Header', footer='This is footer')"
      ],
      "execution_count": 78,
      "outputs": []
    }
  ]
}